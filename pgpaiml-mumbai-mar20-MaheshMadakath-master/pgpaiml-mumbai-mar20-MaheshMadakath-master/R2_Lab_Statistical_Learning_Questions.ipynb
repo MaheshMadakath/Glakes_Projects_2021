{
 "cells": [
  {
   "cell_type": "code",
   "execution_count": 2,
   "metadata": {
    "colab": {
     "base_uri": "https://localhost:8080/",
     "height": 71
    },
    "colab_type": "code",
    "id": "ea0ttzRzZwcp",
    "outputId": "7336f693-1fb2-478d-f377-916d245295c8"
   },
   "outputs": [],
   "source": [
    "import numpy       as np\n",
    "import pandas      as pd\n",
    "import scipy.stats as stats\n",
    "from scipy.stats             import ttest_1samp,ttest_ind, wilcoxon\n",
    "from statsmodels.stats.power import ttest_power\n",
    "import matplotlib.pyplot     as     plt"
   ]
  },
  {
   "cell_type": "markdown",
   "metadata": {
    "colab_type": "text",
    "id": "QYZr9yOCs4A-"
   },
   "source": [
    "## Q1- Q3 Description-  The data collected by an Advertisement agency has revealed that out of 2800 visitors, 56 visitors clicked on 1 Advertisement, 30 clicked on 2 advertisements and 14 clicked on 3 advertisements and the remaining did not click on any advertisement.\n",
    "\n",
    "Calculate\n",
    "\n",
    "### Q1 The probability that a visitor to the website will not click on any advertisement.\n"
   ]
  },
  {
   "cell_type": "code",
   "execution_count": 18,
   "metadata": {
    "colab": {},
    "colab_type": "code",
    "id": "V7fgNooGyDst"
   },
   "outputs": [
    {
     "name": "stdout",
     "output_type": "stream",
     "text": [
      "Probability that a visitor to the website will not click on any advertisement =  0.9642857142857143\n"
     ]
    }
   ],
   "source": [
    "number_of_visitors = 2800\n",
    "number_of_visitors_who_clicked = 56 +30 + 14\n",
    "number_of_visitors_who_did_not_clicked = 2800 - number_of_visitors_who_clicked\n",
    "P_Will_Not_Click = number_of_visitors_who_did_not_clicked / number_of_visitors\n",
    "print ( 'Probability that a visitor to the website will not click on any advertisement = ', P_Will_Not_Click )"
   ]
  },
  {
   "cell_type": "markdown",
   "metadata": {
    "colab_type": "text",
    "id": "dDaMBGPnwLJA"
   },
   "source": [
    "### Q2 The probability that a visitor to the website will click on an advertisement."
   ]
  },
  {
   "cell_type": "code",
   "execution_count": 19,
   "metadata": {
    "colab": {},
    "colab_type": "code",
    "id": "jN83WUlYyFFF"
   },
   "outputs": [
    {
     "name": "stdout",
     "output_type": "stream",
     "text": [
      "Probability that a visitor to the website will click on an advertisement =  0.0357142857142857\n"
     ]
    }
   ],
   "source": [
    "P_Will_Click = 1 - P_Will_Not_Click\n",
    "print ( 'Probability that a visitor to the website will click on an advertisement = ', P_Will_Click)"
   ]
  },
  {
   "cell_type": "markdown",
   "metadata": {
    "colab_type": "text",
    "id": "x1A8GTBbwP-D"
   },
   "source": [
    "## Q3 The probability that a visitor to the website will click on more than one advertisement."
   ]
  },
  {
   "cell_type": "code",
   "execution_count": 20,
   "metadata": {
    "colab": {},
    "colab_type": "code",
    "id": "W7uYaOR2yGRx"
   },
   "outputs": [
    {
     "name": "stdout",
     "output_type": "stream",
     "text": [
      "Probability that a visitor to the website will click on more than one advertisement =  0.015714285714285715\n"
     ]
    }
   ],
   "source": [
    "number_of_visitors_who_clicked_more_than_one = 30 + 14\n",
    "P_Will_Click_More_Than_One = number_of_visitors_who_clicked_more_than_one / number_of_visitors\n",
    "print ( 'Probability that a visitor to the website will click on more than one advertisement = ', P_Will_Click_More_Than_One)"
   ]
  },
  {
   "cell_type": "markdown",
   "metadata": {
    "colab_type": "text",
    "id": "Bn_1RzXcu-Q5"
   },
   "source": [
    "## Q4 -5 Description - At a popular company service center, a total of 100 complaints were received. 80 customers complained about late delivery of the items and 60 complained about poor product quality.\n",
    "\n",
    "## Q4 Calculate the probability that a customer complaint will be about both product quality and late delivery.\n"
   ]
  },
  {
   "cell_type": "code",
   "execution_count": 23,
   "metadata": {
    "colab": {},
    "colab_type": "code",
    "id": "FkIzX0E9yJcO"
   },
   "outputs": [
    {
     "name": "stdout",
     "output_type": "stream",
     "text": [
      "Probability that a customer complaint will be about both product quality and late delivery = 0.48\n"
     ]
    }
   ],
   "source": [
    "P_A = Probability_of_late_delivery_complaint = 80/100 \n",
    "# Event that customer complaints about late delivery of items/Total complaints\n",
    "P_B = Probability_of_poor_product_quality = 60/100 \n",
    "# Event that customer complaints about poor quality product/Total complaints\n",
    "\n",
    "# Both events being independent we have P(A/B) = P(A) and P(A and B) = P(A/B)*P(B)\n",
    "print ('Probability that a customer complaint will be about both product quality and late delivery =', P_A * P_B)"
   ]
  },
  {
   "cell_type": "markdown",
   "metadata": {
    "colab_type": "text",
    "id": "O_XYI2Atwbuw"
   },
   "source": [
    "## Q5 - What is the probability that a complaint will be only about late delivery?"
   ]
  },
  {
   "cell_type": "code",
   "execution_count": 28,
   "metadata": {
    "colab": {},
    "colab_type": "code",
    "id": "qufjDipWyKIJ"
   },
   "outputs": [
    {
     "name": "stdout",
     "output_type": "stream",
     "text": [
      "Probability that a complaint will be only about late delivery 0.4\n"
     ]
    }
   ],
   "source": [
    "# Since there is only two kinds of complaints received, Probability that the complaint will be only abut late delivery \n",
    "# will be 1 minus probability that the complaint will be of poor product quality, \n",
    "# which includes customer complaints that will be of poor product quality as well as late delivery.\n",
    "P_A_Only = 1 - P_B\n",
    "print('Probability that a complaint will be only about late delivery = ', P_A_Only )"
   ]
  },
  {
   "cell_type": "markdown",
   "metadata": {
    "colab_type": "text",
    "id": "Ufagdi4UpLGN"
   },
   "source": [
    "## Q6 You are given the daily sugar intake of 11 diabetic patients in the following Python code. Is there any evidence to the claim that the average daily sugar intake of the diabetic patients is 7600 mg.\n",
    "\n",
    "Hint: Use t test"
   ]
  },
  {
   "cell_type": "code",
   "execution_count": 34,
   "metadata": {
    "colab": {},
    "colab_type": "code",
    "id": "lVazFh46yLVz"
   },
   "outputs": [
    {
     "name": "stdout",
     "output_type": "stream",
     "text": [
      "p value is  0.04481624562570511\n"
     ]
    }
   ],
   "source": [
    "# We take\n",
    "# Null Hypothesis:: Claim that the average daily sugar intake of diabetic patients is 7600 mg\n",
    "# Alternate Hypothesis:: Average daily sugar intake of diabetic patients is significantly other than 7600 mg\n",
    "daily_intake = np.array([5560, 5770, 7640, 5180, 5690, 6435, 6803, 7689, 6876, 8213, 8765])\n",
    "\n",
    "# We use two-sided test to prove the null hypothesis that the expected value (mean) of a sample of independent observation -\n",
    "# is equal to the given population mean 7600mg\n",
    "stat, p_value = ttest_1samp(daily_intake, 7600)\n",
    "print ('p value is ', p_value)"
   ]
  },
  {
   "cell_type": "code",
   "execution_count": null,
   "metadata": {},
   "outputs": [],
   "source": [
    "# Inference: Since p value is less than 0.05, we reject the null hypothesis \n",
    "# and there is no statistical significant evidence that the claim that the average daily intake is 7600 mg"
   ]
  },
  {
   "cell_type": "markdown",
   "metadata": {
    "colab_type": "text",
    "id": "PzNPNv1lZwc7"
   },
   "source": [
    "## Q7-Q8 Description Write the null and alternative hypothesis from the following hypopthesis description:\n",
    "## Q7Average annual salary of Data Scientists is different for those having Ph.D in Statistics and those who do not.\n",
    "* Let $\\mu_{PhD}$ be the average annual salary of a Data scientist with Ph.D in Statistics.\n",
    "* Let $\\mu_{NoPhD}$ be the average annual salary of a Data scientist without Ph.D in Statistics."
   ]
  },
  {
   "cell_type": "markdown",
   "metadata": {
    "colab_type": "text",
    "id": "qc3FIR-4yQKn"
   },
   "source": [
    "Null Hypothesis :: 𝜇𝑃ℎ𝐷 is equal to 𝜇𝑁𝑜𝑃ℎ𝐷. \\\n",
    "Alternate Hypothesis :: 𝜇𝑃ℎ𝐷 is not equal to 𝜇𝑁𝑜𝑃ℎ𝐷. \\\n",
    "We need to use two-sided test to prove null hypothesis"
   ]
  },
  {
   "cell_type": "markdown",
   "metadata": {
    "colab_type": "text",
    "id": "OIUIIEBEZwc9"
   },
   "source": [
    "## Q8 Average annual salary of Data Scientists is more for those having Ph.D in Statistics and those who do not."
   ]
  },
  {
   "cell_type": "markdown",
   "metadata": {
    "colab_type": "text",
    "id": "016BhZvgyQ8l"
   },
   "source": [
    "Null Hypothesis :: 𝜇𝑃ℎ𝐷 <= 𝜇𝑁𝑜𝑃ℎ𝐷. \\\n",
    "Alternate Hypothesis :: 𝜇𝑃ℎ𝐷 > 𝜇𝑁𝑜𝑃ℎ𝐷. \\\n",
    "We need to use one-sided test to prove null hypothesis"
   ]
  },
  {
   "cell_type": "markdown",
   "metadata": {
    "colab_type": "text",
    "id": "buanCghHvjfy"
   },
   "source": [
    "## Q9 - Compare the following two unrelated samples. Data was collected on the weight of women and men enrolled in a weight reduction program. At 𝛼 α = 0.05, test whether the weight of these two samples is different."
   ]
  },
  {
   "cell_type": "code",
   "execution_count": 36,
   "metadata": {
    "colab": {},
    "colab_type": "code",
    "id": "aR0aTl3Vvc1B"
   },
   "outputs": [],
   "source": [
    "Weight_Female       =  [ 53.8, 54.4, 51.2, 52.5, 61.0, 50.6, 51.6, 70.0]\n",
    "Weight_Male         =  [ 72.5, 80.3, 71.3, 67.7, 66.2, 73.4, 61.3, 76.8]"
   ]
  },
  {
   "cell_type": "markdown",
   "metadata": {
    "colab_type": "text",
    "id": "ELXhCM2Lvs0F"
   },
   "source": [
    "NULL HYPOTHSIS MALE AND FEMALE WEIGHT IS EQUAL.\n",
    "\n",
    "ALTERNATE HYPOTHESIS MALE AND FEMALE WEIGHT IS DIFFERENT.\n",
    "\n",
    "\n",
    "OUR CONDITION IS TO PROVE THAT WEIGHT OF THE MALE AND FEMALE ARE NOT EQUAL SO,WE REQUIRE ALTERNATE HYPOTHESIS."
   ]
  },
  {
   "cell_type": "code",
   "execution_count": 42,
   "metadata": {
    "colab": {},
    "colab_type": "code",
    "id": "MnhdZepcyTak"
   },
   "outputs": [
    {
     "name": "stdout",
     "output_type": "stream",
     "text": [
      "p value is  0.00024034957515992796\n"
     ]
    }
   ],
   "source": [
    "# Using two-sided test to prove that the null hypothesis that 2 independent samples have identical average (expected) values.\n",
    "stat, p_value  = ttest_ind(Weight_Female, Weight_Male)\n",
    "\n",
    "print ('p value is ', p_value)"
   ]
  },
  {
   "cell_type": "code",
   "execution_count": 43,
   "metadata": {},
   "outputs": [],
   "source": [
    "# Inference: Since p value is less than 0.05, we reject the null hypothesis and accept the alternate hypothesis\n",
    "# and there is statistical significant evidence that the weight of the male and female are not equal."
   ]
  },
  {
   "cell_type": "markdown",
   "metadata": {
    "colab_type": "text",
    "id": "CR60_1hJwxKl"
   },
   "source": [
    "## Q10 - A Cable service provider company is interested in checking whether or not the customer churn depends on customer segment. Use 5% as level of significance\n",
    "\n"
   ]
  },
  {
   "cell_type": "markdown",
   "metadata": {
    "colab_type": "text",
    "id": "5jTapB-2rFZV"
   },
   "source": [
    "| Customer Segment | Churned | Retained |\n",
    "|  -------- | ----- | ---- |\n",
    "| S1 | 15 | 142 |\n",
    "| S2 | 24 | 400 |\n",
    "| S3 | 30 | 389 |\n"
   ]
  },
  {
   "cell_type": "code",
   "execution_count": 46,
   "metadata": {
    "colab": {},
    "colab_type": "code",
    "id": "Knttaq6zyYoz"
   },
   "outputs": [
    {
     "name": "stdout",
     "output_type": "stream",
     "text": [
      "p value is  0.24907816314986156\n"
     ]
    }
   ],
   "source": [
    "# Null Hypothesis :: There is relationship between customer churn and customer segment\n",
    "# Alternate Hypothesis :: There is no relationship between customer churn and customer segment\n",
    "# if p <= level of significance we will reject null hypothesis    \n",
    "from scipy.stats import chi2_contingency\n",
    "obs = np.array([[15, 24, 30], [142, 400, 389]])\n",
    "stat, p_value, dof, expected_frequencies = chi2_contingency(obs)\n",
    "\n",
    "print ('p value is ', p_value)"
   ]
  },
  {
   "cell_type": "code",
   "execution_count": 47,
   "metadata": {},
   "outputs": [],
   "source": [
    "# Inference: Since p value is greater than 0.05, we fail to reject the null hypothesis\n",
    "# and there is no relationship between customer churn and customer segment."
   ]
  },
  {
   "cell_type": "markdown",
   "metadata": {
    "colab_type": "text",
    "id": "7IsDxBgOZwfX"
   },
   "source": [
    "## End"
   ]
  }
 ],
 "metadata": {
  "colab": {
   "collapsed_sections": [
    "7IsDxBgOZwfX"
   ],
   "name": "R2- Lab-Statistical Learning- Questions.ipynb",
   "provenance": []
  },
  "kernelspec": {
   "display_name": "Python 3",
   "language": "python",
   "name": "python3"
  },
  "language_info": {
   "codemirror_mode": {
    "name": "ipython",
    "version": 3
   },
   "file_extension": ".py",
   "mimetype": "text/x-python",
   "name": "python",
   "nbconvert_exporter": "python",
   "pygments_lexer": "ipython3",
   "version": "3.7.6"
  }
 },
 "nbformat": 4,
 "nbformat_minor": 1
}
