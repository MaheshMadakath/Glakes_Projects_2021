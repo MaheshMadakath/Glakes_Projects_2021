{
  "nbformat": 4,
  "nbformat_minor": 0,
  "metadata": {
    "accelerator": "GPU",
    "colab": {
      "name": "RecommendationSystem_R5_Project1_AmazonElectronicsProducts.ipynb",
      "provenance": [],
      "collapsed_sections": []
    },
    "kernelspec": {
      "display_name": "Python 3",
      "language": "python",
      "name": "python3"
    },
    "language_info": {
      "codemirror_mode": {
        "name": "ipython",
        "version": 3
      },
      "file_extension": ".py",
      "mimetype": "text/x-python",
      "name": "python",
      "nbconvert_exporter": "python",
      "pygments_lexer": "ipython3",
      "version": "3.8.3"
    }
  },
  "cells": [
    {
      "cell_type": "markdown",
      "metadata": {
        "id": "vzOxsdkX_bRm"
      },
      "source": [
        "## Recommendation System: Project  AmazonElectronicsProduct Recommendation"
      ]
    },
    {
      "cell_type": "markdown",
      "metadata": {
        "id": "xbyfOKZDqZCm"
      },
      "source": [
        "#### <i> In this project our objective is to explore the Amazon Electronics product user rated dataset and accordingly use recommendation system that will recommend products based on selected product by an user which can recommend other products as well which are very likely to be bought by that user based on his/her preference or popoularity. This will help boost sales and thereby revenue."
      ]
    },
    {
      "cell_type": "code",
      "metadata": {
        "id": "MbFhGwAW_bR4"
      },
      "source": [
        "import numpy as np # Linear Algebra\n",
        "import pandas as pd # Data processing\n",
        "import seaborn as sns # Data Visualization\n",
        "from matplotlib import pyplot as plt # Data Visualization\n",
        "import os"
      ],
      "execution_count": 1,
      "outputs": []
    },
    {
      "cell_type": "code",
      "metadata": {
        "colab": {
          "base_uri": "https://localhost:8080/"
        },
        "id": "g8UR8-EeAdMD",
        "outputId": "f8b3ec94-baad-41e8-822a-06ef902aa785"
      },
      "source": [
        "from google.colab import drive\r\n",
        "drive.mount('/gdrive')"
      ],
      "execution_count": 2,
      "outputs": [
        {
          "output_type": "stream",
          "text": [
            "Mounted at /gdrive\n"
          ],
          "name": "stdout"
        }
      ]
    },
    {
      "cell_type": "code",
      "metadata": {
        "id": "fTerLbOMAoWl"
      },
      "source": [
        "os.chdir('/gdrive/MyDrive/Colab Notebooks')"
      ],
      "execution_count": 3,
      "outputs": []
    },
    {
      "cell_type": "code",
      "metadata": {
        "colab": {
          "base_uri": "https://localhost:8080/"
        },
        "id": "SSLKJjECAuSZ",
        "outputId": "489bb8a2-a344-4227-809a-8aa53af4b83b"
      },
      "source": [
        "ls -l"
      ],
      "execution_count": 4,
      "outputs": [
        {
          "output_type": "stream",
          "text": [
            "total 150880\n",
            "-rw------- 1 root root 77787439 Sep  2 16:22  books.csv\n",
            "-rw------- 1 root root   163196 May  9  2020 'Copy of 1.Python_Basics.ipynb'\n",
            "-rw------- 1 root root   424872 May  9  2020 'Copy of 2.Neural_Network.ipynb'\n",
            "-rw------- 1 root root   152458 May  9  2020 'Copy of 3.Convolutional_Neural_Networks.ipynb'\n",
            "-rw------- 1 root root    36526 May  9  2020 'Copy of 4.Recurrent_Neural_Network.ipynb'\n",
            "-rw------- 1 root root   147555 Dec 19 21:02 'Copy of RecommendationSystem_R5_Project1_AmazonElectronicsProducts.ipynb'\n",
            "-rw------- 1 root root 20870155 Dec 15 18:45  Electronic_dataset.csv\n",
            "-rw------- 1 root root 11738238 Sep  1 06:04  jokes.csv\n",
            "-rw------- 1 root root    59154 Dec 13 09:56  McCullohPitt_RosenBlat_Neurons.ipynb\n",
            "-rw------- 1 root root 30682276 Sep  2 16:23  ratings.csv\n",
            "-rw------- 1 root root    51825 Dec 18 17:58 'RecommendationSystem_R5_Project1_AmazonElectronicsProducts (1).ipynb'\n",
            "-rw------- 1 root root    25241 Dec 27 14:13  RecommendationSystem_R5_Project1_AmazonElectronicsProducts.ipynb\n",
            "-rw------- 1 root root    73477 Dec 19 21:03  RS_Internal_Lab_Question.ipynb\n",
            "-rw------- 1 root root      317 Dec 18 17:55  Untitled0.ipynb\n",
            "-rw------- 1 root root 12284157 Sep  4 11:57  users.csv\n"
          ],
          "name": "stdout"
        }
      ]
    },
    {
      "cell_type": "markdown",
      "metadata": {
        "id": "zN6aSY_K_bR5"
      },
      "source": [
        "#### 1. Read and explore the given dataset. ( Rename column/add headers, plot histograms, find data characteristics)"
      ]
    },
    {
      "cell_type": "code",
      "metadata": {
        "id": "bhUWpPYX_bR5"
      },
      "source": [
        "Electronics_data=pd.read_csv(\"Electronic_dataset.csv\",sep=',')"
      ],
      "execution_count": 5,
      "outputs": []
    },
    {
      "cell_type": "code",
      "metadata": {
        "colab": {
          "base_uri": "https://localhost:8080/",
          "height": 221
        },
        "id": "xhI_xv9s_bR6",
        "outputId": "3ad0a136-ee80-4f5b-d7d6-fb871f129f24"
      },
      "source": [
        "print('\\033[1mHead:'); Electronics_data.head() # Read dataset"
      ],
      "execution_count": 6,
      "outputs": [
        {
          "output_type": "stream",
          "text": [
            "\u001b[1mHead:\n"
          ],
          "name": "stdout"
        },
        {
          "output_type": "execute_result",
          "data": {
            "text/html": [
              "<div>\n",
              "<style scoped>\n",
              "    .dataframe tbody tr th:only-of-type {\n",
              "        vertical-align: middle;\n",
              "    }\n",
              "\n",
              "    .dataframe tbody tr th {\n",
              "        vertical-align: top;\n",
              "    }\n",
              "\n",
              "    .dataframe thead th {\n",
              "        text-align: right;\n",
              "    }\n",
              "</style>\n",
              "<table border=\"1\" class=\"dataframe\">\n",
              "  <thead>\n",
              "    <tr style=\"text-align: right;\">\n",
              "      <th></th>\n",
              "      <th>user_id</th>\n",
              "      <th>prod_id</th>\n",
              "      <th>ratings</th>\n",
              "      <th>timestamp</th>\n",
              "    </tr>\n",
              "  </thead>\n",
              "  <tbody>\n",
              "    <tr>\n",
              "      <th>0</th>\n",
              "      <td>A3L1GVWVJKWZZS</td>\n",
              "      <td>B0058UUR6E</td>\n",
              "      <td>5.0</td>\n",
              "      <td>1364774400</td>\n",
              "    </tr>\n",
              "    <tr>\n",
              "      <th>1</th>\n",
              "      <td>A08831071BVKZMKNCPI5S</td>\n",
              "      <td>B009ID0VVS</td>\n",
              "      <td>5.0</td>\n",
              "      <td>1357257600</td>\n",
              "    </tr>\n",
              "    <tr>\n",
              "      <th>2</th>\n",
              "      <td>A1SINU2I4IOPNU</td>\n",
              "      <td>B000GBO9IM</td>\n",
              "      <td>4.0</td>\n",
              "      <td>1358121600</td>\n",
              "    </tr>\n",
              "    <tr>\n",
              "      <th>3</th>\n",
              "      <td>A3P3P31EEOX2BD</td>\n",
              "      <td>B00CDCIOHO</td>\n",
              "      <td>3.0</td>\n",
              "      <td>1404950400</td>\n",
              "    </tr>\n",
              "    <tr>\n",
              "      <th>4</th>\n",
              "      <td>A3DBLJ3MPBJQMN</td>\n",
              "      <td>B000MS3VGA</td>\n",
              "      <td>5.0</td>\n",
              "      <td>1294444800</td>\n",
              "    </tr>\n",
              "  </tbody>\n",
              "</table>\n",
              "</div>"
            ],
            "text/plain": [
              "                 user_id     prod_id  ratings   timestamp\n",
              "0         A3L1GVWVJKWZZS  B0058UUR6E      5.0  1364774400\n",
              "1  A08831071BVKZMKNCPI5S  B009ID0VVS      5.0  1357257600\n",
              "2         A1SINU2I4IOPNU  B000GBO9IM      4.0  1358121600\n",
              "3         A3P3P31EEOX2BD  B00CDCIOHO      3.0  1404950400\n",
              "4         A3DBLJ3MPBJQMN  B000MS3VGA      5.0  1294444800"
            ]
          },
          "metadata": {
            "tags": []
          },
          "execution_count": 6
        }
      ]
    },
    {
      "cell_type": "code",
      "metadata": {
        "colab": {
          "base_uri": "https://localhost:8080/",
          "height": 221
        },
        "id": "kuFI7Ss1_bR7",
        "outputId": "5b59fe2f-fcda-4b1f-8431-b1a09e21ef29"
      },
      "source": [
        "print('\\033[1mTail:') ; Electronics_data.tail() # Read dataset"
      ],
      "execution_count": 7,
      "outputs": [
        {
          "output_type": "stream",
          "text": [
            "\u001b[1mTail:\n"
          ],
          "name": "stdout"
        },
        {
          "output_type": "execute_result",
          "data": {
            "text/html": [
              "<div>\n",
              "<style scoped>\n",
              "    .dataframe tbody tr th:only-of-type {\n",
              "        vertical-align: middle;\n",
              "    }\n",
              "\n",
              "    .dataframe tbody tr th {\n",
              "        vertical-align: top;\n",
              "    }\n",
              "\n",
              "    .dataframe thead th {\n",
              "        text-align: right;\n",
              "    }\n",
              "</style>\n",
              "<table border=\"1\" class=\"dataframe\">\n",
              "  <thead>\n",
              "    <tr style=\"text-align: right;\">\n",
              "      <th></th>\n",
              "      <th>user_id</th>\n",
              "      <th>prod_id</th>\n",
              "      <th>ratings</th>\n",
              "      <th>timestamp</th>\n",
              "    </tr>\n",
              "  </thead>\n",
              "  <tbody>\n",
              "    <tr>\n",
              "      <th>499995</th>\n",
              "      <td>AT1DOX4N48TXJ</td>\n",
              "      <td>B000P3X7RK</td>\n",
              "      <td>2.0</td>\n",
              "      <td>1210291200</td>\n",
              "    </tr>\n",
              "    <tr>\n",
              "      <th>499996</th>\n",
              "      <td>A224J6BHKCLMJM</td>\n",
              "      <td>B005CPGHAA</td>\n",
              "      <td>4.0</td>\n",
              "      <td>1359244800</td>\n",
              "    </tr>\n",
              "    <tr>\n",
              "      <th>499997</th>\n",
              "      <td>A23WSQC26QEFLC</td>\n",
              "      <td>B006FLK1IE</td>\n",
              "      <td>5.0</td>\n",
              "      <td>1323302400</td>\n",
              "    </tr>\n",
              "    <tr>\n",
              "      <th>499998</th>\n",
              "      <td>ARHZCDAH1UTPN</td>\n",
              "      <td>B006W5FHI2</td>\n",
              "      <td>5.0</td>\n",
              "      <td>1361577600</td>\n",
              "    </tr>\n",
              "    <tr>\n",
              "      <th>499999</th>\n",
              "      <td>A9XU2MMIWGZBT</td>\n",
              "      <td>B001JJRBU8</td>\n",
              "      <td>4.0</td>\n",
              "      <td>1237420800</td>\n",
              "    </tr>\n",
              "  </tbody>\n",
              "</table>\n",
              "</div>"
            ],
            "text/plain": [
              "               user_id     prod_id  ratings   timestamp\n",
              "499995   AT1DOX4N48TXJ  B000P3X7RK      2.0  1210291200\n",
              "499996  A224J6BHKCLMJM  B005CPGHAA      4.0  1359244800\n",
              "499997  A23WSQC26QEFLC  B006FLK1IE      5.0  1323302400\n",
              "499998   ARHZCDAH1UTPN  B006W5FHI2      5.0  1361577600\n",
              "499999   A9XU2MMIWGZBT  B001JJRBU8      4.0  1237420800"
            ]
          },
          "metadata": {
            "tags": []
          },
          "execution_count": 7
        }
      ]
    },
    {
      "cell_type": "code",
      "metadata": {
        "colab": {
          "base_uri": "https://localhost:8080/"
        },
        "id": "YHi4C-r0_bR8",
        "outputId": "5e9a66bf-464f-4a85-a8fb-4add3ca88df5"
      },
      "source": [
        "print('\\033[1mData records for electronics dataset:', Electronics_data.shape[0]) # Check data record count"
      ],
      "execution_count": 8,
      "outputs": [
        {
          "output_type": "stream",
          "text": [
            "\u001b[1mData records for electronics dataset: 500000\n"
          ],
          "name": "stdout"
        }
      ]
    },
    {
      "cell_type": "code",
      "metadata": {
        "colab": {
          "base_uri": "https://localhost:8080/"
        },
        "id": "_hysbm14_bR9",
        "outputId": "755ce646-1a76-4ae1-b51c-b89463d2e716"
      },
      "source": [
        " Electronics_data.info() # check data type for each column and null value presence"
      ],
      "execution_count": 9,
      "outputs": [
        {
          "output_type": "stream",
          "text": [
            "<class 'pandas.core.frame.DataFrame'>\n",
            "RangeIndex: 500000 entries, 0 to 499999\n",
            "Data columns (total 4 columns):\n",
            " #   Column     Non-Null Count   Dtype  \n",
            "---  ------     --------------   -----  \n",
            " 0   user_id    500000 non-null  object \n",
            " 1   prod_id    500000 non-null  object \n",
            " 2   ratings    500000 non-null  float64\n",
            " 3   timestamp  500000 non-null  int64  \n",
            "dtypes: float64(1), int64(1), object(2)\n",
            "memory usage: 15.3+ MB\n"
          ],
          "name": "stdout"
        }
      ]
    },
    {
      "cell_type": "markdown",
      "metadata": {
        "id": "KtUM2e18_bR9"
      },
      "source": [
        "##### Inference: No null values in the dataset"
      ]
    },
    {
      "cell_type": "code",
      "metadata": {
        "colab": {
          "base_uri": "https://localhost:8080/"
        },
        "id": "hJ_32h99_bR-",
        "outputId": "a96d395d-613c-4184-c4b4-5ac961970632"
      },
      "source": [
        "Electronics_data['ratings'].unique() #check range for ratings"
      ],
      "execution_count": 10,
      "outputs": [
        {
          "output_type": "execute_result",
          "data": {
            "text/plain": [
              "array([5., 4., 3., 1., 2.])"
            ]
          },
          "metadata": {
            "tags": []
          },
          "execution_count": 10
        }
      ]
    },
    {
      "cell_type": "markdown",
      "metadata": {
        "id": "RL_V3A3TA4pt"
      },
      "source": [
        "#### Inference: We have 50000 data records of users product rating. timestamp of user rating column is irrelevant for our solution requirement."
      ]
    },
    {
      "cell_type": "code",
      "metadata": {
        "id": "dbl232vf_bR_"
      },
      "source": [
        "Electronics_data['ratings'] = Electronics_data['ratings'].astype(int) #Rating converted to integer data type"
      ],
      "execution_count": 11,
      "outputs": []
    },
    {
      "cell_type": "code",
      "metadata": {
        "colab": {
          "base_uri": "https://localhost:8080/",
          "height": 279
        },
        "id": "Xrk4Q5XK_bR_",
        "outputId": "980b8a55-c80d-4166-aec9-53f156336f62"
      },
      "source": [
        "# Range for each rating on electronics product\n",
        "plt.figure(figsize=(6,4))\n",
        "ax = sns.countplot(x=\"ratings\", data=Electronics_data,orient=\"h\")\n",
        "for p in ax.patches:\n",
        "    ax.annotate('{:}'.format(p.get_height()), (p.get_x()+0.15, p.get_height()+1))\n",
        "plt.show()"
      ],
      "execution_count": 12,
      "outputs": [
        {
          "output_type": "display_data",
          "data": {
            "image/png": "[encoded data removed]",
            "text/plain": [
              "<Figure size 432x288 with 1 Axes>"
            ]
          },
          "metadata": {
            "tags": [],
            "needs_background": "light"
          }
        }
      ]
    },
    {
      "cell_type": "markdown",
      "metadata": {
        "id": "85nTB7sUBiuv"
      },
      "source": [
        "#### Inference: Of 50000 user-product ratings, we have high number records for the highest rating category and low number of records for lowest category."
      ]
    },
    {
      "cell_type": "code",
      "metadata": {
        "id": "3FEgtKOi_bSB"
      },
      "source": [
        "Electronics_data.rename(columns = {'user_id':'userID','prod_id':'productID','ratings':'rating'}, inplace = True)\n",
        "#Renaming column to standarize and ease"
      ],
      "execution_count": 13,
      "outputs": []
    },
    {
      "cell_type": "code",
      "metadata": {
        "id": "PoVWmNcG_bSB"
      },
      "source": [
        "Electronics_data.drop(['timestamp'], axis=1,inplace=True)\n",
        "#Dropping timestamp column"
      ],
      "execution_count": 14,
      "outputs": []
    },
    {
      "cell_type": "markdown",
      "metadata": {
        "id": "hLTFzp4uCul6"
      },
      "source": [
        "Further we analyze data with reference to product and user."
      ]
    },
    {
      "cell_type": "code",
      "metadata": {
        "colab": {
          "base_uri": "https://localhost:8080/"
        },
        "id": "nmDTrXN7_bSC",
        "outputId": "7044df78-036b-406d-d993-85eb67d3e397"
      },
      "source": [
        "print(\"\\033[1mUnique Product and Users :\")\n",
        "print(\"Total No of Users   :\", len(np.unique(Electronics_data.userID)))\n",
        "print(\"Total No of Products  :\", len(np.unique(Electronics_data.productID)))"
      ],
      "execution_count": 15,
      "outputs": [
        {
          "output_type": "stream",
          "text": [
            "\u001b[1mUnique Product and Users :\n",
            "Total No of Users   : 448368\n",
            "Total No of Products  : 130138\n"
          ],
          "name": "stdout"
        }
      ]
    },
    {
      "cell_type": "code",
      "metadata": {
        "colab": {
          "base_uri": "https://localhost:8080/"
        },
        "id": "Q91XItRu_bSD",
        "outputId": "1d4e8528-48a6-4b41-ddc1-c10c2066b2b0"
      },
      "source": [
        "print(\"\\033[1mRange of products rated per user :\")\n",
        "no_of_rated_products_per_user = Electronics_data.groupby(by='userID')['rating'].count().sort_values(ascending=False)\n",
        "print(\"Maximum No of Products rated per user:\",no_of_rated_products_per_user[0])\n",
        "print(\"Minimum No of Product/s rated per user:\",no_of_rated_products_per_user[448367])"
      ],
      "execution_count": 16,
      "outputs": [
        {
          "output_type": "stream",
          "text": [
            "\u001b[1mRange of products rated per user :\n",
            "Maximum No of Products rated per user: 36\n",
            "Minimum No of Product/s rated per user: 1\n"
          ],
          "name": "stdout"
        }
      ]
    },
    {
      "cell_type": "code",
      "metadata": {
        "colab": {
          "base_uri": "https://localhost:8080/"
        },
        "id": "SIeXHUaV_bSD",
        "outputId": "9f891fb2-7b7c-441c-d496-c33122928914"
      },
      "source": [
        "print('no_of_rated_products_per_user - head:\\n', no_of_rated_products_per_user.head(5))\n",
        "print('\\nno_of_rated_products_per_user - tail:\\n',no_of_rated_products_per_user.tail(5))"
      ],
      "execution_count": 17,
      "outputs": [
        {
          "output_type": "stream",
          "text": [
            "no_of_rated_products_per_user - head:\n",
            " userID\n",
            "A680RUE1FDO8B     36\n",
            "A3OXHLG6DIBRW8    34\n",
            "ADLVFFE4VBT8      30\n",
            "A5JLAU2ARJ0BO     29\n",
            "A2NOW4U7W3F7RI    28\n",
            "Name: rating, dtype: int64\n",
            "\n",
            "no_of_rated_products_per_user - tail:\n",
            " userID\n",
            "A3GQPPGY60XAOF           1\n",
            "A3GQQWYTSH3G72           1\n",
            "A3GQRF6Q5GH31D           1\n",
            "A3GQRWGDK6HM94           1\n",
            "A000186437REL8X2RW8UW    1\n",
            "Name: rating, dtype: int64\n"
          ],
          "name": "stdout"
        }
      ]
    },
    {
      "cell_type": "code",
      "metadata": {
        "colab": {
          "base_uri": "https://localhost:8080/",
          "height": 334
        },
        "id": "Ps67W9H-_bSE",
        "outputId": "9cb5d79d-4113-45e3-a4c3-0e61468e41a9"
      },
      "source": [
        "plt.figure(figsize=(10,5))\n",
        "ax = sns.histplot(no_of_rated_products_per_user,kde = False, color='darkblue')\n",
        "plt.xlabel('Range of products rated per user')\n",
        "plt.ylabel('Number of products rated')\n",
        "\n",
        "for p in ax.patches:\n",
        "    ax.annotate('{:}'.format(p.get_height()), (p.get_x()+0.15, p.get_height()+1))\n",
        "plt.show()"
      ],
      "execution_count": 18,
      "outputs": [
        {
          "output_type": "display_data",
          "data": {
            "image/png": "[encoded data removed]",
            "text/plain": [
              "<Figure size 720x360 with 1 Axes>"
            ]
          },
          "metadata": {
            "tags": [],
            "needs_background": "light"
          }
        }
      ]
    },
    {
      "cell_type": "code",
      "metadata": {
        "colab": {
          "base_uri": "https://localhost:8080/",
          "height": 225
        },
        "id": "m1CRSXfSEEm5",
        "outputId": "71e9fc49-5d1e-4336-f838-dfc92d4c0ccb"
      },
      "source": [
        "mean_rating_of_products_per_user = Electronics_data.groupby(by='userID')['rating'].mean().sort_values(ascending=False)\r\n",
        "plt.figure(figsize=(5,3))\r\n",
        "sns.kdeplot(mean_rating_of_products_per_user, shade=True, color='yellow')\r\n",
        "plt.xlabel('Range of products rated per user')\r\n",
        "plt.ylabel('Number of products rated')\r\n",
        "plt.show()"
      ],
      "execution_count": 19,
      "outputs": [
        {
          "output_type": "display_data",
          "data": {
            "image/png": "[encoded data removed]",
            "text/plain": [
              "<Figure size 360x216 with 1 Axes>"
            ]
          },
          "metadata": {
            "tags": [],
            "needs_background": "light"
          }
        }
      ]
    },
    {
      "cell_type": "markdown",
      "metadata": {
        "id": "UcZfvvwT_bSE"
      },
      "source": [
        "####  Inference:\n",
        "1. Most of the individual users has rated only single product (440259 of 448368). Data has very few records where the same user have rated more than single product.users rating. \n",
        "2. Secondly we have most of high rated products by individual users. Hence many products are either not rated or most probably not bought by the user.\n",
        "3. Overall records contain users those have very less products rated and that too which are good ones. Data could be biased for getting users best prefered products and not captured much data for inferior products or the store has mostly superior products."
      ]
    },
    {
      "cell_type": "code",
      "metadata": {
        "colab": {
          "base_uri": "https://localhost:8080/"
        },
        "id": "QTsPf11P_bSF",
        "outputId": "b5ad4920-1754-4824-e5d0-fd23af65fceb"
      },
      "source": [
        "print(\"\\033[1mMaximum count range rated per product by users:\")\n",
        "no_of_products_rated_by_user = Electronics_data.groupby(by='productID')['rating'].count().sort_values(ascending=False)\n",
        "print(\"No of Products that is most rated by user:\",no_of_products_rated_by_user[0])\n",
        "print(\"No of Products that is least rated by user:\",no_of_products_rated_by_user[130137])\n",
        "print(\"No of Unique_products:\",no_of_products_rated_by_user.shape[0])"
      ],
      "execution_count": 20,
      "outputs": [
        {
          "output_type": "stream",
          "text": [
            "\u001b[1mMaximum count range rated per product by users:\n",
            "No of Products that is most rated by user: 1138\n",
            "No of Products that is least rated by user: 1\n",
            "No of Unique_products: 130138\n"
          ],
          "name": "stdout"
        }
      ]
    },
    {
      "cell_type": "code",
      "metadata": {
        "colab": {
          "base_uri": "https://localhost:8080/"
        },
        "id": "u0K-s6wyNnvP",
        "outputId": "529d9dc2-c428-4486-aff8-5fe9ca7e383d"
      },
      "source": [
        "mean_rating_product = Electronics_data.groupby(by='productID')['rating'].mean().sort_values(ascending=False)\r\n",
        "mean_rating_product.tail(5)"
      ],
      "execution_count": 21,
      "outputs": [
        {
          "output_type": "execute_result",
          "data": {
            "text/plain": [
              "productID\n",
              "B0092TLBA8    1.0\n",
              "B00DKRX7LO    1.0\n",
              "B00DKVY35O    1.0\n",
              "B00028LF8Q    1.0\n",
              "0439886341    1.0\n",
              "Name: rating, dtype: float64"
            ]
          },
          "metadata": {
            "tags": []
          },
          "execution_count": 21
        }
      ]
    },
    {
      "cell_type": "code",
      "metadata": {
        "colab": {
          "base_uri": "https://localhost:8080/",
          "height": 334
        },
        "id": "NouJJoFeOrPZ",
        "outputId": "073d79a2-1915-4e68-af9a-046f3151b424"
      },
      "source": [
        "# Number of ratings per product KDE distribution\r\n",
        "plt.figure(figsize=(10,5))\r\n",
        "ax = sns.histplot(no_of_products_rated_by_user, bins = 50 ,kde = False, color='green')\r\n",
        "plt.xlabel('Range of products rated per user')\r\n",
        "plt.ylabel('Number of products rated')\r\n",
        "\r\n",
        "for p in ax.patches:\r\n",
        "    ax.annotate('{:}'.format(p.get_height()), (p.get_x()+0.15, p.get_height()+1))\r\n",
        "plt.show()\r\n"
      ],
      "execution_count": 22,
      "outputs": [
        {
          "output_type": "display_data",
          "data": {
            "image/png": "[encoded data removed]",
            "text/plain": [
              "<Figure size 720x360 with 1 Axes>"
            ]
          },
          "metadata": {
            "tags": [],
            "needs_background": "light"
          }
        }
      ]
    },
    {
      "cell_type": "code",
      "metadata": {
        "id": "CS6WLmZySMG2"
      },
      "source": [
        "#Check the rating_spread for the products\r\n",
        "rating_spread = Electronics_data.groupby('productID')['rating'].std(ddof = -1)"
      ],
      "execution_count": 23,
      "outputs": []
    },
    {
      "cell_type": "code",
      "metadata": {
        "colab": {
          "base_uri": "https://localhost:8080/",
          "height": 279
        },
        "id": "dV9Kn-POSahv",
        "outputId": "2455b8d7-0293-44fa-988c-726ee915f74b"
      },
      "source": [
        "# Rating spread factor KDE distribution\r\n",
        "sns.kdeplot(rating_spread, shade=True, color='green')\r\n",
        "plt.show()"
      ],
      "execution_count": 24,
      "outputs": [
        {
          "output_type": "display_data",
          "data": {
            "image/png": "[encoded data removed]",
            "text/plain": [
              "<Figure size 432x288 with 1 Axes>"
            ]
          },
          "metadata": {
            "tags": [],
            "needs_background": "light"
          }
        }
      ]
    },
    {
      "cell_type": "markdown",
      "metadata": {
        "id": "dJ3jvdNBSwdV"
      },
      "source": [
        "#### Inference:\r\n",
        "1. Each product is atleast rated once by the user.\r\n",
        "2. We do have a bunch of outliers that has only a single rating and few products have over 200 ratings.\r\n",
        "3. Large porition of the Products being a single review the data records we have is sparse. \r\n",
        "4. For such sparse kind of data we need use model based collaborative filtering (with matrix factorization SVD) for recommendtation when user taste is to be taken in to account.\r\n",
        "5. For users who has rated only 1 or 2 products, we shall recommend popular products and for users who has rated more products and model is able to know their preference we shall use collaborative - model based recommendation."
      ]
    },
    {
      "cell_type": "markdown",
      "metadata": {
        "id": "GDrgVpYe_bSF"
      },
      "source": [
        "#### 2. Build Popularity Recommender model"
      ]
    },
    {
      "cell_type": "markdown",
      "metadata": {
        "id": "Qzgf6dJV_bSG"
      },
      "source": [
        "In Popularity recommender model, popular products among the user based on the data is to be found out and recommended to user. For all users the popular recommender model will give the same recommendation irrespective users preferences.\n",
        "Hence we create a dataset with popular products and recommend. Will have option to select count of popular product to user."
      ]
    },
    {
      "cell_type": "code",
      "metadata": {
        "id": "rjE5KF5I_bSG"
      },
      "source": [
        "Popular_Data = Electronics_data.groupby('productID').agg({'userID':'count','rating':'mean'})\n",
        "# based on no of rating for each product and average rating of those ratings."
      ],
      "execution_count": 25,
      "outputs": []
    },
    {
      "cell_type": "code",
      "metadata": {
        "id": "oqTGs4-W_bSG"
      },
      "source": [
        "Popular_Data.sort_values( by=['userID'],ascending=False, inplace = True)\n",
        "Popular_Data.rename(columns={'userID':'number of ratings','rating':'rating_mean'},inplace=True)\n",
        "\n",
        "# Sorting based top rated products."
      ],
      "execution_count": 26,
      "outputs": []
    },
    {
      "cell_type": "code",
      "metadata": {
        "colab": {
          "base_uri": "https://localhost:8080/",
          "height": 390
        },
        "id": "Vh4B9Icc_bSH",
        "outputId": "2fc481e5-7d89-490a-b050-a7f1720a9626"
      },
      "source": [
        "Popular_Data.head(10)"
      ],
      "execution_count": 27,
      "outputs": [
        {
          "output_type": "execute_result",
          "data": {
            "text/html": [
              "<div>\n",
              "<style scoped>\n",
              "    .dataframe tbody tr th:only-of-type {\n",
              "        vertical-align: middle;\n",
              "    }\n",
              "\n",
              "    .dataframe tbody tr th {\n",
              "        vertical-align: top;\n",
              "    }\n",
              "\n",
              "    .dataframe thead th {\n",
              "        text-align: right;\n",
              "    }\n",
              "</style>\n",
              "<table border=\"1\" class=\"dataframe\">\n",
              "  <thead>\n",
              "    <tr style=\"text-align: right;\">\n",
              "      <th></th>\n",
              "      <th>number of ratings</th>\n",
              "      <th>rating_mean</th>\n",
              "    </tr>\n",
              "    <tr>\n",
              "      <th>productID</th>\n",
              "      <th></th>\n",
              "      <th></th>\n",
              "    </tr>\n",
              "  </thead>\n",
              "  <tbody>\n",
              "    <tr>\n",
              "      <th>B0074BW614</th>\n",
              "      <td>1138</td>\n",
              "      <td>4.465729</td>\n",
              "    </tr>\n",
              "    <tr>\n",
              "      <th>B00DR0PDNE</th>\n",
              "      <td>1094</td>\n",
              "      <td>3.943327</td>\n",
              "    </tr>\n",
              "    <tr>\n",
              "      <th>B007WTAJTO</th>\n",
              "      <td>883</td>\n",
              "      <td>4.417894</td>\n",
              "    </tr>\n",
              "    <tr>\n",
              "      <th>B0019EHU8G</th>\n",
              "      <td>774</td>\n",
              "      <td>4.740310</td>\n",
              "    </tr>\n",
              "    <tr>\n",
              "      <th>B006GWO5WK</th>\n",
              "      <td>770</td>\n",
              "      <td>4.275325</td>\n",
              "    </tr>\n",
              "    <tr>\n",
              "      <th>B003ELYQGG</th>\n",
              "      <td>765</td>\n",
              "      <td>4.386928</td>\n",
              "    </tr>\n",
              "    <tr>\n",
              "      <th>B003ES5ZUU</th>\n",
              "      <td>681</td>\n",
              "      <td>4.684288</td>\n",
              "    </tr>\n",
              "    <tr>\n",
              "      <th>B00622AG6S</th>\n",
              "      <td>668</td>\n",
              "      <td>4.419162</td>\n",
              "    </tr>\n",
              "    <tr>\n",
              "      <th>B007R5YDYA</th>\n",
              "      <td>659</td>\n",
              "      <td>4.738998</td>\n",
              "    </tr>\n",
              "    <tr>\n",
              "      <th>B008OHNZI0</th>\n",
              "      <td>589</td>\n",
              "      <td>4.303905</td>\n",
              "    </tr>\n",
              "  </tbody>\n",
              "</table>\n",
              "</div>"
            ],
            "text/plain": [
              "            number of ratings  rating_mean\n",
              "productID                                 \n",
              "B0074BW614               1138     4.465729\n",
              "B00DR0PDNE               1094     3.943327\n",
              "B007WTAJTO                883     4.417894\n",
              "B0019EHU8G                774     4.740310\n",
              "B006GWO5WK                770     4.275325\n",
              "B003ELYQGG                765     4.386928\n",
              "B003ES5ZUU                681     4.684288\n",
              "B00622AG6S                668     4.419162\n",
              "B007R5YDYA                659     4.738998\n",
              "B008OHNZI0                589     4.303905"
            ]
          },
          "metadata": {
            "tags": []
          },
          "execution_count": 27
        }
      ]
    },
    {
      "cell_type": "code",
      "metadata": {
        "id": "F6Ij2mu-_bSH"
      },
      "source": [
        "# Use popularity based recommender model to make predictions and giving count as option\n",
        "def popular_recommend(user_id, c): \n",
        "    print('-' *58)\n",
        "    print(' Here are the recommended popular products for you, top',c)\n",
        "    print('-' *58)\n",
        "    products_already_rated_by_user = Electronics_data[Electronics_data.userID ==user_id]['productID']\n",
        "    user_recommendations = Popular_Data.drop(products_already_rated_by_user)\n",
        "    print(user_recommendations.head(c))"
      ],
      "execution_count": 28,
      "outputs": []
    },
    {
      "cell_type": "code",
      "metadata": {
        "colab": {
          "base_uri": "https://localhost:8080/"
        },
        "id": "0RGIPebz_bSH",
        "outputId": "9e9a95c4-a67d-481a-f82b-ec8dce9a9da5"
      },
      "source": [
        "popular_recommend('A5JLAU2ARJ0BO',5) # Recommend for top say 5 product for the user"
      ],
      "execution_count": 29,
      "outputs": [
        {
          "output_type": "stream",
          "text": [
            "----------------------------------------------------------\n",
            " Here are the recommended popular products for you, top 5\n",
            "----------------------------------------------------------\n",
            "            number of ratings  rating_mean\n",
            "productID                                 \n",
            "B0074BW614               1138     4.465729\n",
            "B00DR0PDNE               1094     3.943327\n",
            "B007WTAJTO                883     4.417894\n",
            "B0019EHU8G                774     4.740310\n",
            "B006GWO5WK                770     4.275325\n"
          ],
          "name": "stdout"
        }
      ]
    },
    {
      "cell_type": "markdown",
      "metadata": {
        "id": "kjBmWnsM_bSI"
      },
      "source": [
        "The model will always recommend from the same above ordered Product_Data table to all users based on generic ranking method of average of all the ratings to the product. However we can have different ranking mechanism based on business requirement.\n",
        "\n",
        "For user specific preference recommendation basis on users with similiar interests we will use collaborative filtering using surprise library from scikit for building the model."
      ]
    },
    {
      "cell_type": "markdown",
      "metadata": {
        "id": "Q3XD2lGI_bSJ"
      },
      "source": [
        "#### 3. Split the data randomly into a train and test dataset. ( For example, split it in 70/30 ratio)"
      ]
    },
    {
      "cell_type": "code",
      "metadata": {
        "colab": {
          "base_uri": "https://localhost:8080/"
        },
        "id": "2LhJDgVmCEah",
        "outputId": "d8c4134c-d21a-4da5-d393-12052307f032"
      },
      "source": [
        "!pip install scikit-surprise"
      ],
      "execution_count": 30,
      "outputs": [
        {
          "output_type": "stream",
          "text": [
            "Collecting scikit-surprise\n",
            "\u001b[?25l  Downloading https://files.pythonhosted.org/packages/97/37/5d334adaf5ddd65da99fc65f6507e0e4599d092ba048f4302fe8775619e8/scikit-surprise-1.1.1.tar.gz (11.8MB)\n",
            "\u001b[K     |████████████████████████████████| 11.8MB 265kB/s \n",
            "\u001b[?25hRequirement already satisfied: joblib>=0.11 in /usr/local/lib/python3.6/dist-packages (from scikit-surprise) (1.0.0)\n",
            "Requirement already satisfied: numpy>=1.11.2 in /usr/local/lib/python3.6/dist-packages (from scikit-surprise) (1.19.4)\n",
            "Requirement already satisfied: scipy>=1.0.0 in /usr/local/lib/python3.6/dist-packages (from scikit-surprise) (1.4.1)\n",
            "Requirement already satisfied: six>=1.10.0 in /usr/local/lib/python3.6/dist-packages (from scikit-surprise) (1.15.0)\n",
            "Building wheels for collected packages: scikit-surprise\n",
            "  Building wheel for scikit-surprise (setup.py) ... \u001b[?25l\u001b[?25hdone\n",
            "  Created wheel for scikit-surprise: filename=scikit_surprise-1.1.1-cp36-cp36m-linux_x86_64.whl size=1618296 sha256=5cf6f13f3e09df345672be300d12c2cc785446493cbeb49c2e46d27864e3d1a1\n",
            "  Stored in directory: /root/.cache/pip/wheels/78/9c/3d/41b419c9d2aff5b6e2b4c0fc8d25c538202834058f9ed110d0\n",
            "Successfully built scikit-surprise\n",
            "Installing collected packages: scikit-surprise\n",
            "Successfully installed scikit-surprise-1.1.1\n"
          ],
          "name": "stdout"
        }
      ]
    },
    {
      "cell_type": "code",
      "metadata": {
        "id": "J4lHSSAB_bSK"
      },
      "source": [
        "# importing surprise libraries\n",
        "from surprise import Dataset, Reader, accuracy\n",
        "import os\n",
        "from surprise.model_selection import train_test_split"
      ],
      "execution_count": 31,
      "outputs": []
    },
    {
      "cell_type": "code",
      "metadata": {
        "id": "BCiLsiqc_bSK"
      },
      "source": [
        "reader = Reader(rating_scale=(1, 5)) #rating scale fixing the same\n",
        "data = Dataset.load_from_df(Electronics_data[['userID', 'productID', 'rating']], reader,)"
      ],
      "execution_count": 32,
      "outputs": []
    },
    {
      "cell_type": "code",
      "metadata": {
        "colab": {
          "base_uri": "https://localhost:8080/"
        },
        "id": "XpftAjgV_bSL",
        "outputId": "7e59eb9f-5bf6-4279-b45a-f6f9ca228063"
      },
      "source": [
        "data #data type"
      ],
      "execution_count": 33,
      "outputs": [
        {
          "output_type": "execute_result",
          "data": {
            "text/plain": [
              "<surprise.dataset.DatasetAutoFolds at 0x7feaf2f0be80>"
            ]
          },
          "metadata": {
            "tags": []
          },
          "execution_count": 33
        }
      ]
    },
    {
      "cell_type": "code",
      "metadata": {
        "id": "lTaKc0QD_bSL"
      },
      "source": [
        "# Split data to train and test\n",
        "trainset, testset = train_test_split(data, test_size=.30,random_state=123)"
      ],
      "execution_count": 34,
      "outputs": []
    },
    {
      "cell_type": "markdown",
      "metadata": {
        "id": "XB4w__IK_bSM"
      },
      "source": [
        "#### 4. Build Collaborative Filtering model.\r\n",
        "\r\n",
        "Collaborative Filtering matches persons with similar interests and provides recommendations based on this matching. It is based on the idea that users similar to me can be used to predict how much I will like a particular product or service those users have used/experienced but I have not."
      ]
    },
    {
      "cell_type": "markdown",
      "metadata": {
        "id": "6tK2_MjU_bSM"
      },
      "source": [
        "As data is sparse and huge we will use Model based SVD for collaborative filtering in our recommendation system"
      ]
    },
    {
      "cell_type": "code",
      "metadata": {
        "colab": {
          "base_uri": "https://localhost:8080/"
        },
        "id": "UNgrG-0rQ3Le",
        "outputId": "72333370-519a-4597-fa80-5783be01a97a"
      },
      "source": [
        "# Import SVD libraries and use gridsearch for parameter tuning\r\n",
        "from surprise import SVD\r\n",
        "from surprise.model_selection import GridSearchCV\r\n",
        "\r\n",
        "param_grid = {'n_factors':[5, 50, 100],'n_epochs':[20,30],  'lr_all':[0.005,0.01],'reg_all':[0.02,0.1],'random_state':[3],'biased':[True]}\r\n",
        "\r\n",
        "gs = GridSearchCV(SVD, param_grid, measures=['rmse', 'mae'], cv=3)\r\n",
        "\r\n",
        "gs.fit(data)\r\n",
        "\r\n",
        "# best RMSE score\r\n",
        "print(gs.best_score['rmse'])\r\n",
        "\r\n",
        "# combination of parameters that gave the best RMSE score\r\n",
        "print(gs.best_params['rmse'])\r\n"
      ],
      "execution_count": 35,
      "outputs": [
        {
          "output_type": "stream",
          "text": [
            "1.3400824289359885\n",
            "{'n_factors': 5, 'n_epochs': 30, 'lr_all': 0.005, 'reg_all': 0.1, 'random_state': 3, 'biased': True}\n"
          ],
          "name": "stdout"
        }
      ]
    },
    {
      "cell_type": "code",
      "metadata": {
        "id": "wpWsjyLK_bSO",
        "colab": {
          "base_uri": "https://localhost:8080/"
        },
        "outputId": "e3bdf20d-5c31-4b26-8680-b510513cf520"
      },
      "source": [
        "# With above paramenters tuned we will build the model using trainset\n",
        "from surprise import SVD\n",
        "svd_model = SVD(n_factors=5,n_epochs=30, lr_all=0.005, reg_all= 0.1, random_state=3,biased = True )\n",
        "svd_model.fit(trainset)"
      ],
      "execution_count": 36,
      "outputs": [
        {
          "output_type": "execute_result",
          "data": {
            "text/plain": [
              "<surprise.prediction_algorithms.matrix_factorization.SVD at 0x7feaf2f29ac8>"
            ]
          },
          "metadata": {
            "tags": []
          },
          "execution_count": 36
        }
      ]
    },
    {
      "cell_type": "code",
      "metadata": {
        "id": "EXxegXKu_bSO",
        "colab": {
          "base_uri": "https://localhost:8080/"
        },
        "outputId": "037db5b2-534c-426b-f666-d39583a66ad5"
      },
      "source": [
        "#Evaluating the model using cross validation results\n",
        "from surprise.model_selection import cross_validate\n",
        "cross_validate(svd_model, data, measures=['RMSE', 'MAE'], cv=5, verbose=True)"
      ],
      "execution_count": 37,
      "outputs": [
        {
          "output_type": "stream",
          "text": [
            "Evaluating RMSE, MAE of algorithm SVD on 5 split(s).\n",
            "\n",
            "                  Fold 1  Fold 2  Fold 3  Fold 4  Fold 5  Mean    Std     \n",
            "RMSE (testset)    1.3345  1.3359  1.3359  1.3357  1.3426  1.3369  0.0029  \n",
            "MAE (testset)     1.0561  1.0583  1.0579  1.0582  1.0639  1.0589  0.0026  \n",
            "Fit time          11.92   11.95   12.11   12.08   12.15   12.04   0.09    \n",
            "Test time         1.06    1.03    0.64    0.61    0.64    0.80    0.20    \n"
          ],
          "name": "stdout"
        },
        {
          "output_type": "execute_result",
          "data": {
            "text/plain": [
              "{'fit_time': (11.922641038894653,\n",
              "  11.945330381393433,\n",
              "  12.111747026443481,\n",
              "  12.079667568206787,\n",
              "  12.150163173675537),\n",
              " 'test_mae': array([1.05611441, 1.05832676, 1.0579398 , 1.05824216, 1.06392192]),\n",
              " 'test_rmse': array([1.33445708, 1.33591365, 1.33590604, 1.33569427, 1.34260002]),\n",
              " 'test_time': (1.0590527057647705,\n",
              "  1.03218674659729,\n",
              "  0.6430861949920654,\n",
              "  0.6111798286437988,\n",
              "  0.639378547668457)}"
            ]
          },
          "metadata": {
            "tags": []
          },
          "execution_count": 37
        }
      ]
    },
    {
      "cell_type": "markdown",
      "metadata": {
        "id": "2A4-lfk-XOJf"
      },
      "source": [
        "We have average RSME = 1.336 which is the best so far obtained from the SVD model built. Lets proceed to evaluate."
      ]
    },
    {
      "cell_type": "markdown",
      "metadata": {
        "id": "hRVYeraQYVE1"
      },
      "source": [
        "#### 5. Evaluate the above model. "
      ]
    },
    {
      "cell_type": "code",
      "metadata": {
        "id": "2iHjnNgTWiLC"
      },
      "source": [
        "test_pred = svd_model.test(testset) #Predict the test data set using the model"
      ],
      "execution_count": 38,
      "outputs": []
    },
    {
      "cell_type": "code",
      "metadata": {
        "id": "9ivYyPkUXnzU",
        "colab": {
          "base_uri": "https://localhost:8080/"
        },
        "outputId": "a57ed0a0-ad23-431f-c7d8-724032dae346"
      },
      "source": [
        "accuracy.rmse(test_pred)"
      ],
      "execution_count": 39,
      "outputs": [
        {
          "output_type": "stream",
          "text": [
            "RMSE: 1.1088\n"
          ],
          "name": "stdout"
        },
        {
          "output_type": "execute_result",
          "data": {
            "text/plain": [
              "1.108809728822818"
            ]
          },
          "metadata": {
            "tags": []
          },
          "execution_count": 39
        }
      ]
    },
    {
      "cell_type": "code",
      "metadata": {
        "id": "9jyJapOHY5Zs",
        "colab": {
          "base_uri": "https://localhost:8080/"
        },
        "outputId": "f02c6a97-cb31-486f-8f92-e88bfa7b03e0"
      },
      "source": [
        "test_pred[0:5]"
      ],
      "execution_count": 40,
      "outputs": [
        {
          "output_type": "execute_result",
          "data": {
            "text/plain": [
              "[Prediction(uid='A11451Y0YZCN17', iid='B000KE48CM', r_ui=5.0, est=4.333307316980519, details={'was_impossible': False}),\n",
              " Prediction(uid='A2IGUUFF9J3HL', iid='B000KJQ1DG', r_ui=5.0, est=4.774766800283441, details={'was_impossible': False}),\n",
              " Prediction(uid='A1PHD1SQ704SRN', iid='B008AJNF78', r_ui=2.0, est=2.9573487458196217, details={'was_impossible': False}),\n",
              " Prediction(uid='A2P5ZKNHDQ4WCM', iid='B000XA8766', r_ui=2.0, est=3.2662550076768055, details={'was_impossible': False}),\n",
              " Prediction(uid='A3OLVK2W0AVWLH', iid='B00BYRPM9M', r_ui=1.0, est=3.726810813745325, details={'was_impossible': False})]"
            ]
          },
          "metadata": {
            "tags": []
          },
          "execution_count": 40
        }
      ]
    },
    {
      "cell_type": "markdown",
      "metadata": {
        "id": "0v08S1RucKiY"
      },
      "source": [
        "#### Inference:\r\n",
        "1. We have testset accuracy much better with RSME 1.1088.  In above we can see product 'B000KE48CM' was rated as 5 by user 'A11451Y0YZCN17' and the model has predicted it to be rated by user as 4.333307316980519.\r\n",
        "2. SVD model is able to provide predictions much accurately even with sparse data."
      ]
    },
    {
      "cell_type": "markdown",
      "metadata": {
        "id": "pzARzSrcdHee"
      },
      "source": [
        "#### 6. Get top - K ( K = 5) recommendations. Since our goal is to recommend new products to each user based on his/her habits, we will recommend 5 new products."
      ]
    },
    {
      "cell_type": "markdown",
      "metadata": {
        "id": "bxJJpYrWju8L"
      },
      "source": [
        "To recommend new products based on user chozen product, we must create a correlation matrix that will enable to recommend highly correlated books based on data of other users with similiar choices. "
      ]
    },
    {
      "cell_type": "markdown",
      "metadata": {
        "id": "ONe5PwGRnGim"
      },
      "source": [
        "We can reduce the data set if we filter data which only contains the customers who have given ratings more than 4 times and put them into a dataframe. This makes sense also instead of taking whole data. Since we are providing the recommendation of the products to the customers, it is better to remove data based on the userId rather than productId. For others we would recommend the popular data set."
      ]
    },
    {
      "cell_type": "code",
      "metadata": {
        "id": "_6PJFpc-nEvp"
      },
      "source": [
        "data_new=Electronics_data.groupby('userID').filter(lambda x: x['rating'].count()>=4)"
      ],
      "execution_count": 41,
      "outputs": []
    },
    {
      "cell_type": "code",
      "metadata": {
        "id": "7of0medSnsgo",
        "colab": {
          "base_uri": "https://localhost:8080/"
        },
        "outputId": "237df4e6-c788-4364-f1eb-8fb3d712d7f6"
      },
      "source": [
        "data_new.shape"
      ],
      "execution_count": 42,
      "outputs": [
        {
          "output_type": "execute_result",
          "data": {
            "text/plain": [
              "(14535, 3)"
            ]
          },
          "metadata": {
            "tags": []
          },
          "execution_count": 42
        }
      ]
    },
    {
      "cell_type": "code",
      "metadata": {
        "id": "v65pQDmYu5So",
        "colab": {
          "base_uri": "https://localhost:8080/",
          "height": 204
        },
        "outputId": "fc050e1f-f84e-4ba7-c526-2124f06c7a10"
      },
      "source": [
        "data_new.head(5)"
      ],
      "execution_count": 43,
      "outputs": [
        {
          "output_type": "execute_result",
          "data": {
            "text/html": [
              "<div>\n",
              "<style scoped>\n",
              "    .dataframe tbody tr th:only-of-type {\n",
              "        vertical-align: middle;\n",
              "    }\n",
              "\n",
              "    .dataframe tbody tr th {\n",
              "        vertical-align: top;\n",
              "    }\n",
              "\n",
              "    .dataframe thead th {\n",
              "        text-align: right;\n",
              "    }\n",
              "</style>\n",
              "<table border=\"1\" class=\"dataframe\">\n",
              "  <thead>\n",
              "    <tr style=\"text-align: right;\">\n",
              "      <th></th>\n",
              "      <th>userID</th>\n",
              "      <th>productID</th>\n",
              "      <th>rating</th>\n",
              "    </tr>\n",
              "  </thead>\n",
              "  <tbody>\n",
              "    <tr>\n",
              "      <th>26</th>\n",
              "      <td>A2HX3D3MPPASNS</td>\n",
              "      <td>B004I3VZM2</td>\n",
              "      <td>4</td>\n",
              "    </tr>\n",
              "    <tr>\n",
              "      <th>64</th>\n",
              "      <td>A3PAYT2SQY7J3H</td>\n",
              "      <td>B002WR7VSS</td>\n",
              "      <td>5</td>\n",
              "    </tr>\n",
              "    <tr>\n",
              "      <th>67</th>\n",
              "      <td>A3MLSY6VS7AB8O</td>\n",
              "      <td>B001IBHF5S</td>\n",
              "      <td>5</td>\n",
              "    </tr>\n",
              "    <tr>\n",
              "      <th>125</th>\n",
              "      <td>A23M8B84K9TSBJ</td>\n",
              "      <td>B0017KMI66</td>\n",
              "      <td>5</td>\n",
              "    </tr>\n",
              "    <tr>\n",
              "      <th>214</th>\n",
              "      <td>AZNUHQSHZHSUE</td>\n",
              "      <td>B000FJEYZI</td>\n",
              "      <td>1</td>\n",
              "    </tr>\n",
              "  </tbody>\n",
              "</table>\n",
              "</div>"
            ],
            "text/plain": [
              "             userID   productID  rating\n",
              "26   A2HX3D3MPPASNS  B004I3VZM2       4\n",
              "64   A3PAYT2SQY7J3H  B002WR7VSS       5\n",
              "67   A3MLSY6VS7AB8O  B001IBHF5S       5\n",
              "125  A23M8B84K9TSBJ  B0017KMI66       5\n",
              "214   AZNUHQSHZHSUE  B000FJEYZI       1"
            ]
          },
          "metadata": {
            "tags": []
          },
          "execution_count": 43
        }
      ]
    },
    {
      "cell_type": "code",
      "metadata": {
        "id": "-GhLRiUWjKtT",
        "colab": {
          "base_uri": "https://localhost:8080/",
          "height": 284
        },
        "outputId": "25a6124f-41db-43b8-f4a6-63a9ac974bd2"
      },
      "source": [
        "# Hybrid Matrix for user id and product id and their ratings\r\n",
        "matrix=pd.pivot_table(data=data_new, values='rating', index='userID',columns='productID',fill_value=0)\r\n",
        "matrix.head()"
      ],
      "execution_count": 44,
      "outputs": [
        {
          "output_type": "execute_result",
          "data": {
            "text/html": [
              "<div>\n",
              "<style scoped>\n",
              "    .dataframe tbody tr th:only-of-type {\n",
              "        vertical-align: middle;\n",
              "    }\n",
              "\n",
              "    .dataframe tbody tr th {\n",
              "        vertical-align: top;\n",
              "    }\n",
              "\n",
              "    .dataframe thead th {\n",
              "        text-align: right;\n",
              "    }\n",
              "</style>\n",
              "<table border=\"1\" class=\"dataframe\">\n",
              "  <thead>\n",
              "    <tr style=\"text-align: right;\">\n",
              "      <th>productID</th>\n",
              "      <th>1400501466</th>\n",
              "      <th>1400532620</th>\n",
              "      <th>1400532655</th>\n",
              "      <th>140053271X</th>\n",
              "      <th>3744295508</th>\n",
              "      <th>5135000011</th>\n",
              "      <th>7507825604</th>\n",
              "      <th>8862935293</th>\n",
              "      <th>9573212919</th>\n",
              "      <th>9985511476</th>\n",
              "      <th>9985696999</th>\n",
              "      <th>B000001OM4</th>\n",
              "      <th>B000001OMA</th>\n",
              "      <th>B000006OQ8</th>\n",
              "      <th>B00000DM9M</th>\n",
              "      <th>B00000DM9W</th>\n",
              "      <th>B00000DMA3</th>\n",
              "      <th>B00000J1SC</th>\n",
              "      <th>B00000J1US</th>\n",
              "      <th>B00000J4FS</th>\n",
              "      <th>B00000J4VK</th>\n",
              "      <th>B00000JD4V</th>\n",
              "      <th>B00000JDF5</th>\n",
              "      <th>B00000JDFJ</th>\n",
              "      <th>B00000JI4F</th>\n",
              "      <th>B00000JLSJ</th>\n",
              "      <th>B00000JMO3</th>\n",
              "      <th>B00000JMRX</th>\n",
              "      <th>B00000JRHX</th>\n",
              "      <th>B00000JXV3</th>\n",
              "      <th>B00000K0JC</th>\n",
              "      <th>B00000K135</th>\n",
              "      <th>B00001MXYW</th>\n",
              "      <th>B00001P4XH</th>\n",
              "      <th>B00001P4ZH</th>\n",
              "      <th>B00001W0DI</th>\n",
              "      <th>B00001WRI4</th>\n",
              "      <th>B00001WRSJ</th>\n",
              "      <th>B00001X5AZ</th>\n",
              "      <th>B00001ZUJA</th>\n",
              "      <th>...</th>\n",
              "      <th>B00JTYYV0I</th>\n",
              "      <th>B00JUI6SV8</th>\n",
              "      <th>B00JVOTUGQ</th>\n",
              "      <th>B00JVVU0SQ</th>\n",
              "      <th>B00JX1ZS5O</th>\n",
              "      <th>B00JXECZIY</th>\n",
              "      <th>B00JXLGE70</th>\n",
              "      <th>B00JXLGECA</th>\n",
              "      <th>B00JXPP9RW</th>\n",
              "      <th>B00JXUUVWU</th>\n",
              "      <th>B00JY4QCJQ</th>\n",
              "      <th>B00JZC972Q</th>\n",
              "      <th>B00K0HMR8G</th>\n",
              "      <th>B00K0HMSQM</th>\n",
              "      <th>B00K163ETW</th>\n",
              "      <th>B00K23WA9E</th>\n",
              "      <th>B00K2L3G5I</th>\n",
              "      <th>B00K6B7KJM</th>\n",
              "      <th>B00K76VHRC</th>\n",
              "      <th>B00K7KEZ0O</th>\n",
              "      <th>B00K7O2DJU</th>\n",
              "      <th>B00K8942SO</th>\n",
              "      <th>B00KCAPAKI</th>\n",
              "      <th>B00KCG95M6</th>\n",
              "      <th>B00KCQISWY</th>\n",
              "      <th>B00KDIT95G</th>\n",
              "      <th>B00KFD0O0I</th>\n",
              "      <th>B00KGTDDIG</th>\n",
              "      <th>B00KH8PU6E</th>\n",
              "      <th>B00KHA2DQM</th>\n",
              "      <th>B00KHA5G6G</th>\n",
              "      <th>B00KIMX4EY</th>\n",
              "      <th>B00KK9481I</th>\n",
              "      <th>B00KMRGB7C</th>\n",
              "      <th>B00KMRGF28</th>\n",
              "      <th>B00KO6DS3Q</th>\n",
              "      <th>B00KWMNDDM</th>\n",
              "      <th>B00KYMCJF8</th>\n",
              "      <th>B00L2442H0</th>\n",
              "      <th>B00L26YDA4</th>\n",
              "    </tr>\n",
              "    <tr>\n",
              "      <th>userID</th>\n",
              "      <th></th>\n",
              "      <th></th>\n",
              "      <th></th>\n",
              "      <th></th>\n",
              "      <th></th>\n",
              "      <th></th>\n",
              "      <th></th>\n",
              "      <th></th>\n",
              "      <th></th>\n",
              "      <th></th>\n",
              "      <th></th>\n",
              "      <th></th>\n",
              "      <th></th>\n",
              "      <th></th>\n",
              "      <th></th>\n",
              "      <th></th>\n",
              "      <th></th>\n",
              "      <th></th>\n",
              "      <th></th>\n",
              "      <th></th>\n",
              "      <th></th>\n",
              "      <th></th>\n",
              "      <th></th>\n",
              "      <th></th>\n",
              "      <th></th>\n",
              "      <th></th>\n",
              "      <th></th>\n",
              "      <th></th>\n",
              "      <th></th>\n",
              "      <th></th>\n",
              "      <th></th>\n",
              "      <th></th>\n",
              "      <th></th>\n",
              "      <th></th>\n",
              "      <th></th>\n",
              "      <th></th>\n",
              "      <th></th>\n",
              "      <th></th>\n",
              "      <th></th>\n",
              "      <th></th>\n",
              "      <th></th>\n",
              "      <th></th>\n",
              "      <th></th>\n",
              "      <th></th>\n",
              "      <th></th>\n",
              "      <th></th>\n",
              "      <th></th>\n",
              "      <th></th>\n",
              "      <th></th>\n",
              "      <th></th>\n",
              "      <th></th>\n",
              "      <th></th>\n",
              "      <th></th>\n",
              "      <th></th>\n",
              "      <th></th>\n",
              "      <th></th>\n",
              "      <th></th>\n",
              "      <th></th>\n",
              "      <th></th>\n",
              "      <th></th>\n",
              "      <th></th>\n",
              "      <th></th>\n",
              "      <th></th>\n",
              "      <th></th>\n",
              "      <th></th>\n",
              "      <th></th>\n",
              "      <th></th>\n",
              "      <th></th>\n",
              "      <th></th>\n",
              "      <th></th>\n",
              "      <th></th>\n",
              "      <th></th>\n",
              "      <th></th>\n",
              "      <th></th>\n",
              "      <th></th>\n",
              "      <th></th>\n",
              "      <th></th>\n",
              "      <th></th>\n",
              "      <th></th>\n",
              "      <th></th>\n",
              "      <th></th>\n",
              "    </tr>\n",
              "  </thead>\n",
              "  <tbody>\n",
              "    <tr>\n",
              "      <th>A0655860XQH1M5Q8JH1M</th>\n",
              "      <td>0</td>\n",
              "      <td>0</td>\n",
              "      <td>0</td>\n",
              "      <td>0</td>\n",
              "      <td>0</td>\n",
              "      <td>0</td>\n",
              "      <td>0</td>\n",
              "      <td>0</td>\n",
              "      <td>0</td>\n",
              "      <td>0</td>\n",
              "      <td>0</td>\n",
              "      <td>0</td>\n",
              "      <td>0</td>\n",
              "      <td>0</td>\n",
              "      <td>0</td>\n",
              "      <td>0</td>\n",
              "      <td>0</td>\n",
              "      <td>0</td>\n",
              "      <td>0</td>\n",
              "      <td>0</td>\n",
              "      <td>0</td>\n",
              "      <td>0</td>\n",
              "      <td>0</td>\n",
              "      <td>0</td>\n",
              "      <td>0</td>\n",
              "      <td>0</td>\n",
              "      <td>0</td>\n",
              "      <td>0</td>\n",
              "      <td>0</td>\n",
              "      <td>0</td>\n",
              "      <td>0</td>\n",
              "      <td>0</td>\n",
              "      <td>0</td>\n",
              "      <td>0</td>\n",
              "      <td>0</td>\n",
              "      <td>0</td>\n",
              "      <td>0</td>\n",
              "      <td>0</td>\n",
              "      <td>0</td>\n",
              "      <td>0</td>\n",
              "      <td>...</td>\n",
              "      <td>0</td>\n",
              "      <td>0</td>\n",
              "      <td>0</td>\n",
              "      <td>0</td>\n",
              "      <td>0</td>\n",
              "      <td>0</td>\n",
              "      <td>0</td>\n",
              "      <td>0</td>\n",
              "      <td>0</td>\n",
              "      <td>0</td>\n",
              "      <td>0</td>\n",
              "      <td>0</td>\n",
              "      <td>0</td>\n",
              "      <td>0</td>\n",
              "      <td>0</td>\n",
              "      <td>0</td>\n",
              "      <td>0</td>\n",
              "      <td>0</td>\n",
              "      <td>0</td>\n",
              "      <td>0</td>\n",
              "      <td>0</td>\n",
              "      <td>0</td>\n",
              "      <td>0</td>\n",
              "      <td>0</td>\n",
              "      <td>0</td>\n",
              "      <td>0</td>\n",
              "      <td>0</td>\n",
              "      <td>0</td>\n",
              "      <td>0</td>\n",
              "      <td>0</td>\n",
              "      <td>0</td>\n",
              "      <td>0</td>\n",
              "      <td>0</td>\n",
              "      <td>0</td>\n",
              "      <td>0</td>\n",
              "      <td>0</td>\n",
              "      <td>0</td>\n",
              "      <td>0</td>\n",
              "      <td>0</td>\n",
              "      <td>0</td>\n",
              "    </tr>\n",
              "    <tr>\n",
              "      <th>A100UD67AHFODS</th>\n",
              "      <td>0</td>\n",
              "      <td>0</td>\n",
              "      <td>0</td>\n",
              "      <td>0</td>\n",
              "      <td>0</td>\n",
              "      <td>0</td>\n",
              "      <td>0</td>\n",
              "      <td>0</td>\n",
              "      <td>0</td>\n",
              "      <td>0</td>\n",
              "      <td>0</td>\n",
              "      <td>0</td>\n",
              "      <td>0</td>\n",
              "      <td>0</td>\n",
              "      <td>0</td>\n",
              "      <td>0</td>\n",
              "      <td>0</td>\n",
              "      <td>0</td>\n",
              "      <td>0</td>\n",
              "      <td>0</td>\n",
              "      <td>0</td>\n",
              "      <td>0</td>\n",
              "      <td>0</td>\n",
              "      <td>0</td>\n",
              "      <td>0</td>\n",
              "      <td>0</td>\n",
              "      <td>0</td>\n",
              "      <td>0</td>\n",
              "      <td>0</td>\n",
              "      <td>0</td>\n",
              "      <td>0</td>\n",
              "      <td>0</td>\n",
              "      <td>0</td>\n",
              "      <td>0</td>\n",
              "      <td>0</td>\n",
              "      <td>0</td>\n",
              "      <td>0</td>\n",
              "      <td>0</td>\n",
              "      <td>0</td>\n",
              "      <td>0</td>\n",
              "      <td>...</td>\n",
              "      <td>0</td>\n",
              "      <td>0</td>\n",
              "      <td>0</td>\n",
              "      <td>0</td>\n",
              "      <td>0</td>\n",
              "      <td>0</td>\n",
              "      <td>0</td>\n",
              "      <td>0</td>\n",
              "      <td>0</td>\n",
              "      <td>0</td>\n",
              "      <td>0</td>\n",
              "      <td>0</td>\n",
              "      <td>0</td>\n",
              "      <td>0</td>\n",
              "      <td>0</td>\n",
              "      <td>0</td>\n",
              "      <td>0</td>\n",
              "      <td>0</td>\n",
              "      <td>0</td>\n",
              "      <td>0</td>\n",
              "      <td>0</td>\n",
              "      <td>0</td>\n",
              "      <td>0</td>\n",
              "      <td>0</td>\n",
              "      <td>0</td>\n",
              "      <td>0</td>\n",
              "      <td>0</td>\n",
              "      <td>0</td>\n",
              "      <td>0</td>\n",
              "      <td>0</td>\n",
              "      <td>0</td>\n",
              "      <td>0</td>\n",
              "      <td>0</td>\n",
              "      <td>0</td>\n",
              "      <td>0</td>\n",
              "      <td>0</td>\n",
              "      <td>0</td>\n",
              "      <td>0</td>\n",
              "      <td>0</td>\n",
              "      <td>0</td>\n",
              "    </tr>\n",
              "    <tr>\n",
              "      <th>A100WO06OQR8BQ</th>\n",
              "      <td>0</td>\n",
              "      <td>0</td>\n",
              "      <td>0</td>\n",
              "      <td>0</td>\n",
              "      <td>0</td>\n",
              "      <td>0</td>\n",
              "      <td>0</td>\n",
              "      <td>0</td>\n",
              "      <td>0</td>\n",
              "      <td>0</td>\n",
              "      <td>0</td>\n",
              "      <td>0</td>\n",
              "      <td>0</td>\n",
              "      <td>0</td>\n",
              "      <td>0</td>\n",
              "      <td>0</td>\n",
              "      <td>0</td>\n",
              "      <td>0</td>\n",
              "      <td>0</td>\n",
              "      <td>0</td>\n",
              "      <td>0</td>\n",
              "      <td>0</td>\n",
              "      <td>0</td>\n",
              "      <td>0</td>\n",
              "      <td>0</td>\n",
              "      <td>0</td>\n",
              "      <td>0</td>\n",
              "      <td>0</td>\n",
              "      <td>0</td>\n",
              "      <td>0</td>\n",
              "      <td>0</td>\n",
              "      <td>0</td>\n",
              "      <td>0</td>\n",
              "      <td>0</td>\n",
              "      <td>0</td>\n",
              "      <td>0</td>\n",
              "      <td>0</td>\n",
              "      <td>0</td>\n",
              "      <td>0</td>\n",
              "      <td>0</td>\n",
              "      <td>...</td>\n",
              "      <td>0</td>\n",
              "      <td>0</td>\n",
              "      <td>0</td>\n",
              "      <td>0</td>\n",
              "      <td>0</td>\n",
              "      <td>0</td>\n",
              "      <td>0</td>\n",
              "      <td>0</td>\n",
              "      <td>0</td>\n",
              "      <td>0</td>\n",
              "      <td>0</td>\n",
              "      <td>0</td>\n",
              "      <td>0</td>\n",
              "      <td>0</td>\n",
              "      <td>0</td>\n",
              "      <td>0</td>\n",
              "      <td>0</td>\n",
              "      <td>0</td>\n",
              "      <td>0</td>\n",
              "      <td>0</td>\n",
              "      <td>0</td>\n",
              "      <td>0</td>\n",
              "      <td>0</td>\n",
              "      <td>0</td>\n",
              "      <td>0</td>\n",
              "      <td>0</td>\n",
              "      <td>0</td>\n",
              "      <td>0</td>\n",
              "      <td>0</td>\n",
              "      <td>0</td>\n",
              "      <td>0</td>\n",
              "      <td>0</td>\n",
              "      <td>0</td>\n",
              "      <td>0</td>\n",
              "      <td>0</td>\n",
              "      <td>0</td>\n",
              "      <td>0</td>\n",
              "      <td>0</td>\n",
              "      <td>0</td>\n",
              "      <td>0</td>\n",
              "    </tr>\n",
              "    <tr>\n",
              "      <th>A102F7EHNVW30Q</th>\n",
              "      <td>0</td>\n",
              "      <td>0</td>\n",
              "      <td>0</td>\n",
              "      <td>0</td>\n",
              "      <td>0</td>\n",
              "      <td>0</td>\n",
              "      <td>0</td>\n",
              "      <td>0</td>\n",
              "      <td>0</td>\n",
              "      <td>0</td>\n",
              "      <td>0</td>\n",
              "      <td>0</td>\n",
              "      <td>0</td>\n",
              "      <td>0</td>\n",
              "      <td>0</td>\n",
              "      <td>0</td>\n",
              "      <td>0</td>\n",
              "      <td>0</td>\n",
              "      <td>0</td>\n",
              "      <td>0</td>\n",
              "      <td>0</td>\n",
              "      <td>0</td>\n",
              "      <td>0</td>\n",
              "      <td>0</td>\n",
              "      <td>0</td>\n",
              "      <td>0</td>\n",
              "      <td>0</td>\n",
              "      <td>0</td>\n",
              "      <td>0</td>\n",
              "      <td>0</td>\n",
              "      <td>0</td>\n",
              "      <td>0</td>\n",
              "      <td>0</td>\n",
              "      <td>0</td>\n",
              "      <td>0</td>\n",
              "      <td>0</td>\n",
              "      <td>0</td>\n",
              "      <td>0</td>\n",
              "      <td>0</td>\n",
              "      <td>0</td>\n",
              "      <td>...</td>\n",
              "      <td>0</td>\n",
              "      <td>0</td>\n",
              "      <td>0</td>\n",
              "      <td>0</td>\n",
              "      <td>0</td>\n",
              "      <td>0</td>\n",
              "      <td>0</td>\n",
              "      <td>0</td>\n",
              "      <td>0</td>\n",
              "      <td>0</td>\n",
              "      <td>0</td>\n",
              "      <td>0</td>\n",
              "      <td>0</td>\n",
              "      <td>0</td>\n",
              "      <td>0</td>\n",
              "      <td>0</td>\n",
              "      <td>0</td>\n",
              "      <td>0</td>\n",
              "      <td>0</td>\n",
              "      <td>0</td>\n",
              "      <td>0</td>\n",
              "      <td>0</td>\n",
              "      <td>0</td>\n",
              "      <td>0</td>\n",
              "      <td>0</td>\n",
              "      <td>0</td>\n",
              "      <td>0</td>\n",
              "      <td>0</td>\n",
              "      <td>0</td>\n",
              "      <td>0</td>\n",
              "      <td>0</td>\n",
              "      <td>0</td>\n",
              "      <td>0</td>\n",
              "      <td>0</td>\n",
              "      <td>0</td>\n",
              "      <td>0</td>\n",
              "      <td>0</td>\n",
              "      <td>0</td>\n",
              "      <td>0</td>\n",
              "      <td>0</td>\n",
              "    </tr>\n",
              "    <tr>\n",
              "      <th>A105S56ODHGJEK</th>\n",
              "      <td>0</td>\n",
              "      <td>0</td>\n",
              "      <td>0</td>\n",
              "      <td>0</td>\n",
              "      <td>0</td>\n",
              "      <td>0</td>\n",
              "      <td>0</td>\n",
              "      <td>0</td>\n",
              "      <td>0</td>\n",
              "      <td>0</td>\n",
              "      <td>0</td>\n",
              "      <td>0</td>\n",
              "      <td>0</td>\n",
              "      <td>0</td>\n",
              "      <td>0</td>\n",
              "      <td>0</td>\n",
              "      <td>0</td>\n",
              "      <td>0</td>\n",
              "      <td>0</td>\n",
              "      <td>0</td>\n",
              "      <td>0</td>\n",
              "      <td>0</td>\n",
              "      <td>0</td>\n",
              "      <td>0</td>\n",
              "      <td>0</td>\n",
              "      <td>0</td>\n",
              "      <td>0</td>\n",
              "      <td>0</td>\n",
              "      <td>0</td>\n",
              "      <td>0</td>\n",
              "      <td>0</td>\n",
              "      <td>0</td>\n",
              "      <td>0</td>\n",
              "      <td>0</td>\n",
              "      <td>0</td>\n",
              "      <td>0</td>\n",
              "      <td>0</td>\n",
              "      <td>0</td>\n",
              "      <td>0</td>\n",
              "      <td>0</td>\n",
              "      <td>...</td>\n",
              "      <td>0</td>\n",
              "      <td>0</td>\n",
              "      <td>0</td>\n",
              "      <td>0</td>\n",
              "      <td>0</td>\n",
              "      <td>0</td>\n",
              "      <td>0</td>\n",
              "      <td>0</td>\n",
              "      <td>0</td>\n",
              "      <td>0</td>\n",
              "      <td>0</td>\n",
              "      <td>0</td>\n",
              "      <td>0</td>\n",
              "      <td>0</td>\n",
              "      <td>0</td>\n",
              "      <td>0</td>\n",
              "      <td>0</td>\n",
              "      <td>0</td>\n",
              "      <td>0</td>\n",
              "      <td>0</td>\n",
              "      <td>0</td>\n",
              "      <td>0</td>\n",
              "      <td>0</td>\n",
              "      <td>0</td>\n",
              "      <td>0</td>\n",
              "      <td>0</td>\n",
              "      <td>0</td>\n",
              "      <td>0</td>\n",
              "      <td>0</td>\n",
              "      <td>0</td>\n",
              "      <td>0</td>\n",
              "      <td>0</td>\n",
              "      <td>0</td>\n",
              "      <td>0</td>\n",
              "      <td>0</td>\n",
              "      <td>0</td>\n",
              "      <td>0</td>\n",
              "      <td>0</td>\n",
              "      <td>0</td>\n",
              "      <td>0</td>\n",
              "    </tr>\n",
              "  </tbody>\n",
              "</table>\n",
              "<p>5 rows × 10876 columns</p>\n",
              "</div>"
            ],
            "text/plain": [
              "productID             1400501466  1400532620  ...  B00L2442H0  B00L26YDA4\n",
              "userID                                        ...                        \n",
              "A0655860XQH1M5Q8JH1M           0           0  ...           0           0\n",
              "A100UD67AHFODS                 0           0  ...           0           0\n",
              "A100WO06OQR8BQ                 0           0  ...           0           0\n",
              "A102F7EHNVW30Q                 0           0  ...           0           0\n",
              "A105S56ODHGJEK                 0           0  ...           0           0\n",
              "\n",
              "[5 rows x 10876 columns]"
            ]
          },
          "metadata": {
            "tags": []
          },
          "execution_count": 44
        }
      ]
    },
    {
      "cell_type": "code",
      "metadata": {
        "id": "tNZoz0rbpd2V",
        "colab": {
          "base_uri": "https://localhost:8080/"
        },
        "outputId": "2dce2822-5f6a-4d7e-eabb-07f7b471eee8"
      },
      "source": [
        "matrix.shape"
      ],
      "execution_count": 45,
      "outputs": [
        {
          "output_type": "execute_result",
          "data": {
            "text/plain": [
              "(2753, 10876)"
            ]
          },
          "metadata": {
            "tags": []
          },
          "execution_count": 45
        }
      ]
    },
    {
      "cell_type": "markdown",
      "metadata": {
        "id": "1UjkoaUXiQQz"
      },
      "source": [
        "We now have matrix with 10876 products and 2753 users data (2753 X 10876)"
      ]
    },
    {
      "cell_type": "code",
      "metadata": {
        "id": "rNkXvBaJs-hk",
        "colab": {
          "base_uri": "https://localhost:8080/"
        },
        "outputId": "75e1c5e8-8786-4e0f-d305-d0a37b794cf4"
      },
      "source": [
        "X = matrix.T # Transposing the data product wise ( Product ID X User ID)\r\n",
        "X.shape"
      ],
      "execution_count": 46,
      "outputs": [
        {
          "output_type": "execute_result",
          "data": {
            "text/plain": [
              "(10876, 2753)"
            ]
          },
          "metadata": {
            "tags": []
          },
          "execution_count": 46
        }
      ]
    },
    {
      "cell_type": "code",
      "metadata": {
        "id": "V7ww5NLvtNyF",
        "colab": {
          "base_uri": "https://localhost:8080/"
        },
        "outputId": "13eaa30b-d84e-4f78-f186-775a2f67cfda"
      },
      "source": [
        "from sklearn.decomposition import TruncatedSVD\r\n",
        "# Truncate to build a matrix with more than 5 features and get new decomposed matrix M = Product ID X Features\r\n",
        "# Used Truncated SVD to create the model based 10 features.\r\n",
        "Trunc_svd = TruncatedSVD(n_components= 5) #5 can be changed based on domain knowledge on count of features that could distinguish the products\r\n",
        "decomposed_matrix = Trunc_svd.fit_transform(X) \r\n",
        "decomposed_matrix.shape   #Product ID x Features"
      ],
      "execution_count": 47,
      "outputs": [
        {
          "output_type": "execute_result",
          "data": {
            "text/plain": [
              "(10876, 5)"
            ]
          },
          "metadata": {
            "tags": []
          },
          "execution_count": 47
        }
      ]
    },
    {
      "cell_type": "code",
      "metadata": {
        "id": "g_CSUshTtiGS",
        "colab": {
          "base_uri": "https://localhost:8080/"
        },
        "outputId": "d8b879c9-8474-49cc-afed-7dd1fe5cfeb4"
      },
      "source": [
        "# Creating correlation matrix between the products (Product ID x Product ID)\r\n",
        "correlation_matrix = np.corrcoef(decomposed_matrix)\r\n",
        "correlation_matrix.shape"
      ],
      "execution_count": 48,
      "outputs": [
        {
          "output_type": "execute_result",
          "data": {
            "text/plain": [
              "(10876, 10876)"
            ]
          },
          "metadata": {
            "tags": []
          },
          "execution_count": 48
        }
      ]
    },
    {
      "cell_type": "code",
      "metadata": {
        "id": "lLniV4uaBiNO",
        "colab": {
          "base_uri": "https://localhost:8080/",
          "height": 439
        },
        "outputId": "3010fd2f-8385-4880-efea-846ff2b197c0"
      },
      "source": [
        "# Using panda DataFrame on further processing of the correlation Coeff data of 10876 products\r\n",
        "DF = pd.DataFrame(correlation_matrix,columns=X.index.values,index=X.index.values)\r\n",
        "DF"
      ],
      "execution_count": 49,
      "outputs": [
        {
          "output_type": "execute_result",
          "data": {
            "text/html": [
              "<div>\n",
              "<style scoped>\n",
              "    .dataframe tbody tr th:only-of-type {\n",
              "        vertical-align: middle;\n",
              "    }\n",
              "\n",
              "    .dataframe tbody tr th {\n",
              "        vertical-align: top;\n",
              "    }\n",
              "\n",
              "    .dataframe thead th {\n",
              "        text-align: right;\n",
              "    }\n",
              "</style>\n",
              "<table border=\"1\" class=\"dataframe\">\n",
              "  <thead>\n",
              "    <tr style=\"text-align: right;\">\n",
              "      <th></th>\n",
              "      <th>1400501466</th>\n",
              "      <th>1400532620</th>\n",
              "      <th>1400532655</th>\n",
              "      <th>140053271X</th>\n",
              "      <th>3744295508</th>\n",
              "      <th>5135000011</th>\n",
              "      <th>7507825604</th>\n",
              "      <th>8862935293</th>\n",
              "      <th>9573212919</th>\n",
              "      <th>9985511476</th>\n",
              "      <th>9985696999</th>\n",
              "      <th>B000001OM4</th>\n",
              "      <th>B000001OMA</th>\n",
              "      <th>B000006OQ8</th>\n",
              "      <th>B00000DM9M</th>\n",
              "      <th>B00000DM9W</th>\n",
              "      <th>B00000DMA3</th>\n",
              "      <th>B00000J1SC</th>\n",
              "      <th>B00000J1US</th>\n",
              "      <th>B00000J4FS</th>\n",
              "      <th>B00000J4VK</th>\n",
              "      <th>B00000JD4V</th>\n",
              "      <th>B00000JDF5</th>\n",
              "      <th>B00000JDFJ</th>\n",
              "      <th>B00000JI4F</th>\n",
              "      <th>B00000JLSJ</th>\n",
              "      <th>B00000JMO3</th>\n",
              "      <th>B00000JMRX</th>\n",
              "      <th>B00000JRHX</th>\n",
              "      <th>B00000JXV3</th>\n",
              "      <th>B00000K0JC</th>\n",
              "      <th>B00000K135</th>\n",
              "      <th>B00001MXYW</th>\n",
              "      <th>B00001P4XH</th>\n",
              "      <th>B00001P4ZH</th>\n",
              "      <th>B00001W0DI</th>\n",
              "      <th>B00001WRI4</th>\n",
              "      <th>B00001WRSJ</th>\n",
              "      <th>B00001X5AZ</th>\n",
              "      <th>B00001ZUJA</th>\n",
              "      <th>...</th>\n",
              "      <th>B00JTYYV0I</th>\n",
              "      <th>B00JUI6SV8</th>\n",
              "      <th>B00JVOTUGQ</th>\n",
              "      <th>B00JVVU0SQ</th>\n",
              "      <th>B00JX1ZS5O</th>\n",
              "      <th>B00JXECZIY</th>\n",
              "      <th>B00JXLGE70</th>\n",
              "      <th>B00JXLGECA</th>\n",
              "      <th>B00JXPP9RW</th>\n",
              "      <th>B00JXUUVWU</th>\n",
              "      <th>B00JY4QCJQ</th>\n",
              "      <th>B00JZC972Q</th>\n",
              "      <th>B00K0HMR8G</th>\n",
              "      <th>B00K0HMSQM</th>\n",
              "      <th>B00K163ETW</th>\n",
              "      <th>B00K23WA9E</th>\n",
              "      <th>B00K2L3G5I</th>\n",
              "      <th>B00K6B7KJM</th>\n",
              "      <th>B00K76VHRC</th>\n",
              "      <th>B00K7KEZ0O</th>\n",
              "      <th>B00K7O2DJU</th>\n",
              "      <th>B00K8942SO</th>\n",
              "      <th>B00KCAPAKI</th>\n",
              "      <th>B00KCG95M6</th>\n",
              "      <th>B00KCQISWY</th>\n",
              "      <th>B00KDIT95G</th>\n",
              "      <th>B00KFD0O0I</th>\n",
              "      <th>B00KGTDDIG</th>\n",
              "      <th>B00KH8PU6E</th>\n",
              "      <th>B00KHA2DQM</th>\n",
              "      <th>B00KHA5G6G</th>\n",
              "      <th>B00KIMX4EY</th>\n",
              "      <th>B00KK9481I</th>\n",
              "      <th>B00KMRGB7C</th>\n",
              "      <th>B00KMRGF28</th>\n",
              "      <th>B00KO6DS3Q</th>\n",
              "      <th>B00KWMNDDM</th>\n",
              "      <th>B00KYMCJF8</th>\n",
              "      <th>B00L2442H0</th>\n",
              "      <th>B00L26YDA4</th>\n",
              "    </tr>\n",
              "  </thead>\n",
              "  <tbody>\n",
              "    <tr>\n",
              "      <th>1400501466</th>\n",
              "      <td>1.000000</td>\n",
              "      <td>0.674661</td>\n",
              "      <td>-0.737647</td>\n",
              "      <td>0.366075</td>\n",
              "      <td>-0.226580</td>\n",
              "      <td>-0.849458</td>\n",
              "      <td>-0.504814</td>\n",
              "      <td>-0.261251</td>\n",
              "      <td>0.579530</td>\n",
              "      <td>-0.195283</td>\n",
              "      <td>0.934897</td>\n",
              "      <td>-0.837183</td>\n",
              "      <td>0.785739</td>\n",
              "      <td>-0.413295</td>\n",
              "      <td>0.021800</td>\n",
              "      <td>-0.533799</td>\n",
              "      <td>0.019121</td>\n",
              "      <td>-0.962957</td>\n",
              "      <td>-0.401960</td>\n",
              "      <td>-0.588223</td>\n",
              "      <td>0.954561</td>\n",
              "      <td>0.958695</td>\n",
              "      <td>0.852223</td>\n",
              "      <td>-0.772059</td>\n",
              "      <td>0.646889</td>\n",
              "      <td>-0.251626</td>\n",
              "      <td>0.379774</td>\n",
              "      <td>-0.953181</td>\n",
              "      <td>0.958697</td>\n",
              "      <td>0.919874</td>\n",
              "      <td>0.740377</td>\n",
              "      <td>0.802134</td>\n",
              "      <td>0.554932</td>\n",
              "      <td>0.659588</td>\n",
              "      <td>0.424512</td>\n",
              "      <td>0.739311</td>\n",
              "      <td>-0.119836</td>\n",
              "      <td>0.964356</td>\n",
              "      <td>-0.419759</td>\n",
              "      <td>-0.906623</td>\n",
              "      <td>...</td>\n",
              "      <td>0.334520</td>\n",
              "      <td>0.349388</td>\n",
              "      <td>-0.931467</td>\n",
              "      <td>-0.743696</td>\n",
              "      <td>-0.578626</td>\n",
              "      <td>-0.373082</td>\n",
              "      <td>-0.949198</td>\n",
              "      <td>0.980552</td>\n",
              "      <td>0.100197</td>\n",
              "      <td>-0.870603</td>\n",
              "      <td>-0.198436</td>\n",
              "      <td>0.850214</td>\n",
              "      <td>0.575233</td>\n",
              "      <td>-0.738100</td>\n",
              "      <td>-0.352489</td>\n",
              "      <td>-0.853883</td>\n",
              "      <td>-0.956869</td>\n",
              "      <td>-0.182417</td>\n",
              "      <td>0.542682</td>\n",
              "      <td>0.442906</td>\n",
              "      <td>-0.808116</td>\n",
              "      <td>0.655917</td>\n",
              "      <td>-0.766067</td>\n",
              "      <td>0.911036</td>\n",
              "      <td>0.956550</td>\n",
              "      <td>-0.228235</td>\n",
              "      <td>-0.870617</td>\n",
              "      <td>-0.549606</td>\n",
              "      <td>0.884192</td>\n",
              "      <td>-0.923072</td>\n",
              "      <td>0.809583</td>\n",
              "      <td>-0.086232</td>\n",
              "      <td>0.799505</td>\n",
              "      <td>-0.182417</td>\n",
              "      <td>-0.390166</td>\n",
              "      <td>0.910293</td>\n",
              "      <td>0.706534</td>\n",
              "      <td>-0.182417</td>\n",
              "      <td>-0.159887</td>\n",
              "      <td>0.911036</td>\n",
              "    </tr>\n",
              "    <tr>\n",
              "      <th>1400532620</th>\n",
              "      <td>0.674661</td>\n",
              "      <td>1.000000</td>\n",
              "      <td>-0.770011</td>\n",
              "      <td>0.533097</td>\n",
              "      <td>-0.571806</td>\n",
              "      <td>-0.880202</td>\n",
              "      <td>-0.155887</td>\n",
              "      <td>0.223613</td>\n",
              "      <td>0.218619</td>\n",
              "      <td>-0.731882</td>\n",
              "      <td>0.689531</td>\n",
              "      <td>-0.363946</td>\n",
              "      <td>0.321780</td>\n",
              "      <td>-0.498704</td>\n",
              "      <td>0.337150</td>\n",
              "      <td>0.170104</td>\n",
              "      <td>-0.320778</td>\n",
              "      <td>-0.845217</td>\n",
              "      <td>0.023677</td>\n",
              "      <td>-0.138356</td>\n",
              "      <td>0.575210</td>\n",
              "      <td>0.787935</td>\n",
              "      <td>0.948779</td>\n",
              "      <td>-0.183921</td>\n",
              "      <td>0.527641</td>\n",
              "      <td>-0.180769</td>\n",
              "      <td>0.847973</td>\n",
              "      <td>-0.850658</td>\n",
              "      <td>0.469999</td>\n",
              "      <td>0.804229</td>\n",
              "      <td>0.771820</td>\n",
              "      <td>0.309730</td>\n",
              "      <td>0.717320</td>\n",
              "      <td>0.532490</td>\n",
              "      <td>0.943863</td>\n",
              "      <td>0.734098</td>\n",
              "      <td>-0.553407</td>\n",
              "      <td>0.747246</td>\n",
              "      <td>0.382729</td>\n",
              "      <td>-0.554940</td>\n",
              "      <td>...</td>\n",
              "      <td>-0.148937</td>\n",
              "      <td>-0.120315</td>\n",
              "      <td>-0.837306</td>\n",
              "      <td>-0.724933</td>\n",
              "      <td>-0.509707</td>\n",
              "      <td>-0.789909</td>\n",
              "      <td>-0.766529</td>\n",
              "      <td>0.770069</td>\n",
              "      <td>-0.509566</td>\n",
              "      <td>-0.413251</td>\n",
              "      <td>-0.411406</td>\n",
              "      <td>0.268185</td>\n",
              "      <td>0.164835</td>\n",
              "      <td>-0.100676</td>\n",
              "      <td>-0.521269</td>\n",
              "      <td>-0.838374</td>\n",
              "      <td>-0.680557</td>\n",
              "      <td>-0.506248</td>\n",
              "      <td>0.280893</td>\n",
              "      <td>0.649593</td>\n",
              "      <td>-0.940512</td>\n",
              "      <td>0.799074</td>\n",
              "      <td>-0.545551</td>\n",
              "      <td>0.442363</td>\n",
              "      <td>0.691362</td>\n",
              "      <td>0.015329</td>\n",
              "      <td>-0.291942</td>\n",
              "      <td>-0.892298</td>\n",
              "      <td>0.882441</td>\n",
              "      <td>-0.433503</td>\n",
              "      <td>0.140033</td>\n",
              "      <td>-0.436421</td>\n",
              "      <td>0.158176</td>\n",
              "      <td>-0.506248</td>\n",
              "      <td>-0.697925</td>\n",
              "      <td>0.551847</td>\n",
              "      <td>0.080312</td>\n",
              "      <td>-0.506248</td>\n",
              "      <td>-0.330282</td>\n",
              "      <td>0.442363</td>\n",
              "    </tr>\n",
              "    <tr>\n",
              "      <th>1400532655</th>\n",
              "      <td>-0.737647</td>\n",
              "      <td>-0.770011</td>\n",
              "      <td>1.000000</td>\n",
              "      <td>-0.884705</td>\n",
              "      <td>-0.064128</td>\n",
              "      <td>0.951204</td>\n",
              "      <td>-0.177396</td>\n",
              "      <td>-0.455608</td>\n",
              "      <td>-0.715060</td>\n",
              "      <td>0.597129</td>\n",
              "      <td>-0.617867</td>\n",
              "      <td>0.335119</td>\n",
              "      <td>-0.703601</td>\n",
              "      <td>-0.070392</td>\n",
              "      <td>-0.668044</td>\n",
              "      <td>-0.103975</td>\n",
              "      <td>-0.192775</td>\n",
              "      <td>0.824594</td>\n",
              "      <td>-0.262621</td>\n",
              "      <td>-0.084059</td>\n",
              "      <td>-0.651378</td>\n",
              "      <td>-0.671524</td>\n",
              "      <td>-0.763729</td>\n",
              "      <td>0.622893</td>\n",
              "      <td>-0.464870</td>\n",
              "      <td>-0.313315</td>\n",
              "      <td>-0.315050</td>\n",
              "      <td>0.869126</td>\n",
              "      <td>-0.701143</td>\n",
              "      <td>-0.610896</td>\n",
              "      <td>-0.939111</td>\n",
              "      <td>-0.322332</td>\n",
              "      <td>-0.854839</td>\n",
              "      <td>-0.467237</td>\n",
              "      <td>-0.579812</td>\n",
              "      <td>-0.507341</td>\n",
              "      <td>0.750753</td>\n",
              "      <td>-0.768143</td>\n",
              "      <td>0.001829</td>\n",
              "      <td>0.425168</td>\n",
              "      <td>...</td>\n",
              "      <td>0.305374</td>\n",
              "      <td>0.361980</td>\n",
              "      <td>0.896601</td>\n",
              "      <td>0.950941</td>\n",
              "      <td>0.741007</td>\n",
              "      <td>0.709739</td>\n",
              "      <td>0.848345</td>\n",
              "      <td>-0.849515</td>\n",
              "      <td>-0.127685</td>\n",
              "      <td>0.311717</td>\n",
              "      <td>0.467886</td>\n",
              "      <td>-0.292358</td>\n",
              "      <td>-0.742137</td>\n",
              "      <td>0.557139</td>\n",
              "      <td>0.699073</td>\n",
              "      <td>0.962523</td>\n",
              "      <td>0.865499</td>\n",
              "      <td>0.772365</td>\n",
              "      <td>0.046572</td>\n",
              "      <td>-0.928110</td>\n",
              "      <td>0.907460</td>\n",
              "      <td>-0.956488</td>\n",
              "      <td>0.356230</td>\n",
              "      <td>-0.746069</td>\n",
              "      <td>-0.620039</td>\n",
              "      <td>-0.332565</td>\n",
              "      <td>0.348991</td>\n",
              "      <td>0.430565</td>\n",
              "      <td>-0.647628</td>\n",
              "      <td>0.661398</td>\n",
              "      <td>-0.334640</td>\n",
              "      <td>0.724865</td>\n",
              "      <td>-0.365886</td>\n",
              "      <td>0.772365</td>\n",
              "      <td>0.108186</td>\n",
              "      <td>-0.420931</td>\n",
              "      <td>-0.343515</td>\n",
              "      <td>0.772365</td>\n",
              "      <td>0.575646</td>\n",
              "      <td>-0.746069</td>\n",
              "    </tr>\n",
              "    <tr>\n",
              "      <th>140053271X</th>\n",
              "      <td>0.366075</td>\n",
              "      <td>0.533097</td>\n",
              "      <td>-0.884705</td>\n",
              "      <td>1.000000</td>\n",
              "      <td>0.366669</td>\n",
              "      <td>-0.741212</td>\n",
              "      <td>0.610677</td>\n",
              "      <td>0.762178</td>\n",
              "      <td>0.731717</td>\n",
              "      <td>-0.679930</td>\n",
              "      <td>0.182051</td>\n",
              "      <td>0.018221</td>\n",
              "      <td>0.567720</td>\n",
              "      <td>0.458151</td>\n",
              "      <td>0.867990</td>\n",
              "      <td>0.450644</td>\n",
              "      <td>0.249497</td>\n",
              "      <td>-0.485368</td>\n",
              "      <td>0.669577</td>\n",
              "      <td>0.459590</td>\n",
              "      <td>0.325998</td>\n",
              "      <td>0.281869</td>\n",
              "      <td>0.445223</td>\n",
              "      <td>-0.461751</td>\n",
              "      <td>0.093864</td>\n",
              "      <td>0.699235</td>\n",
              "      <td>0.066806</td>\n",
              "      <td>-0.551947</td>\n",
              "      <td>0.386390</td>\n",
              "      <td>0.213762</td>\n",
              "      <td>0.839701</td>\n",
              "      <td>-0.115312</td>\n",
              "      <td>0.718056</td>\n",
              "      <td>0.090631</td>\n",
              "      <td>0.392273</td>\n",
              "      <td>0.090332</td>\n",
              "      <td>-0.908117</td>\n",
              "      <td>0.383837</td>\n",
              "      <td>0.171636</td>\n",
              "      <td>-0.007931</td>\n",
              "      <td>...</td>\n",
              "      <td>-0.677939</td>\n",
              "      <td>-0.737130</td>\n",
              "      <td>-0.586865</td>\n",
              "      <td>-0.775733</td>\n",
              "      <td>-0.743387</td>\n",
              "      <td>-0.733134</td>\n",
              "      <td>-0.569992</td>\n",
              "      <td>0.525854</td>\n",
              "      <td>0.222921</td>\n",
              "      <td>0.127252</td>\n",
              "      <td>-0.607578</td>\n",
              "      <td>-0.124414</td>\n",
              "      <td>0.722526</td>\n",
              "      <td>-0.395979</td>\n",
              "      <td>-0.811599</td>\n",
              "      <td>-0.766376</td>\n",
              "      <td>-0.597848</td>\n",
              "      <td>-0.964864</td>\n",
              "      <td>-0.502616</td>\n",
              "      <td>0.989156</td>\n",
              "      <td>-0.691054</td>\n",
              "      <td>0.897810</td>\n",
              "      <td>0.105273</td>\n",
              "      <td>0.505871</td>\n",
              "      <td>0.243953</td>\n",
              "      <td>0.535369</td>\n",
              "      <td>0.068776</td>\n",
              "      <td>-0.150098</td>\n",
              "      <td>0.257712</td>\n",
              "      <td>-0.385243</td>\n",
              "      <td>-0.029506</td>\n",
              "      <td>-0.952283</td>\n",
              "      <td>0.000788</td>\n",
              "      <td>-0.964864</td>\n",
              "      <td>0.227208</td>\n",
              "      <td>-0.039670</td>\n",
              "      <td>0.145685</td>\n",
              "      <td>-0.964864</td>\n",
              "      <td>-0.787307</td>\n",
              "      <td>0.505871</td>\n",
              "    </tr>\n",
              "    <tr>\n",
              "      <th>3744295508</th>\n",
              "      <td>-0.226580</td>\n",
              "      <td>-0.571806</td>\n",
              "      <td>-0.064128</td>\n",
              "      <td>0.366669</td>\n",
              "      <td>1.000000</td>\n",
              "      <td>0.176575</td>\n",
              "      <td>0.626036</td>\n",
              "      <td>0.356415</td>\n",
              "      <td>0.573842</td>\n",
              "      <td>0.228724</td>\n",
              "      <td>-0.437396</td>\n",
              "      <td>0.237887</td>\n",
              "      <td>0.348396</td>\n",
              "      <td>0.940440</td>\n",
              "      <td>0.390999</td>\n",
              "      <td>0.057765</td>\n",
              "      <td>0.638520</td>\n",
              "      <td>0.340116</td>\n",
              "      <td>0.485161</td>\n",
              "      <td>0.436789</td>\n",
              "      <td>-0.149789</td>\n",
              "      <td>-0.458963</td>\n",
              "      <td>-0.538880</td>\n",
              "      <td>-0.418129</td>\n",
              "      <td>-0.399649</td>\n",
              "      <td>0.812602</td>\n",
              "      <td>-0.898828</td>\n",
              "      <td>0.287668</td>\n",
              "      <td>0.038881</td>\n",
              "      <td>-0.553938</td>\n",
              "      <td>0.022620</td>\n",
              "      <td>-0.274995</td>\n",
              "      <td>-0.079635</td>\n",
              "      <td>-0.405133</td>\n",
              "      <td>-0.703759</td>\n",
              "      <td>-0.635651</td>\n",
              "      <td>-0.184569</td>\n",
              "      <td>-0.312859</td>\n",
              "      <td>-0.439202</td>\n",
              "      <td>0.435643</td>\n",
              "      <td>...</td>\n",
              "      <td>-0.354638</td>\n",
              "      <td>-0.440104</td>\n",
              "      <td>0.245252</td>\n",
              "      <td>-0.018919</td>\n",
              "      <td>-0.219352</td>\n",
              "      <td>0.202007</td>\n",
              "      <td>0.164706</td>\n",
              "      <td>-0.202772</td>\n",
              "      <td>0.877635</td>\n",
              "      <td>0.394429</td>\n",
              "      <td>-0.110523</td>\n",
              "      <td>-0.215274</td>\n",
              "      <td>0.629029</td>\n",
              "      <td>-0.451715</td>\n",
              "      <td>-0.205007</td>\n",
              "      <td>0.099038</td>\n",
              "      <td>0.028724</td>\n",
              "      <td>-0.316831</td>\n",
              "      <td>-0.673480</td>\n",
              "      <td>0.231152</td>\n",
              "      <td>0.310890</td>\n",
              "      <td>0.018369</td>\n",
              "      <td>0.573274</td>\n",
              "      <td>0.172795</td>\n",
              "      <td>-0.372634</td>\n",
              "      <td>0.413049</td>\n",
              "      <td>0.187962</td>\n",
              "      <td>0.828177</td>\n",
              "      <td>-0.622050</td>\n",
              "      <td>-0.075040</td>\n",
              "      <td>0.022602</td>\n",
              "      <td>-0.365414</td>\n",
              "      <td>0.024440</td>\n",
              "      <td>-0.316831</td>\n",
              "      <td>0.982261</td>\n",
              "      <td>-0.476941</td>\n",
              "      <td>0.236480</td>\n",
              "      <td>-0.316831</td>\n",
              "      <td>-0.368974</td>\n",
              "      <td>0.172795</td>\n",
              "    </tr>\n",
              "    <tr>\n",
              "      <th>...</th>\n",
              "      <td>...</td>\n",
              "      <td>...</td>\n",
              "      <td>...</td>\n",
              "      <td>...</td>\n",
              "      <td>...</td>\n",
              "      <td>...</td>\n",
              "      <td>...</td>\n",
              "      <td>...</td>\n",
              "      <td>...</td>\n",
              "      <td>...</td>\n",
              "      <td>...</td>\n",
              "      <td>...</td>\n",
              "      <td>...</td>\n",
              "      <td>...</td>\n",
              "      <td>...</td>\n",
              "      <td>...</td>\n",
              "      <td>...</td>\n",
              "      <td>...</td>\n",
              "      <td>...</td>\n",
              "      <td>...</td>\n",
              "      <td>...</td>\n",
              "      <td>...</td>\n",
              "      <td>...</td>\n",
              "      <td>...</td>\n",
              "      <td>...</td>\n",
              "      <td>...</td>\n",
              "      <td>...</td>\n",
              "      <td>...</td>\n",
              "      <td>...</td>\n",
              "      <td>...</td>\n",
              "      <td>...</td>\n",
              "      <td>...</td>\n",
              "      <td>...</td>\n",
              "      <td>...</td>\n",
              "      <td>...</td>\n",
              "      <td>...</td>\n",
              "      <td>...</td>\n",
              "      <td>...</td>\n",
              "      <td>...</td>\n",
              "      <td>...</td>\n",
              "      <td>...</td>\n",
              "      <td>...</td>\n",
              "      <td>...</td>\n",
              "      <td>...</td>\n",
              "      <td>...</td>\n",
              "      <td>...</td>\n",
              "      <td>...</td>\n",
              "      <td>...</td>\n",
              "      <td>...</td>\n",
              "      <td>...</td>\n",
              "      <td>...</td>\n",
              "      <td>...</td>\n",
              "      <td>...</td>\n",
              "      <td>...</td>\n",
              "      <td>...</td>\n",
              "      <td>...</td>\n",
              "      <td>...</td>\n",
              "      <td>...</td>\n",
              "      <td>...</td>\n",
              "      <td>...</td>\n",
              "      <td>...</td>\n",
              "      <td>...</td>\n",
              "      <td>...</td>\n",
              "      <td>...</td>\n",
              "      <td>...</td>\n",
              "      <td>...</td>\n",
              "      <td>...</td>\n",
              "      <td>...</td>\n",
              "      <td>...</td>\n",
              "      <td>...</td>\n",
              "      <td>...</td>\n",
              "      <td>...</td>\n",
              "      <td>...</td>\n",
              "      <td>...</td>\n",
              "      <td>...</td>\n",
              "      <td>...</td>\n",
              "      <td>...</td>\n",
              "      <td>...</td>\n",
              "      <td>...</td>\n",
              "      <td>...</td>\n",
              "      <td>...</td>\n",
              "    </tr>\n",
              "    <tr>\n",
              "      <th>B00KO6DS3Q</th>\n",
              "      <td>0.910293</td>\n",
              "      <td>0.551847</td>\n",
              "      <td>-0.420931</td>\n",
              "      <td>-0.039670</td>\n",
              "      <td>-0.476941</td>\n",
              "      <td>-0.607015</td>\n",
              "      <td>-0.814154</td>\n",
              "      <td>-0.579948</td>\n",
              "      <td>0.242164</td>\n",
              "      <td>0.051702</td>\n",
              "      <td>0.948346</td>\n",
              "      <td>-0.869179</td>\n",
              "      <td>0.538720</td>\n",
              "      <td>-0.691649</td>\n",
              "      <td>-0.326272</td>\n",
              "      <td>-0.726364</td>\n",
              "      <td>-0.105510</td>\n",
              "      <td>-0.838090</td>\n",
              "      <td>-0.727253</td>\n",
              "      <td>-0.803426</td>\n",
              "      <td>0.856499</td>\n",
              "      <td>0.918302</td>\n",
              "      <td>0.757554</td>\n",
              "      <td>-0.565237</td>\n",
              "      <td>0.705376</td>\n",
              "      <td>-0.617813</td>\n",
              "      <td>0.455532</td>\n",
              "      <td>-0.799426</td>\n",
              "      <td>0.830766</td>\n",
              "      <td>0.912719</td>\n",
              "      <td>0.427879</td>\n",
              "      <td>0.912325</td>\n",
              "      <td>0.335335</td>\n",
              "      <td>0.719521</td>\n",
              "      <td>0.367830</td>\n",
              "      <td>0.814349</td>\n",
              "      <td>0.227009</td>\n",
              "      <td>0.887820</td>\n",
              "      <td>-0.451437</td>\n",
              "      <td>-0.960177</td>\n",
              "      <td>...</td>\n",
              "      <td>0.651853</td>\n",
              "      <td>0.683756</td>\n",
              "      <td>-0.767495</td>\n",
              "      <td>-0.487218</td>\n",
              "      <td>-0.261127</td>\n",
              "      <td>-0.106786</td>\n",
              "      <td>-0.765813</td>\n",
              "      <td>0.827697</td>\n",
              "      <td>-0.064804</td>\n",
              "      <td>-0.975671</td>\n",
              "      <td>0.075427</td>\n",
              "      <td>0.939306</td>\n",
              "      <td>0.258001</td>\n",
              "      <td>-0.553506</td>\n",
              "      <td>-0.005778</td>\n",
              "      <td>-0.593488</td>\n",
              "      <td>-0.753372</td>\n",
              "      <td>0.215891</td>\n",
              "      <td>0.830932</td>\n",
              "      <td>0.058854</td>\n",
              "      <td>-0.595965</td>\n",
              "      <td>0.324377</td>\n",
              "      <td>-0.906401</td>\n",
              "      <td>0.717118</td>\n",
              "      <td>0.915361</td>\n",
              "      <td>-0.443243</td>\n",
              "      <td>-0.940769</td>\n",
              "      <td>-0.583713</td>\n",
              "      <td>0.872183</td>\n",
              "      <td>-0.780645</td>\n",
              "      <td>0.844738</td>\n",
              "      <td>0.309907</td>\n",
              "      <td>0.829433</td>\n",
              "      <td>0.215891</td>\n",
              "      <td>-0.588443</td>\n",
              "      <td>1.000000</td>\n",
              "      <td>0.620664</td>\n",
              "      <td>0.215891</td>\n",
              "      <td>0.201063</td>\n",
              "      <td>0.717118</td>\n",
              "    </tr>\n",
              "    <tr>\n",
              "      <th>B00KWMNDDM</th>\n",
              "      <td>0.706534</td>\n",
              "      <td>0.080312</td>\n",
              "      <td>-0.343515</td>\n",
              "      <td>0.145685</td>\n",
              "      <td>0.236480</td>\n",
              "      <td>-0.441625</td>\n",
              "      <td>-0.384732</td>\n",
              "      <td>-0.491170</td>\n",
              "      <td>0.749778</td>\n",
              "      <td>0.069627</td>\n",
              "      <td>0.475265</td>\n",
              "      <td>-0.886113</td>\n",
              "      <td>0.893354</td>\n",
              "      <td>-0.070967</td>\n",
              "      <td>-0.295870</td>\n",
              "      <td>-0.668795</td>\n",
              "      <td>-0.020132</td>\n",
              "      <td>-0.557968</td>\n",
              "      <td>-0.294976</td>\n",
              "      <td>-0.690094</td>\n",
              "      <td>0.852516</td>\n",
              "      <td>0.611612</td>\n",
              "      <td>0.370094</td>\n",
              "      <td>-0.898585</td>\n",
              "      <td>0.044416</td>\n",
              "      <td>0.034860</td>\n",
              "      <td>-0.172813</td>\n",
              "      <td>-0.533492</td>\n",
              "      <td>0.833401</td>\n",
              "      <td>0.557380</td>\n",
              "      <td>0.493431</td>\n",
              "      <td>0.527932</td>\n",
              "      <td>-0.065559</td>\n",
              "      <td>0.061144</td>\n",
              "      <td>-0.237477</td>\n",
              "      <td>0.099775</td>\n",
              "      <td>0.272482</td>\n",
              "      <td>0.506152</td>\n",
              "      <td>-0.741769</td>\n",
              "      <td>-0.743866</td>\n",
              "      <td>...</td>\n",
              "      <td>0.272879</td>\n",
              "      <td>0.391620</td>\n",
              "      <td>-0.451672</td>\n",
              "      <td>-0.243061</td>\n",
              "      <td>-0.641872</td>\n",
              "      <td>-0.109401</td>\n",
              "      <td>-0.684113</td>\n",
              "      <td>0.630632</td>\n",
              "      <td>0.462006</td>\n",
              "      <td>-0.741088</td>\n",
              "      <td>-0.338498</td>\n",
              "      <td>0.789766</td>\n",
              "      <td>0.582528</td>\n",
              "      <td>-0.897985</td>\n",
              "      <td>-0.370713</td>\n",
              "      <td>-0.486293</td>\n",
              "      <td>-0.722936</td>\n",
              "      <td>-0.004020</td>\n",
              "      <td>0.224047</td>\n",
              "      <td>0.131573</td>\n",
              "      <td>-0.355097</td>\n",
              "      <td>0.340340</td>\n",
              "      <td>-0.273662</td>\n",
              "      <td>0.865609</td>\n",
              "      <td>0.732088</td>\n",
              "      <td>-0.530901</td>\n",
              "      <td>-0.763351</td>\n",
              "      <td>-0.066875</td>\n",
              "      <td>0.412090</td>\n",
              "      <td>-0.911425</td>\n",
              "      <td>0.783132</td>\n",
              "      <td>0.100958</td>\n",
              "      <td>0.701774</td>\n",
              "      <td>-0.004020</td>\n",
              "      <td>0.107665</td>\n",
              "      <td>0.620664</td>\n",
              "      <td>1.000000</td>\n",
              "      <td>-0.004020</td>\n",
              "      <td>-0.300893</td>\n",
              "      <td>0.865609</td>\n",
              "    </tr>\n",
              "    <tr>\n",
              "      <th>B00KYMCJF8</th>\n",
              "      <td>-0.182417</td>\n",
              "      <td>-0.506248</td>\n",
              "      <td>0.772365</td>\n",
              "      <td>-0.964864</td>\n",
              "      <td>-0.316831</td>\n",
              "      <td>0.641732</td>\n",
              "      <td>-0.721979</td>\n",
              "      <td>-0.833108</td>\n",
              "      <td>-0.619476</td>\n",
              "      <td>0.801445</td>\n",
              "      <td>0.010012</td>\n",
              "      <td>-0.147556</td>\n",
              "      <td>-0.417343</td>\n",
              "      <td>-0.464950</td>\n",
              "      <td>-0.851573</td>\n",
              "      <td>-0.647294</td>\n",
              "      <td>-0.073830</td>\n",
              "      <td>0.347410</td>\n",
              "      <td>-0.813863</td>\n",
              "      <td>-0.551001</td>\n",
              "      <td>-0.176805</td>\n",
              "      <td>-0.151869</td>\n",
              "      <td>-0.371761</td>\n",
              "      <td>0.269110</td>\n",
              "      <td>0.101974</td>\n",
              "      <td>-0.752682</td>\n",
              "      <td>-0.124918</td>\n",
              "      <td>0.410945</td>\n",
              "      <td>-0.178617</td>\n",
              "      <td>-0.104832</td>\n",
              "      <td>-0.775271</td>\n",
              "      <td>0.348040</td>\n",
              "      <td>-0.590983</td>\n",
              "      <td>0.106257</td>\n",
              "      <td>-0.420594</td>\n",
              "      <td>0.060151</td>\n",
              "      <td>0.924846</td>\n",
              "      <td>-0.193140</td>\n",
              "      <td>-0.381023</td>\n",
              "      <td>-0.129931</td>\n",
              "      <td>...</td>\n",
              "      <td>0.837903</td>\n",
              "      <td>0.854215</td>\n",
              "      <td>0.427172</td>\n",
              "      <td>0.616213</td>\n",
              "      <td>0.724902</td>\n",
              "      <td>0.812137</td>\n",
              "      <td>0.439889</td>\n",
              "      <td>-0.362869</td>\n",
              "      <td>-0.060077</td>\n",
              "      <td>-0.294577</td>\n",
              "      <td>0.717060</td>\n",
              "      <td>0.326646</td>\n",
              "      <td>-0.539076</td>\n",
              "      <td>0.193999</td>\n",
              "      <td>0.861990</td>\n",
              "      <td>0.657680</td>\n",
              "      <td>0.435124</td>\n",
              "      <td>1.000000</td>\n",
              "      <td>0.641230</td>\n",
              "      <td>-0.949781</td>\n",
              "      <td>0.622438</td>\n",
              "      <td>-0.851046</td>\n",
              "      <td>-0.289534</td>\n",
              "      <td>-0.319818</td>\n",
              "      <td>-0.112712</td>\n",
              "      <td>-0.496364</td>\n",
              "      <td>-0.286138</td>\n",
              "      <td>0.181622</td>\n",
              "      <td>-0.159343</td>\n",
              "      <td>0.209394</td>\n",
              "      <td>0.268831</td>\n",
              "      <td>0.990071</td>\n",
              "      <td>0.250830</td>\n",
              "      <td>1.000000</td>\n",
              "      <td>-0.201828</td>\n",
              "      <td>0.215891</td>\n",
              "      <td>-0.004020</td>\n",
              "      <td>1.000000</td>\n",
              "      <td>0.863637</td>\n",
              "      <td>-0.319818</td>\n",
              "    </tr>\n",
              "    <tr>\n",
              "      <th>B00L2442H0</th>\n",
              "      <td>-0.159887</td>\n",
              "      <td>-0.330282</td>\n",
              "      <td>0.575646</td>\n",
              "      <td>-0.787307</td>\n",
              "      <td>-0.368974</td>\n",
              "      <td>0.530241</td>\n",
              "      <td>-0.609909</td>\n",
              "      <td>-0.538597</td>\n",
              "      <td>-0.723616</td>\n",
              "      <td>0.782124</td>\n",
              "      <td>0.147143</td>\n",
              "      <td>0.102998</td>\n",
              "      <td>-0.554710</td>\n",
              "      <td>-0.416550</td>\n",
              "      <td>-0.499293</td>\n",
              "      <td>-0.506127</td>\n",
              "      <td>0.221789</td>\n",
              "      <td>0.280871</td>\n",
              "      <td>-0.777155</td>\n",
              "      <td>-0.260090</td>\n",
              "      <td>-0.305076</td>\n",
              "      <td>-0.163643</td>\n",
              "      <td>-0.299811</td>\n",
              "      <td>0.371746</td>\n",
              "      <td>0.453483</td>\n",
              "      <td>-0.769298</td>\n",
              "      <td>-0.028940</td>\n",
              "      <td>0.315567</td>\n",
              "      <td>-0.204723</td>\n",
              "      <td>-0.128744</td>\n",
              "      <td>-0.743678</td>\n",
              "      <td>0.438872</td>\n",
              "      <td>-0.175633</td>\n",
              "      <td>0.450199</td>\n",
              "      <td>-0.183551</td>\n",
              "      <td>0.328904</td>\n",
              "      <td>0.610843</td>\n",
              "      <td>-0.039270</td>\n",
              "      <td>-0.240939</td>\n",
              "      <td>0.006139</td>\n",
              "      <td>...</td>\n",
              "      <td>0.824732</td>\n",
              "      <td>0.701563</td>\n",
              "      <td>0.253147</td>\n",
              "      <td>0.310119</td>\n",
              "      <td>0.887983</td>\n",
              "      <td>0.810451</td>\n",
              "      <td>0.450301</td>\n",
              "      <td>-0.297974</td>\n",
              "      <td>-0.072910</td>\n",
              "      <td>-0.172605</td>\n",
              "      <td>0.945743</td>\n",
              "      <td>0.219427</td>\n",
              "      <td>-0.444821</td>\n",
              "      <td>0.299506</td>\n",
              "      <td>0.973425</td>\n",
              "      <td>0.556506</td>\n",
              "      <td>0.419446</td>\n",
              "      <td>0.863637</td>\n",
              "      <td>0.689427</td>\n",
              "      <td>-0.747980</td>\n",
              "      <td>0.513811</td>\n",
              "      <td>-0.751699</td>\n",
              "      <td>-0.468218</td>\n",
              "      <td>-0.382860</td>\n",
              "      <td>-0.204037</td>\n",
              "      <td>-0.060114</td>\n",
              "      <td>-0.228126</td>\n",
              "      <td>0.158770</td>\n",
              "      <td>-0.105689</td>\n",
              "      <td>0.332830</td>\n",
              "      <td>0.225784</td>\n",
              "      <td>0.808765</td>\n",
              "      <td>0.278420</td>\n",
              "      <td>0.863637</td>\n",
              "      <td>-0.254991</td>\n",
              "      <td>0.201063</td>\n",
              "      <td>-0.300893</td>\n",
              "      <td>0.863637</td>\n",
              "      <td>1.000000</td>\n",
              "      <td>-0.382860</td>\n",
              "    </tr>\n",
              "    <tr>\n",
              "      <th>B00L26YDA4</th>\n",
              "      <td>0.911036</td>\n",
              "      <td>0.442363</td>\n",
              "      <td>-0.746069</td>\n",
              "      <td>0.505871</td>\n",
              "      <td>0.172795</td>\n",
              "      <td>-0.784529</td>\n",
              "      <td>-0.257666</td>\n",
              "      <td>-0.157973</td>\n",
              "      <td>0.847792</td>\n",
              "      <td>-0.154462</td>\n",
              "      <td>0.726844</td>\n",
              "      <td>-0.800527</td>\n",
              "      <td>0.966343</td>\n",
              "      <td>-0.051694</td>\n",
              "      <td>0.119535</td>\n",
              "      <td>-0.505033</td>\n",
              "      <td>0.173916</td>\n",
              "      <td>-0.831422</td>\n",
              "      <td>-0.180742</td>\n",
              "      <td>-0.468424</td>\n",
              "      <td>0.935033</td>\n",
              "      <td>0.793461</td>\n",
              "      <td>0.649948</td>\n",
              "      <td>-0.959379</td>\n",
              "      <td>0.391408</td>\n",
              "      <td>0.097394</td>\n",
              "      <td>0.030664</td>\n",
              "      <td>-0.836815</td>\n",
              "      <td>0.979618</td>\n",
              "      <td>0.721067</td>\n",
              "      <td>0.779218</td>\n",
              "      <td>0.646283</td>\n",
              "      <td>0.442120</td>\n",
              "      <td>0.403778</td>\n",
              "      <td>0.125258</td>\n",
              "      <td>0.422446</td>\n",
              "      <td>-0.156588</td>\n",
              "      <td>0.809139</td>\n",
              "      <td>-0.588834</td>\n",
              "      <td>-0.767086</td>\n",
              "      <td>...</td>\n",
              "      <td>0.153491</td>\n",
              "      <td>0.174457</td>\n",
              "      <td>-0.810164</td>\n",
              "      <td>-0.695932</td>\n",
              "      <td>-0.741056</td>\n",
              "      <td>-0.345335</td>\n",
              "      <td>-0.908310</td>\n",
              "      <td>0.900031</td>\n",
              "      <td>0.424560</td>\n",
              "      <td>-0.732350</td>\n",
              "      <td>-0.343450</td>\n",
              "      <td>0.771140</td>\n",
              "      <td>0.804113</td>\n",
              "      <td>-0.934131</td>\n",
              "      <td>-0.506751</td>\n",
              "      <td>-0.820846</td>\n",
              "      <td>-0.957752</td>\n",
              "      <td>-0.319818</td>\n",
              "      <td>0.238898</td>\n",
              "      <td>0.525044</td>\n",
              "      <td>-0.694554</td>\n",
              "      <td>0.680332</td>\n",
              "      <td>-0.481985</td>\n",
              "      <td>1.000000</td>\n",
              "      <td>0.842056</td>\n",
              "      <td>-0.164626</td>\n",
              "      <td>-0.790214</td>\n",
              "      <td>-0.247687</td>\n",
              "      <td>0.643202</td>\n",
              "      <td>-0.986159</td>\n",
              "      <td>0.803243</td>\n",
              "      <td>-0.229448</td>\n",
              "      <td>0.775681</td>\n",
              "      <td>-0.319818</td>\n",
              "      <td>-0.002135</td>\n",
              "      <td>0.717118</td>\n",
              "      <td>0.865609</td>\n",
              "      <td>-0.319818</td>\n",
              "      <td>-0.382860</td>\n",
              "      <td>1.000000</td>\n",
              "    </tr>\n",
              "  </tbody>\n",
              "</table>\n",
              "<p>10876 rows × 10876 columns</p>\n",
              "</div>"
            ],
            "text/plain": [
              "            1400501466  1400532620  ...  B00L2442H0  B00L26YDA4\n",
              "1400501466    1.000000    0.674661  ...   -0.159887    0.911036\n",
              "1400532620    0.674661    1.000000  ...   -0.330282    0.442363\n",
              "1400532655   -0.737647   -0.770011  ...    0.575646   -0.746069\n",
              "140053271X    0.366075    0.533097  ...   -0.787307    0.505871\n",
              "3744295508   -0.226580   -0.571806  ...   -0.368974    0.172795\n",
              "...                ...         ...  ...         ...         ...\n",
              "B00KO6DS3Q    0.910293    0.551847  ...    0.201063    0.717118\n",
              "B00KWMNDDM    0.706534    0.080312  ...   -0.300893    0.865609\n",
              "B00KYMCJF8   -0.182417   -0.506248  ...    0.863637   -0.319818\n",
              "B00L2442H0   -0.159887   -0.330282  ...    1.000000   -0.382860\n",
              "B00L26YDA4    0.911036    0.442363  ...   -0.382860    1.000000\n",
              "\n",
              "[10876 rows x 10876 columns]"
            ]
          },
          "metadata": {
            "tags": []
          },
          "execution_count": 49
        }
      ]
    },
    {
      "cell_type": "code",
      "metadata": {
        "id": "lukmWR_CehWS"
      },
      "source": [
        "def hybrid_recommend(user_id, usr_product,corr,n=5):\r\n",
        "  print('-' *83)\r\n",
        "  print(' Here are the recommended products based on selected product and popularity, top',n)\r\n",
        "  print('-' *83)\r\n",
        "  name = usr_product # Product selected by the user\r\n",
        "  products_already_rated_by_user = Electronics_data[Electronics_data.userID ==user_id]['productID'] # Product already bought and rated by user\r\n",
        "  #get top 5 products based on correlation coeff\r\n",
        "  newDF = pd.DataFrame(DF.loc[name,:]).sort_values(name, ascending=False).drop(index=name)\r\n",
        "  newDF = newDF.drop(products_already_rated_by_user).head(n) # drop products already rated by user and fetch the top n recommended for that user\r\n",
        "\r\n",
        "  idx = np.intersect1d(newDF.index, Popular_Data.index) # find the 5 products in the popular product table for its popularity and rating average\r\n",
        "  Recommend_Data = Popular_Data.loc[idx].sort_values('number of ratings', ascending=False) # sort based on popularity\r\n",
        "  print(Recommend_Data)\r\n"
      ],
      "execution_count": 50,
      "outputs": []
    },
    {
      "cell_type": "code",
      "metadata": {
        "id": "jbP5YjscmL__",
        "colab": {
          "base_uri": "https://localhost:8080/"
        },
        "outputId": "30a3bcdf-8ad8-44eb-e1ad-21a256cba1c8"
      },
      "source": [
        "hybrid_recommend('A5JLAU2ARJ0BO', 'B00L26YDA4',5)\r\n",
        "#hybrid_recommend('B00LXEC8CU',5)"
      ],
      "execution_count": 51,
      "outputs": [
        {
          "output_type": "stream",
          "text": [
            "-----------------------------------------------------------------------------------\n",
            " Here are the recommended products based on selected product and popularity, top 5\n",
            "-----------------------------------------------------------------------------------\n",
            "            number of ratings  rating_mean\n",
            "productID                                 \n",
            "B00AXX0I7Y                 18     4.111111\n",
            "B0011Z2402                 12     4.333333\n",
            "B00IP8IBYG                  3     5.000000\n",
            "B0000D88OS                  1     5.000000\n",
            "B00KCG95M6                  1     3.000000\n"
          ],
          "name": "stdout"
        }
      ]
    },
    {
      "cell_type": "code",
      "metadata": {
        "id": "oXhOYMJpWEBh"
      },
      "source": [
        "# list products which are not in hybrid model\r\n",
        "diffidx = np.setdiff1d(Popular_Data.index,DF.index)\r\n",
        "diffidx = pd.DataFrame(np.unique(diffidx), columns={'ID'})"
      ],
      "execution_count": 52,
      "outputs": []
    },
    {
      "cell_type": "code",
      "metadata": {
        "id": "FfqwdT6scGeH",
        "colab": {
          "base_uri": "https://localhost:8080/"
        },
        "outputId": "34d08d36-b97f-4aa5-f2e9-089ef3500b41"
      },
      "source": [
        "diffidx.shape"
      ],
      "execution_count": 53,
      "outputs": [
        {
          "output_type": "execute_result",
          "data": {
            "text/plain": [
              "(119262, 1)"
            ]
          },
          "metadata": {
            "tags": []
          },
          "execution_count": 53
        }
      ]
    },
    {
      "cell_type": "code",
      "metadata": {
        "id": "x_g6-B5TYgrk"
      },
      "source": [
        "#recommendation function based on selected product by user. \r\n",
        "#If the product is available in hybrid model then will use the hrbird model else list the popular product.\r\n",
        "def recommend(user, product_selected, n = 5):\r\n",
        "  seriesObj = diffidx['ID'].isin([product_selected])\r\n",
        "  columnNames = list(seriesObj[seriesObj == True].index)\r\n",
        "  if not columnNames:\r\n",
        "    hybrid_recommend(user, product_selected,n)\r\n",
        "  else:\r\n",
        "    popular_recommend(user, n)"
      ],
      "execution_count": 54,
      "outputs": []
    },
    {
      "cell_type": "code",
      "metadata": {
        "id": "uO9_sVWog2LU",
        "colab": {
          "base_uri": "https://localhost:8080/"
        },
        "outputId": "645ad67e-45bd-4a12-e397-7e0c133861a7"
      },
      "source": [
        "recommend('A5JLAU2ARJ0BO','B00L26YDA4',5) # Example for selected product available in hybrid model"
      ],
      "execution_count": 55,
      "outputs": [
        {
          "output_type": "stream",
          "text": [
            "-----------------------------------------------------------------------------------\n",
            " Here are the recommended products based on selected product and popularity, top 5\n",
            "-----------------------------------------------------------------------------------\n",
            "            number of ratings  rating_mean\n",
            "productID                                 \n",
            "B00AXX0I7Y                 18     4.111111\n",
            "B0011Z2402                 12     4.333333\n",
            "B00IP8IBYG                  3     5.000000\n",
            "B0000D88OS                  1     5.000000\n",
            "B00KCG95M6                  1     3.000000\n"
          ],
          "name": "stdout"
        }
      ]
    },
    {
      "cell_type": "code",
      "metadata": {
        "id": "_p3_LcpGg6Z-",
        "colab": {
          "base_uri": "https://localhost:8080/"
        },
        "outputId": "b92739b5-0da3-4e26-bb0f-4c1404b30ca8"
      },
      "source": [
        "recommend('A5JLAU2ARJ0BO','B00LXEC8CU',5) # Example for selected product NOT available in hybrid model"
      ],
      "execution_count": 56,
      "outputs": [
        {
          "output_type": "stream",
          "text": [
            "----------------------------------------------------------\n",
            " Here are the recommended popular products for you, top 5\n",
            "----------------------------------------------------------\n",
            "            number of ratings  rating_mean\n",
            "productID                                 \n",
            "B0074BW614               1138     4.465729\n",
            "B00DR0PDNE               1094     3.943327\n",
            "B007WTAJTO                883     4.417894\n",
            "B0019EHU8G                774     4.740310\n",
            "B006GWO5WK                770     4.275325\n"
          ],
          "name": "stdout"
        }
      ]
    },
    {
      "cell_type": "markdown",
      "metadata": {
        "id": "kr6H0DIlQcsM"
      },
      "source": [
        "#### 7. Summarise your insights."
      ]
    },
    {
      "cell_type": "markdown",
      "metadata": {
        "id": "XF-mmAfd_bSP"
      },
      "source": [
        "1. While exploring the data we found that the data is very sparse where in most of the individual users have rated only single products and that too highest rating.\n",
        "2. Also these products are rated by only few users.Hence ratings inference is not precise.\n",
        "3. Since most of the user rated only single product their taste or preference may not be precise. However we assume their taste to be similiar to other users who have rated similiar products.\n",
        "4. Such dataset which is sparse where in its difficult to find correlation of the rated products and have a very very accurate recommendation system to recommend products that are highly correlated to the selected product by the user.\n",
        "5. Secondly the dataset is huge datasize but with very limited information.\n",
        "6. With such sparse set recommending products using Model Based collaborative recommendation ( SVD, PMF, NMF, Neural nets) is better than Memory Based recommendation(Item-Item / User-User / Knn clustering).\n",
        "7. To take in to account scaling and sparse issue we built a Matrix factorisation SVD based model to recommend products which could be similiar to selected product by the user. The SVD model will be able to provide hidden correlation information based on the user ratings (more than 4 rating per product).\n",
        "8. Using surprize library, we have evaulated model that using svd we could estimate user preference based on the their preference with an RMSE accuracy of 1.33 on train and test dataset which seems best achieveable tuning the hyperparameters.\n",
        "9. SVD with 5 components was able to best model when we have tested estimated rating with actual rating on test dataset. Hence we would need SVD which takes more than 5 feature components. We used truncated SVD to improve the speed of computation with not reducing quality of the model.\n",
        "10. For most of the data where in the correlation information could not be retrieved we recommended popular products from the popular dataset.\n"
      ]
    },
    {
      "cell_type": "markdown",
      "metadata": {
        "id": "94irBWBVlF4r"
      },
      "source": [
        "### Thank You"
      ]
    }
  ]
}