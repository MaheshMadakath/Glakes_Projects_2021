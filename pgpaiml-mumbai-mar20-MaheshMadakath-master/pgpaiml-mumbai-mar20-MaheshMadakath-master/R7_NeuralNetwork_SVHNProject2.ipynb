{
  "nbformat": 4,
  "nbformat_minor": 0,
  "metadata": {
    "colab": {
      "name": "Project2_SVHN_v2.ipynb",
      "provenance": [],
      "collapsed_sections": []
    },
    "kernelspec": {
      "name": "python3",
      "display_name": "Python 3"
    },
    "accelerator": "GPU"
  },
  "cells": [
    {
      "cell_type": "code",
      "metadata": {
        "id": "cX5mzmh6H_do"
      },
      "source": [
        "import os\r\n",
        "%matplotlib inline\r\n",
        "import matplotlib.pyplot as plt # Data Visualization\r\n",
        "import pandas as pd # Data processing\r\n",
        "import seaborn as sns # Data Visualization\r\n",
        "import numpy as np # Linear Algebra\r\n",
        "import h5py #To read h5 file\r\n",
        "\r\n",
        "\r\n",
        "\r\n",
        "# Ignore the warnings\r\n",
        "import warnings\r\n",
        "warnings.filterwarnings(\"ignore\")\r\n",
        "\r\n",
        "# Importing all necessary tensorflow keras libraries\r\n",
        "import tensorflow as tf\r\n",
        "from tensorflow.keras import Sequential\r\n",
        "\r\n",
        "from tensorflow.keras.layers import Dense, Dropout, Activation\r\n",
        "from tensorflow.keras.optimizers import RMSprop\r\n",
        "from tensorflow.keras.callbacks import EarlyStopping\r\n",
        "from tensorflow.keras.layers import BatchNormalization\r\n",
        "from tensorflow.keras.constraints import MaxNorm\r\n",
        "from tensorflow.keras.activations import relu\r\n",
        "from tensorflow.keras.layers import LeakyReLU\r\n",
        "from tensorflow.keras.activations import linear\r\n",
        "from tensorflow.keras import utils \r\n",
        "\r\n",
        "from sklearn import metrics\r\n"
      ],
      "execution_count": 2,
      "outputs": []
    },
    {
      "cell_type": "code",
      "metadata": {
        "colab": {
          "base_uri": "https://localhost:8080/"
        },
        "id": "aiuJiH1VIH9s",
        "outputId": "9de70e05-2925-4ebc-871c-d5aebf9f2739"
      },
      "source": [
        "from google.colab import drive\r\n",
        "drive.mount('/gdrive')"
      ],
      "execution_count": 3,
      "outputs": [
        {
          "output_type": "stream",
          "text": [
            "Mounted at /gdrive\n"
          ],
          "name": "stdout"
        }
      ]
    },
    {
      "cell_type": "code",
      "metadata": {
        "id": "W2eCGKBBIWai"
      },
      "source": [
        "os.chdir('/gdrive/MyDrive/Colab Notebooks')"
      ],
      "execution_count": 4,
      "outputs": []
    },
    {
      "cell_type": "markdown",
      "metadata": {
        "id": "Qz_8nXuKSkqD"
      },
      "source": [
        "### 1. Import the data."
      ]
    },
    {
      "cell_type": "code",
      "metadata": {
        "id": "LKq1QCe-IXvC"
      },
      "source": [
        "# Open the file as readonly\r\n",
        "h5f = h5py.File('SVHN_single_grey1.h5', 'r')\r\n",
        "\r\n",
        "# Load the training, test and validation set\r\n",
        "X_train = h5f['X_train'][:]\r\n",
        "y_train = h5f['y_train'][:]\r\n",
        "X_test = h5f['X_test'][:]\r\n",
        "y_test = h5f['y_test'][:]\r\n",
        "# Close this file\r\n",
        "h5f.close()"
      ],
      "execution_count": 5,
      "outputs": []
    },
    {
      "cell_type": "code",
      "metadata": {
        "colab": {
          "base_uri": "https://localhost:8080/"
        },
        "id": "ZC62lRE9I2qp",
        "outputId": "8368d20d-3536-40fb-bcee-94e32ca9adea"
      },
      "source": [
        "# Check the shape\r\n",
        "print(\"X_train shape:\", X_train.shape)\r\n",
        "print(\"y_train shape:\", y_train.shape)\r\n",
        "print(\"X_test shape:\", X_test.shape)\r\n",
        "print(\"y_test shape:\", y_test.shape)"
      ],
      "execution_count": 6,
      "outputs": [
        {
          "output_type": "stream",
          "text": [
            "X_train shape: (42000, 32, 32)\n",
            "y_train shape: (42000,)\n",
            "X_test shape: (18000, 32, 32)\n",
            "y_test shape: (18000,)\n"
          ],
          "name": "stdout"
        }
      ]
    },
    {
      "cell_type": "code",
      "metadata": {
        "colab": {
          "base_uri": "https://localhost:8080/"
        },
        "id": "-kyIkTgJmFlG",
        "outputId": "e7edee5b-9030-4f6e-b59d-65c38dd6a76e"
      },
      "source": [
        "unique_elements, counts_elements = np.unique(y_train, return_counts=True)\r\n",
        "print(np.asarray((unique_elements, counts_elements)))\r\n"
      ],
      "execution_count": 7,
      "outputs": [
        {
          "output_type": "stream",
          "text": [
            "[[   0    1    2    3    4    5    6    7    8    9]\n",
            " [4186 4172 4197 4281 4188 4232 4168 4192 4188 4196]]\n"
          ],
          "name": "stdout"
        }
      ]
    },
    {
      "cell_type": "code",
      "metadata": {
        "colab": {
          "base_uri": "https://localhost:8080/"
        },
        "id": "j3c6q3JUmt6R",
        "outputId": "bd4bc011-e638-4eaf-a260-c99d474a0b47"
      },
      "source": [
        "unique_elements, counts_elements = np.unique(y_test, return_counts=True)\r\n",
        "print(np.asarray((unique_elements, counts_elements)))"
      ],
      "execution_count": 8,
      "outputs": [
        {
          "output_type": "stream",
          "text": [
            "[[   0    1    2    3    4    5    6    7    8    9]\n",
            " [1814 1828 1803 1719 1812 1768 1832 1808 1812 1804]]\n"
          ],
          "name": "stdout"
        }
      ]
    },
    {
      "cell_type": "markdown",
      "metadata": {
        "id": "rapcz4ZOS5xr"
      },
      "source": [
        "### 2. Data pre-processing and visualisation"
      ]
    },
    {
      "cell_type": "code",
      "metadata": {
        "colab": {
          "base_uri": "https://localhost:8080/",
          "height": 534
        },
        "id": "jY_lYY9vKwIM",
        "outputId": "e3ef13dd-cf50-4ea4-97a2-cb9804970a83"
      },
      "source": [
        "# Checking the images\r\n",
        "columns = 10\r\n",
        "rows = 5\r\n",
        "\r\n",
        "fig=plt.figure(figsize=(8, 8))\r\n",
        "\r\n",
        "for i in range(1, columns*rows + 1):\r\n",
        "    img = X_test[i]\r\n",
        "    fig.add_subplot(rows, columns, i)\r\n",
        "    print (y_test[i], end=' ')\r\n",
        "    if i % columns == 0:\r\n",
        "      print (\"\")\r\n",
        "    plt.imshow(img, cmap='gray')\r\n",
        "\r\n",
        "plt.show()"
      ],
      "execution_count": 9,
      "outputs": [
        {
          "output_type": "stream",
          "text": [
            "7 2 9 0 9 1 8 4 4 8 \n",
            "9 1 4 3 5 8 6 5 5 0 \n",
            "6 5 8 3 2 0 1 9 5 2 \n",
            "8 9 1 0 9 5 3 3 7 6 \n",
            "4 2 4 9 6 7 8 8 3 5 \n"
          ],
          "name": "stdout"
        },
        {
          "output_type": "display_data",
          "data": {
            "image/png": "[encoded data removed]",
            "text/plain": [
              "<Figure size 576x576 with 50 Axes>"
            ]
          },
          "metadata": {
            "tags": [],
            "needs_background": "light"
          }
        }
      ]
    },
    {
      "cell_type": "code",
      "metadata": {
        "id": "WdyJyKUUTbsM"
      },
      "source": [
        "# Reshaping input image data from 2D to 1 D -- (32 x 32) to 1024 \r\n",
        "X_train = X_train.reshape(X_train.shape[0], 1024) \r\n",
        "X_test = X_test.reshape(X_test.shape[0], 1024) \r\n",
        "# convert the input values to float32 \r\n",
        "X_train = X_train.astype( np.float32) \r\n",
        "X_test = X_test.astype( np.float32) \r\n",
        "\r\n",
        "# normalize the values of image vectors to fit under 1 \r\n",
        "X_train /= 255.0 \r\n",
        "X_test /= 255.0\r\n"
      ],
      "execution_count": 10,
      "outputs": []
    },
    {
      "cell_type": "code",
      "metadata": {
        "id": "woByqetEl5hz"
      },
      "source": [
        "# convert output data into one hot encoded format \r\n",
        "y_train = utils.to_categorical( y_train, 10) \r\n",
        "y_test = utils.to_categorical( y_test, 10)"
      ],
      "execution_count": 11,
      "outputs": []
    },
    {
      "cell_type": "code",
      "metadata": {
        "colab": {
          "base_uri": "https://localhost:8080/"
        },
        "id": "QsNsEXgnnK_p",
        "outputId": "0a1abc76-ab7d-43cd-812a-d22ee9445330"
      },
      "source": [
        "pd.DataFrame(y_train).value_counts()"
      ],
      "execution_count": null,
      "outputs": [
        {
          "output_type": "execute_result",
          "data": {
            "text/plain": [
              "0    1    2    3    4    5    6    7    8    9  \n",
              "0.0  0.0  0.0  1.0  0.0  0.0  0.0  0.0  0.0  0.0    4281\n",
              "               0.0  0.0  1.0  0.0  0.0  0.0  0.0    4232\n",
              "          1.0  0.0  0.0  0.0  0.0  0.0  0.0  0.0    4197\n",
              "          0.0  0.0  0.0  0.0  0.0  0.0  0.0  1.0    4196\n",
              "                                   1.0  0.0  0.0    4192\n",
              "                    1.0  0.0  0.0  0.0  0.0  0.0    4188\n",
              "                    0.0  0.0  0.0  0.0  1.0  0.0    4188\n",
              "1.0  0.0  0.0  0.0  0.0  0.0  0.0  0.0  0.0  0.0    4186\n",
              "0.0  1.0  0.0  0.0  0.0  0.0  0.0  0.0  0.0  0.0    4172\n",
              "     0.0  0.0  0.0  0.0  0.0  1.0  0.0  0.0  0.0    4168\n",
              "dtype: int64"
            ]
          },
          "metadata": {
            "tags": []
          },
          "execution_count": 11
        }
      ]
    },
    {
      "cell_type": "markdown",
      "metadata": {
        "id": "f4kiuHlK-bb8"
      },
      "source": [
        "### 3. Design, train, tune and test a neural network image classifier."
      ]
    },
    {
      "cell_type": "code",
      "metadata": {
        "id": "emBws8vbs-i9"
      },
      "source": [
        "def Build_Model():\r\n",
        "  model = Sequential()\r\n",
        "  model.add(Dense(units = 1024,kernel_initializer='he_normal', input_shape =(1024,)))\r\n",
        "  model.add(tf.keras.layers.BatchNormalization())\r\n",
        "  model.add(tf.keras.layers.Activation('relu'))\r\n",
        "  model.add(Dense(units = 512,kernel_initializer='he_normal'))\r\n",
        "  model.add(BatchNormalization())\r\n",
        "  model.add(Activation('relu'))\r\n",
        "  model.add(Dense(units = 256, kernel_initializer='he_normal'))\r\n",
        "  model.add(BatchNormalization())\r\n",
        "  model.add(Activation('relu'))\r\n",
        "  model.add(Dense(units = 128, kernel_initializer='he_normal')) \r\n",
        "  model.add(BatchNormalization())\r\n",
        "  model.add(Activation('relu'))\r\n",
        "  model.add(Dense(units = 64, kernel_initializer='he_normal'))\r\n",
        "  model.add(BatchNormalization())\r\n",
        "  model.add(Activation('relu'))\r\n",
        "  model.add( Dense( units = 32, kernel_initializer='he_normal')) \r\n",
        "  model.add(BatchNormalization())\r\n",
        "  model.add(Activation('relu'))\r\n",
        "  model.add(Dense(10,activation='softmax'))  #Classify the input among ten classes using Softmax Activation\r\n",
        "  return model\r\n",
        "\r\n",
        "def evaluate(model, opti, n_epochs = 20 , batch_size = 32):\r\n",
        "  #model.summary()\r\n",
        "  model.compile(optimizer= opti, loss ='categorical_crossentropy', metrics =['accuracy'])\r\n",
        "  history = model.fit(X_train, y_train, batch_size=batch_size, epochs=n_epochs, validation_split=0.1, verbose=False) #train the model\r\n",
        "  train = pd.DataFrame(history.history['accuracy']).iloc[(n_epochs-1),0]\r\n",
        "  val = pd.DataFrame(history.history['val_accuracy']).iloc[(n_epochs-1),0]\r\n",
        "  loss, acc  = model.evaluate(X_test, y_test, verbose=False)\r\n",
        "  return (train,val,acc)"
      ],
      "execution_count": 12,
      "outputs": []
    },
    {
      "cell_type": "code",
      "metadata": {
        "id": "Ye_MpHBbttoz"
      },
      "source": [
        "#Compile the above neuron strcuture through various optimizers in keras and check the best one\r\n",
        "# Table to save the results\r\n",
        "opt_tab = pd.DataFrame(columns=['optimizer','Learning_Rate','Training_Accuracy','Validation_Accuracy','Testing_Accuracy'])"
      ],
      "execution_count": null,
      "outputs": []
    },
    {
      "cell_type": "code",
      "metadata": {
        "id": "Fza2qmaFzAKH"
      },
      "source": [
        "lrr = 0.001\r\n",
        "rms = tf.keras.optimizers.RMSprop( learning_rate=lrr, momentum=0.1)\r\n",
        "adad = tf.keras.optimizers.Adadelta(learning_rate=lrr, rho=0.95,epsilon=1e-07)\r\n",
        "adam = tf.keras.optimizers.Adam(lr=lrr)\r\n",
        "sgd = tf.keras.optimizers.SGD(lr = lrr)\r\n",
        "adag = tf.keras.optimizers.Adagrad(lr=lrr, initial_accumulator_value=0.1, epsilon=1e-07)\r\n",
        "opt = [rms, adam, adad, sgd, adag]\r\n",
        "n_epochs = 20 #No of epochs\r\n",
        "batch_size = 32 #batch size for training \r\n",
        "for i in opt:\r\n",
        "  model = Build_Model()\r\n",
        "  (train, val, acc) = evaluate(model,i)\r\n",
        "  j= str(i.__class__).split('.')[-1].replace('\\'', '').replace('>', '')\r\n",
        "  new_row = {'optimizer': j ,'Learning_Rate':lrr, 'Training_Accuracy': np.round((train*100),2) ,'Validation_Accuracy':np.round((val*100),2),'Testing_Accuracy':np.round((acc*100),2)}\r\n",
        "  opt_tab = opt_tab.append(new_row, ignore_index=True)"
      ],
      "execution_count": null,
      "outputs": []
    },
    {
      "cell_type": "code",
      "metadata": {
        "id": "jdlIkM6J7nv0",
        "colab": {
          "base_uri": "https://localhost:8080/",
          "height": 359
        },
        "outputId": "2a265cf8-c62e-49e0-a9fc-b57e775f5303"
      },
      "source": [
        "opt_tab"
      ],
      "execution_count": null,
      "outputs": [
        {
          "output_type": "execute_result",
          "data": {
            "text/html": [
              "<div>\n",
              "<style scoped>\n",
              "    .dataframe tbody tr th:only-of-type {\n",
              "        vertical-align: middle;\n",
              "    }\n",
              "\n",
              "    .dataframe tbody tr th {\n",
              "        vertical-align: top;\n",
              "    }\n",
              "\n",
              "    .dataframe thead th {\n",
              "        text-align: right;\n",
              "    }\n",
              "</style>\n",
              "<table border=\"1\" class=\"dataframe\">\n",
              "  <thead>\n",
              "    <tr style=\"text-align: right;\">\n",
              "      <th></th>\n",
              "      <th>optimizer</th>\n",
              "      <th>Learning_Rate</th>\n",
              "      <th>Training_Accuracy</th>\n",
              "      <th>Validation_Accuracy</th>\n",
              "      <th>Testing_Accuracy</th>\n",
              "    </tr>\n",
              "  </thead>\n",
              "  <tbody>\n",
              "    <tr>\n",
              "      <th>0</th>\n",
              "      <td>RMSprop</td>\n",
              "      <td>0.050</td>\n",
              "      <td>9.88</td>\n",
              "      <td>9.64</td>\n",
              "      <td>10.02</td>\n",
              "    </tr>\n",
              "    <tr>\n",
              "      <th>1</th>\n",
              "      <td>Adam</td>\n",
              "      <td>0.050</td>\n",
              "      <td>10.19</td>\n",
              "      <td>10.62</td>\n",
              "      <td>10.16</td>\n",
              "    </tr>\n",
              "    <tr>\n",
              "      <th>2</th>\n",
              "      <td>Adadelta</td>\n",
              "      <td>0.050</td>\n",
              "      <td>85.74</td>\n",
              "      <td>76.17</td>\n",
              "      <td>75.26</td>\n",
              "    </tr>\n",
              "    <tr>\n",
              "      <th>3</th>\n",
              "      <td>SGD</td>\n",
              "      <td>0.050</td>\n",
              "      <td>87.76</td>\n",
              "      <td>52.10</td>\n",
              "      <td>51.25</td>\n",
              "    </tr>\n",
              "    <tr>\n",
              "      <th>4</th>\n",
              "      <td>Adagrad</td>\n",
              "      <td>0.050</td>\n",
              "      <td>88.75</td>\n",
              "      <td>74.69</td>\n",
              "      <td>75.53</td>\n",
              "    </tr>\n",
              "    <tr>\n",
              "      <th>5</th>\n",
              "      <td>RMSprop</td>\n",
              "      <td>0.001</td>\n",
              "      <td>86.83</td>\n",
              "      <td>74.43</td>\n",
              "      <td>73.89</td>\n",
              "    </tr>\n",
              "    <tr>\n",
              "      <th>6</th>\n",
              "      <td>Adam</td>\n",
              "      <td>0.001</td>\n",
              "      <td>86.72</td>\n",
              "      <td>78.98</td>\n",
              "      <td>78.71</td>\n",
              "    </tr>\n",
              "    <tr>\n",
              "      <th>7</th>\n",
              "      <td>Adadelta</td>\n",
              "      <td>0.001</td>\n",
              "      <td>29.45</td>\n",
              "      <td>31.86</td>\n",
              "      <td>30.95</td>\n",
              "    </tr>\n",
              "    <tr>\n",
              "      <th>8</th>\n",
              "      <td>SGD</td>\n",
              "      <td>0.001</td>\n",
              "      <td>72.04</td>\n",
              "      <td>72.02</td>\n",
              "      <td>72.23</td>\n",
              "    </tr>\n",
              "    <tr>\n",
              "      <th>9</th>\n",
              "      <td>Adagrad</td>\n",
              "      <td>0.001</td>\n",
              "      <td>73.00</td>\n",
              "      <td>74.33</td>\n",
              "      <td>73.59</td>\n",
              "    </tr>\n",
              "  </tbody>\n",
              "</table>\n",
              "</div>"
            ],
            "text/plain": [
              "  optimizer  Learning_Rate  ...  Validation_Accuracy  Testing_Accuracy\n",
              "0   RMSprop          0.050  ...                 9.64             10.02\n",
              "1      Adam          0.050  ...                10.62             10.16\n",
              "2  Adadelta          0.050  ...                76.17             75.26\n",
              "3       SGD          0.050  ...                52.10             51.25\n",
              "4   Adagrad          0.050  ...                74.69             75.53\n",
              "5   RMSprop          0.001  ...                74.43             73.89\n",
              "6      Adam          0.001  ...                78.98             78.71\n",
              "7  Adadelta          0.001  ...                31.86             30.95\n",
              "8       SGD          0.001  ...                72.02             72.23\n",
              "9   Adagrad          0.001  ...                74.33             73.59\n",
              "\n",
              "[10 rows x 5 columns]"
            ]
          },
          "metadata": {
            "tags": []
          },
          "execution_count": 60
        }
      ]
    },
    {
      "cell_type": "markdown",
      "metadata": {
        "id": "d7-Hd2O--g1w"
      },
      "source": [
        "### Inference:\r\n",
        "* With modification in learning rate and remaining model neuron structure intact we find Adagrad (lr = 0.05) and Adam (lr = 0.001) to give better results. \r\n",
        "* With  Adagrad  and Adam either, we will see if any further hyperparameters can adjusted to improve the model."
      ]
    },
    {
      "cell_type": "code",
      "metadata": {
        "id": "cwdur--N4Msh"
      },
      "source": [
        "# Table to save the results\r\n",
        "tab = pd.DataFrame(columns=['optimizer','Learning_Rate','Epochs','Training_Accuracy','Training_Loss','Validation_Accuracy','Validation_Loss','Testing_Accuracy', 'Testing_Loss'])"
      ],
      "execution_count": 30,
      "outputs": []
    },
    {
      "cell_type": "markdown",
      "metadata": {
        "id": "7YmO2ygoJTtz"
      },
      "source": [
        "#### With learning rate 0.0005 and Adam Algorithm:"
      ]
    },
    {
      "cell_type": "code",
      "metadata": {
        "colab": {
          "base_uri": "https://localhost:8080/"
        },
        "id": "QwmqQLlm3JjH",
        "outputId": "23360751-eb98-4ddf-bddb-80d5700c8e18"
      },
      "source": [
        "n_epochs = 100\r\n",
        "batch_size = 64\r\n",
        "es = EarlyStopping(monitor='val_accuracy', mode='min', verbose=1, patience=10)\r\n",
        "lrr = 0.0005\r\n",
        "adam = tf.keras.optimizers.Adam(lr=lrr)\r\n",
        "#adag = tf.keras.optimizers.Adagrad(lr=lrr, initial_accumulator_value=0.1, epsilon=1e-07)\r\n",
        "opt = adam\r\n",
        "j = str(opt.__class__).split('.')[-1].replace('\\'', '').replace('>', '')\r\n",
        "print('Optimizer:', j , '\\n' )\r\n",
        "model = Build_Model()\r\n",
        "model.summary()\r\n",
        "model.compile(optimizer= opt, loss ='categorical_crossentropy', metrics =['accuracy'])\r\n",
        "history = model.fit(X_train, y_train, batch_size=batch_size, epochs=n_epochs, validation_split=0.1, callbacks = [es], verbose=True) #train the model"
      ],
      "execution_count": 27,
      "outputs": [
        {
          "output_type": "stream",
          "text": [
            "Optimizer: Adam \n",
            "\n",
            "Model: \"sequential_3\"\n",
            "_________________________________________________________________\n",
            "Layer (type)                 Output Shape              Param #   \n",
            "=================================================================\n",
            "dense_21 (Dense)             (None, 1024)              1049600   \n",
            "_________________________________________________________________\n",
            "batch_normalization_18 (Batc (None, 1024)              4096      \n",
            "_________________________________________________________________\n",
            "activation_18 (Activation)   (None, 1024)              0         \n",
            "_________________________________________________________________\n",
            "dense_22 (Dense)             (None, 512)               524800    \n",
            "_________________________________________________________________\n",
            "batch_normalization_19 (Batc (None, 512)               2048      \n",
            "_________________________________________________________________\n",
            "activation_19 (Activation)   (None, 512)               0         \n",
            "_________________________________________________________________\n",
            "dense_23 (Dense)             (None, 256)               131328    \n",
            "_________________________________________________________________\n",
            "batch_normalization_20 (Batc (None, 256)               1024      \n",
            "_________________________________________________________________\n",
            "activation_20 (Activation)   (None, 256)               0         \n",
            "_________________________________________________________________\n",
            "dense_24 (Dense)             (None, 128)               32896     \n",
            "_________________________________________________________________\n",
            "batch_normalization_21 (Batc (None, 128)               512       \n",
            "_________________________________________________________________\n",
            "activation_21 (Activation)   (None, 128)               0         \n",
            "_________________________________________________________________\n",
            "dense_25 (Dense)             (None, 64)                8256      \n",
            "_________________________________________________________________\n",
            "batch_normalization_22 (Batc (None, 64)                256       \n",
            "_________________________________________________________________\n",
            "activation_22 (Activation)   (None, 64)                0         \n",
            "_________________________________________________________________\n",
            "dense_26 (Dense)             (None, 32)                2080      \n",
            "_________________________________________________________________\n",
            "batch_normalization_23 (Batc (None, 32)                128       \n",
            "_________________________________________________________________\n",
            "activation_23 (Activation)   (None, 32)                0         \n",
            "_________________________________________________________________\n",
            "dense_27 (Dense)             (None, 10)                330       \n",
            "=================================================================\n",
            "Total params: 1,757,354\n",
            "Trainable params: 1,753,322\n",
            "Non-trainable params: 4,032\n",
            "_________________________________________________________________\n",
            "Epoch 1/100\n",
            "591/591 [==============================] - 14s 21ms/step - loss: 1.8928 - accuracy: 0.3582 - val_loss: 1.6311 - val_accuracy: 0.4419\n",
            "Epoch 2/100\n",
            "591/591 [==============================] - 13s 21ms/step - loss: 1.0451 - accuracy: 0.6712 - val_loss: 1.5000 - val_accuracy: 0.4867\n",
            "Epoch 3/100\n",
            "591/591 [==============================] - 12s 21ms/step - loss: 0.8664 - accuracy: 0.7262 - val_loss: 1.3698 - val_accuracy: 0.5350\n",
            "Epoch 4/100\n",
            "591/591 [==============================] - 12s 21ms/step - loss: 0.7548 - accuracy: 0.7597 - val_loss: 1.1817 - val_accuracy: 0.6067\n",
            "Epoch 5/100\n",
            "591/591 [==============================] - 13s 21ms/step - loss: 0.6780 - accuracy: 0.7883 - val_loss: 1.2789 - val_accuracy: 0.5762\n",
            "Epoch 6/100\n",
            "591/591 [==============================] - 12s 21ms/step - loss: 0.6144 - accuracy: 0.8048 - val_loss: 1.1494 - val_accuracy: 0.6174\n",
            "Epoch 7/100\n",
            "591/591 [==============================] - 12s 21ms/step - loss: 0.5761 - accuracy: 0.8165 - val_loss: 0.8560 - val_accuracy: 0.7229\n",
            "Epoch 8/100\n",
            "591/591 [==============================] - 12s 21ms/step - loss: 0.5431 - accuracy: 0.8281 - val_loss: 0.9503 - val_accuracy: 0.6910\n",
            "Epoch 9/100\n",
            "591/591 [==============================] - 12s 21ms/step - loss: 0.5146 - accuracy: 0.8359 - val_loss: 1.2782 - val_accuracy: 0.6021\n",
            "Epoch 10/100\n",
            "591/591 [==============================] - 12s 21ms/step - loss: 0.4784 - accuracy: 0.8480 - val_loss: 0.9438 - val_accuracy: 0.6921\n",
            "Epoch 11/100\n",
            "591/591 [==============================] - 13s 22ms/step - loss: 0.4534 - accuracy: 0.8560 - val_loss: 0.8084 - val_accuracy: 0.7421\n",
            "Epoch 00011: early stopping\n"
          ],
          "name": "stdout"
        }
      ]
    },
    {
      "cell_type": "code",
      "metadata": {
        "colab": {
          "base_uri": "https://localhost:8080/"
        },
        "id": "VsmbSzzH3mOx",
        "outputId": "250db003-1948-45fe-beeb-03e71cf14f3e"
      },
      "source": [
        "best_epoch = (pd.DataFrame(history.history['val_accuracy']).shape[0] - 1)\r\n",
        "j= str(opt.__class__).split('.')[-1].replace('\\'', '').replace('>', '')\r\n",
        "# Scores achieved for the model\r\n",
        "validation_accuracy = pd.DataFrame(history.history['val_accuracy']).iloc[best_epoch,0]\r\n",
        "Train_accuracy = pd.DataFrame(history.history['accuracy']).iloc[best_epoch,0]\r\n",
        "validation_loss = pd.DataFrame(history.history['val_loss']).iloc[best_epoch,0]\r\n",
        "Train_loss = pd.DataFrame(history.history['loss']).iloc[best_epoch,0]\r\n",
        "print('With',best_epoch,'epocs and using' , j , 'optimizer we get below results')\r\n",
        "print('Training Accuracy: %.2f and loss: %.2f' %(Train_accuracy*100, Train_loss)  )\r\n",
        "print('Validation Accuracy: %.2f and loss :%.2f' %(validation_accuracy*100, validation_loss))\r\n",
        "loss,accuracy  = model.evaluate(X_test, y_test, verbose=False)\r\n",
        "print('Model accuracy : %.2f and loss :%.2f' %(accuracy*100, loss))"
      ],
      "execution_count": 28,
      "outputs": [
        {
          "output_type": "stream",
          "text": [
            "With 10 epocs and using Adam optimizer we get below results\n",
            "Training Accuracy: 85.15 and loss: 0.47\n",
            "Validation Accuracy: 74.21 and loss :0.81\n",
            "Model accuracy : 73.67 and loss :0.84\n"
          ],
          "name": "stdout"
        }
      ]
    },
    {
      "cell_type": "code",
      "metadata": {
        "colab": {
          "base_uri": "https://localhost:8080/",
          "height": 80
        },
        "id": "ogOAc2FA47u5",
        "outputId": "20f729a3-c9de-4fb9-d8a8-11d1a445b652"
      },
      "source": [
        "new_row = {'optimizer': j ,'Learning_Rate':lrr,'Epochs':best_epoch, 'Training_Accuracy': np.round((Train_accuracy*100),2) ,'Training_Loss':Train_loss,'Validation_Accuracy':np.round((validation_accuracy*100),2),'Validation_Loss':validation_loss,'Testing_Accuracy':np.round((accuracy*100),2),'Testing_Loss':loss}\r\n",
        "tab = tab.append(new_row, ignore_index=True)\r\n",
        "tab"
      ],
      "execution_count": 31,
      "outputs": [
        {
          "output_type": "execute_result",
          "data": {
            "text/html": [
              "<div>\n",
              "<style scoped>\n",
              "    .dataframe tbody tr th:only-of-type {\n",
              "        vertical-align: middle;\n",
              "    }\n",
              "\n",
              "    .dataframe tbody tr th {\n",
              "        vertical-align: top;\n",
              "    }\n",
              "\n",
              "    .dataframe thead th {\n",
              "        text-align: right;\n",
              "    }\n",
              "</style>\n",
              "<table border=\"1\" class=\"dataframe\">\n",
              "  <thead>\n",
              "    <tr style=\"text-align: right;\">\n",
              "      <th></th>\n",
              "      <th>optimizer</th>\n",
              "      <th>Learning_Rate</th>\n",
              "      <th>Epochs</th>\n",
              "      <th>Training_Accuracy</th>\n",
              "      <th>Training_Loss</th>\n",
              "      <th>Validation_Accuracy</th>\n",
              "      <th>Validation_Loss</th>\n",
              "      <th>Testing_Accuracy</th>\n",
              "      <th>Testing_Loss</th>\n",
              "    </tr>\n",
              "  </thead>\n",
              "  <tbody>\n",
              "    <tr>\n",
              "      <th>0</th>\n",
              "      <td>Adam</td>\n",
              "      <td>0.0005</td>\n",
              "      <td>10</td>\n",
              "      <td>85.15</td>\n",
              "      <td>0.46629</td>\n",
              "      <td>74.21</td>\n",
              "      <td>0.808434</td>\n",
              "      <td>73.67</td>\n",
              "      <td>0.843503</td>\n",
              "    </tr>\n",
              "  </tbody>\n",
              "</table>\n",
              "</div>"
            ],
            "text/plain": [
              "  optimizer  Learning_Rate  ... Testing_Accuracy  Testing_Loss\n",
              "0      Adam         0.0005  ...            73.67      0.843503\n",
              "\n",
              "[1 rows x 9 columns]"
            ]
          },
          "metadata": {
            "tags": []
          },
          "execution_count": 31
        }
      ]
    },
    {
      "cell_type": "markdown",
      "metadata": {
        "id": "GJXyBn7eJnRQ"
      },
      "source": [
        "#### With learning rate 0.001 and Adam Algorithm:"
      ]
    },
    {
      "cell_type": "code",
      "metadata": {
        "id": "4-qTR3huoxdO",
        "colab": {
          "base_uri": "https://localhost:8080/"
        },
        "outputId": "71d7a795-9d47-49aa-9ada-e27564450dab"
      },
      "source": [
        "n_epochs = 100\r\n",
        "batch_size = 64\r\n",
        "es = EarlyStopping(monitor='val_accuracy', mode='min', verbose=1, patience=10)\r\n",
        "lrr = 0.001\r\n",
        "adam = tf.keras.optimizers.Adam(lr=lrr)\r\n",
        "#adag = tf.keras.optimizers.Adagrad(lr=lrr, initial_accumulator_value=0.1, epsilon=1e-07)\r\n",
        "opt = adam\r\n",
        "j = str(opt.__class__).split('.')[-1].replace('\\'', '').replace('>', '')\r\n",
        "print('Optimizer:', j , '\\n' )\r\n",
        "model = Build_Model()\r\n",
        "model.summary()\r\n",
        "model.compile(optimizer= opt, loss ='categorical_crossentropy', metrics =['accuracy'])\r\n",
        "history = model.fit(X_train, y_train, batch_size=batch_size, epochs=n_epochs, validation_split=0.1, callbacks = [es], verbose=True) #train the model"
      ],
      "execution_count": 32,
      "outputs": [
        {
          "output_type": "stream",
          "text": [
            "Optimizer: Adam \n",
            "\n",
            "Model: \"sequential_4\"\n",
            "_________________________________________________________________\n",
            "Layer (type)                 Output Shape              Param #   \n",
            "=================================================================\n",
            "dense_28 (Dense)             (None, 1024)              1049600   \n",
            "_________________________________________________________________\n",
            "batch_normalization_24 (Batc (None, 1024)              4096      \n",
            "_________________________________________________________________\n",
            "activation_24 (Activation)   (None, 1024)              0         \n",
            "_________________________________________________________________\n",
            "dense_29 (Dense)             (None, 512)               524800    \n",
            "_________________________________________________________________\n",
            "batch_normalization_25 (Batc (None, 512)               2048      \n",
            "_________________________________________________________________\n",
            "activation_25 (Activation)   (None, 512)               0         \n",
            "_________________________________________________________________\n",
            "dense_30 (Dense)             (None, 256)               131328    \n",
            "_________________________________________________________________\n",
            "batch_normalization_26 (Batc (None, 256)               1024      \n",
            "_________________________________________________________________\n",
            "activation_26 (Activation)   (None, 256)               0         \n",
            "_________________________________________________________________\n",
            "dense_31 (Dense)             (None, 128)               32896     \n",
            "_________________________________________________________________\n",
            "batch_normalization_27 (Batc (None, 128)               512       \n",
            "_________________________________________________________________\n",
            "activation_27 (Activation)   (None, 128)               0         \n",
            "_________________________________________________________________\n",
            "dense_32 (Dense)             (None, 64)                8256      \n",
            "_________________________________________________________________\n",
            "batch_normalization_28 (Batc (None, 64)                256       \n",
            "_________________________________________________________________\n",
            "activation_28 (Activation)   (None, 64)                0         \n",
            "_________________________________________________________________\n",
            "dense_33 (Dense)             (None, 32)                2080      \n",
            "_________________________________________________________________\n",
            "batch_normalization_29 (Batc (None, 32)                128       \n",
            "_________________________________________________________________\n",
            "activation_29 (Activation)   (None, 32)                0         \n",
            "_________________________________________________________________\n",
            "dense_34 (Dense)             (None, 10)                330       \n",
            "=================================================================\n",
            "Total params: 1,757,354\n",
            "Trainable params: 1,753,322\n",
            "Non-trainable params: 4,032\n",
            "_________________________________________________________________\n",
            "Epoch 1/100\n",
            "591/591 [==============================] - 14s 21ms/step - loss: 1.8332 - accuracy: 0.3667 - val_loss: 1.8441 - val_accuracy: 0.3795\n",
            "Epoch 2/100\n",
            "591/591 [==============================] - 13s 21ms/step - loss: 1.0439 - accuracy: 0.6689 - val_loss: 1.3850 - val_accuracy: 0.5336\n",
            "Epoch 3/100\n",
            "591/591 [==============================] - 13s 21ms/step - loss: 0.8721 - accuracy: 0.7257 - val_loss: 1.1473 - val_accuracy: 0.6362\n",
            "Epoch 4/100\n",
            "591/591 [==============================] - 13s 21ms/step - loss: 0.7651 - accuracy: 0.7583 - val_loss: 1.0957 - val_accuracy: 0.6486\n",
            "Epoch 5/100\n",
            "591/591 [==============================] - 13s 21ms/step - loss: 0.6976 - accuracy: 0.7778 - val_loss: 1.2182 - val_accuracy: 0.5745\n",
            "Epoch 6/100\n",
            "591/591 [==============================] - 13s 22ms/step - loss: 0.6444 - accuracy: 0.7958 - val_loss: 1.1667 - val_accuracy: 0.6364\n",
            "Epoch 7/100\n",
            "591/591 [==============================] - 13s 21ms/step - loss: 0.5971 - accuracy: 0.8118 - val_loss: 1.1130 - val_accuracy: 0.6540\n",
            "Epoch 8/100\n",
            "591/591 [==============================] - 13s 21ms/step - loss: 0.5456 - accuracy: 0.8275 - val_loss: 0.7511 - val_accuracy: 0.7600\n",
            "Epoch 9/100\n",
            "591/591 [==============================] - 12s 21ms/step - loss: 0.5249 - accuracy: 0.8341 - val_loss: 0.8055 - val_accuracy: 0.7448\n",
            "Epoch 10/100\n",
            "591/591 [==============================] - 13s 21ms/step - loss: 0.4878 - accuracy: 0.8434 - val_loss: 1.0065 - val_accuracy: 0.6783\n",
            "Epoch 11/100\n",
            "591/591 [==============================] - 13s 21ms/step - loss: 0.4732 - accuracy: 0.8488 - val_loss: 0.9511 - val_accuracy: 0.6950\n",
            "Epoch 00011: early stopping\n"
          ],
          "name": "stdout"
        }
      ]
    },
    {
      "cell_type": "code",
      "metadata": {
        "id": "TvYynQvlWSyY",
        "colab": {
          "base_uri": "https://localhost:8080/"
        },
        "outputId": "61c364f5-1b0a-4e44-9646-e3d752616d6e"
      },
      "source": [
        "best_epoch = (pd.DataFrame(history.history['val_accuracy']).shape[0] - 1)\r\n",
        "j= str(opt.__class__).split('.')[-1].replace('\\'', '').replace('>', '')\r\n",
        "# Scores achieved for the model\r\n",
        "validation_accuracy = pd.DataFrame(history.history['val_accuracy']).iloc[best_epoch,0]\r\n",
        "Train_accuracy = pd.DataFrame(history.history['accuracy']).iloc[best_epoch,0]\r\n",
        "validation_loss = pd.DataFrame(history.history['val_loss']).iloc[best_epoch,0]\r\n",
        "Train_loss = pd.DataFrame(history.history['loss']).iloc[best_epoch,0]\r\n",
        "print('With',best_epoch,'epocs and using' , j , 'optimizer we get below results')\r\n",
        "print('Training Accuracy: %.2f and loss: %.2f' %(Train_accuracy*100, Train_loss)  )\r\n",
        "print('Validation Accuracy: %.2f and loss :%.2f' %(validation_accuracy*100, validation_loss))\r\n",
        "loss,accuracy  = model.evaluate(X_test, y_test, verbose=False)\r\n",
        "print('Model accuracy : %.2f and loss :%.2f' %(accuracy*100, loss))"
      ],
      "execution_count": 33,
      "outputs": [
        {
          "output_type": "stream",
          "text": [
            "With 10 epocs and using Adam optimizer we get below results\n",
            "Training Accuracy: 84.80 and loss: 0.48\n",
            "Validation Accuracy: 69.50 and loss :0.95\n",
            "Model accuracy : 69.47 and loss :0.98\n"
          ],
          "name": "stdout"
        }
      ]
    },
    {
      "cell_type": "code",
      "metadata": {
        "colab": {
          "base_uri": "https://localhost:8080/",
          "height": 111
        },
        "id": "yRpKmWtB78ms",
        "outputId": "b40549a0-a302-4a74-e598-385002667c45"
      },
      "source": [
        "new_row = {'optimizer': j ,'Learning_Rate':lrr,'Epochs':best_epoch, 'Training_Accuracy': np.round((Train_accuracy*100),2) ,'Training_Loss':Train_loss,'Validation_Accuracy':np.round((validation_accuracy*100),2),'Validation_Loss':validation_loss,'Testing_Accuracy':np.round((accuracy*100),2),'Testing_Loss':loss}\r\n",
        "tab = tab.append(new_row, ignore_index=True)\r\n",
        "tab"
      ],
      "execution_count": 34,
      "outputs": [
        {
          "output_type": "execute_result",
          "data": {
            "text/html": [
              "<div>\n",
              "<style scoped>\n",
              "    .dataframe tbody tr th:only-of-type {\n",
              "        vertical-align: middle;\n",
              "    }\n",
              "\n",
              "    .dataframe tbody tr th {\n",
              "        vertical-align: top;\n",
              "    }\n",
              "\n",
              "    .dataframe thead th {\n",
              "        text-align: right;\n",
              "    }\n",
              "</style>\n",
              "<table border=\"1\" class=\"dataframe\">\n",
              "  <thead>\n",
              "    <tr style=\"text-align: right;\">\n",
              "      <th></th>\n",
              "      <th>optimizer</th>\n",
              "      <th>Learning_Rate</th>\n",
              "      <th>Epochs</th>\n",
              "      <th>Training_Accuracy</th>\n",
              "      <th>Training_Loss</th>\n",
              "      <th>Validation_Accuracy</th>\n",
              "      <th>Validation_Loss</th>\n",
              "      <th>Testing_Accuracy</th>\n",
              "      <th>Testing_Loss</th>\n",
              "    </tr>\n",
              "  </thead>\n",
              "  <tbody>\n",
              "    <tr>\n",
              "      <th>0</th>\n",
              "      <td>Adam</td>\n",
              "      <td>0.0005</td>\n",
              "      <td>10</td>\n",
              "      <td>85.15</td>\n",
              "      <td>0.466290</td>\n",
              "      <td>74.21</td>\n",
              "      <td>0.808434</td>\n",
              "      <td>73.67</td>\n",
              "      <td>0.843503</td>\n",
              "    </tr>\n",
              "    <tr>\n",
              "      <th>1</th>\n",
              "      <td>Adam</td>\n",
              "      <td>0.0010</td>\n",
              "      <td>10</td>\n",
              "      <td>84.80</td>\n",
              "      <td>0.475845</td>\n",
              "      <td>69.50</td>\n",
              "      <td>0.951094</td>\n",
              "      <td>69.47</td>\n",
              "      <td>0.980534</td>\n",
              "    </tr>\n",
              "  </tbody>\n",
              "</table>\n",
              "</div>"
            ],
            "text/plain": [
              "  optimizer  Learning_Rate  ... Testing_Accuracy  Testing_Loss\n",
              "0      Adam         0.0005  ...            73.67      0.843503\n",
              "1      Adam         0.0010  ...            69.47      0.980534\n",
              "\n",
              "[2 rows x 9 columns]"
            ]
          },
          "metadata": {
            "tags": []
          },
          "execution_count": 34
        }
      ]
    },
    {
      "cell_type": "markdown",
      "metadata": {
        "id": "-vUq1wY2Jxf0"
      },
      "source": [
        "#### With learning rate 0.05 and Adagrad Algorithm:"
      ]
    },
    {
      "cell_type": "code",
      "metadata": {
        "colab": {
          "base_uri": "https://localhost:8080/"
        },
        "id": "uTEmg3ORC8Ri",
        "outputId": "4692587e-f992-4e7c-ce59-e4a851c0952e"
      },
      "source": [
        "n_epochs = 100\r\n",
        "batch_size = 64\r\n",
        "es = EarlyStopping(monitor='val_loss', mode='min', verbose=1, patience=10)\r\n",
        "lrr = 0.05\r\n",
        "#adam = tf.keras.optimizers.Adam(lr=lrr)\r\n",
        "adag = tf.keras.optimizers.Adagrad(lr=lrr, initial_accumulator_value=0.1, epsilon=1e-07)\r\n",
        "opt = adag\r\n",
        "j = str(opt.__class__).split('.')[-1].replace('\\'', '').replace('>', '')\r\n",
        "print('Optimizer:', j , '\\n' )\r\n",
        "model = Build_Model()\r\n",
        "model.summary()\r\n",
        "model.compile(optimizer= opt, loss ='categorical_crossentropy', metrics =['accuracy'])\r\n",
        "history = model.fit(X_train, y_train, batch_size=batch_size, epochs=n_epochs, validation_split=0.1, callbacks = [es], verbose=True) #train the model"
      ],
      "execution_count": 35,
      "outputs": [
        {
          "output_type": "stream",
          "text": [
            "Optimizer: Adagrad \n",
            "\n",
            "Model: \"sequential_5\"\n",
            "_________________________________________________________________\n",
            "Layer (type)                 Output Shape              Param #   \n",
            "=================================================================\n",
            "dense_35 (Dense)             (None, 1024)              1049600   \n",
            "_________________________________________________________________\n",
            "batch_normalization_30 (Batc (None, 1024)              4096      \n",
            "_________________________________________________________________\n",
            "activation_30 (Activation)   (None, 1024)              0         \n",
            "_________________________________________________________________\n",
            "dense_36 (Dense)             (None, 512)               524800    \n",
            "_________________________________________________________________\n",
            "batch_normalization_31 (Batc (None, 512)               2048      \n",
            "_________________________________________________________________\n",
            "activation_31 (Activation)   (None, 512)               0         \n",
            "_________________________________________________________________\n",
            "dense_37 (Dense)             (None, 256)               131328    \n",
            "_________________________________________________________________\n",
            "batch_normalization_32 (Batc (None, 256)               1024      \n",
            "_________________________________________________________________\n",
            "activation_32 (Activation)   (None, 256)               0         \n",
            "_________________________________________________________________\n",
            "dense_38 (Dense)             (None, 128)               32896     \n",
            "_________________________________________________________________\n",
            "batch_normalization_33 (Batc (None, 128)               512       \n",
            "_________________________________________________________________\n",
            "activation_33 (Activation)   (None, 128)               0         \n",
            "_________________________________________________________________\n",
            "dense_39 (Dense)             (None, 64)                8256      \n",
            "_________________________________________________________________\n",
            "batch_normalization_34 (Batc (None, 64)                256       \n",
            "_________________________________________________________________\n",
            "activation_34 (Activation)   (None, 64)                0         \n",
            "_________________________________________________________________\n",
            "dense_40 (Dense)             (None, 32)                2080      \n",
            "_________________________________________________________________\n",
            "batch_normalization_35 (Batc (None, 32)                128       \n",
            "_________________________________________________________________\n",
            "activation_35 (Activation)   (None, 32)                0         \n",
            "_________________________________________________________________\n",
            "dense_41 (Dense)             (None, 10)                330       \n",
            "=================================================================\n",
            "Total params: 1,757,354\n",
            "Trainable params: 1,753,322\n",
            "Non-trainable params: 4,032\n",
            "_________________________________________________________________\n",
            "Epoch 1/100\n",
            "591/591 [==============================] - 14s 21ms/step - loss: 1.6981 - accuracy: 0.4068 - val_loss: 1.6350 - val_accuracy: 0.4626\n",
            "Epoch 2/100\n",
            "591/591 [==============================] - 12s 20ms/step - loss: 0.9571 - accuracy: 0.6924 - val_loss: 1.7199 - val_accuracy: 0.4195\n",
            "Epoch 3/100\n",
            "591/591 [==============================] - 12s 20ms/step - loss: 0.7936 - accuracy: 0.7470 - val_loss: 1.2319 - val_accuracy: 0.5783\n",
            "Epoch 4/100\n",
            "591/591 [==============================] - 12s 20ms/step - loss: 0.6918 - accuracy: 0.7799 - val_loss: 1.5623 - val_accuracy: 0.5088\n",
            "Epoch 5/100\n",
            "591/591 [==============================] - 12s 20ms/step - loss: 0.6233 - accuracy: 0.8000 - val_loss: 1.1509 - val_accuracy: 0.6257\n",
            "Epoch 6/100\n",
            "591/591 [==============================] - 12s 21ms/step - loss: 0.5710 - accuracy: 0.8178 - val_loss: 1.1388 - val_accuracy: 0.6183\n",
            "Epoch 7/100\n",
            "591/591 [==============================] - 12s 21ms/step - loss: 0.5035 - accuracy: 0.8380 - val_loss: 0.9438 - val_accuracy: 0.6988\n",
            "Epoch 8/100\n",
            "591/591 [==============================] - 12s 21ms/step - loss: 0.4770 - accuracy: 0.8488 - val_loss: 1.1642 - val_accuracy: 0.6276\n",
            "Epoch 9/100\n",
            "591/591 [==============================] - 12s 21ms/step - loss: 0.4383 - accuracy: 0.8591 - val_loss: 1.1222 - val_accuracy: 0.6429\n",
            "Epoch 10/100\n",
            "591/591 [==============================] - 12s 21ms/step - loss: 0.4304 - accuracy: 0.8612 - val_loss: 0.9116 - val_accuracy: 0.7245\n",
            "Epoch 11/100\n",
            "591/591 [==============================] - 12s 21ms/step - loss: 0.3932 - accuracy: 0.8776 - val_loss: 0.9809 - val_accuracy: 0.6948\n",
            "Epoch 12/100\n",
            "591/591 [==============================] - 12s 21ms/step - loss: 0.3574 - accuracy: 0.8852 - val_loss: 1.1276 - val_accuracy: 0.6464\n",
            "Epoch 13/100\n",
            "591/591 [==============================] - 12s 21ms/step - loss: 0.3371 - accuracy: 0.8936 - val_loss: 0.9016 - val_accuracy: 0.7283\n",
            "Epoch 14/100\n",
            "591/591 [==============================] - 12s 20ms/step - loss: 0.3228 - accuracy: 0.8954 - val_loss: 0.7751 - val_accuracy: 0.7500\n",
            "Epoch 15/100\n",
            "591/591 [==============================] - 12s 21ms/step - loss: 0.3175 - accuracy: 0.8986 - val_loss: 0.8845 - val_accuracy: 0.7243\n",
            "Epoch 16/100\n",
            "591/591 [==============================] - 12s 21ms/step - loss: 0.2995 - accuracy: 0.9042 - val_loss: 0.8419 - val_accuracy: 0.7419\n",
            "Epoch 17/100\n",
            "591/591 [==============================] - 12s 21ms/step - loss: 0.2809 - accuracy: 0.9105 - val_loss: 0.9521 - val_accuracy: 0.7207\n",
            "Epoch 18/100\n",
            "591/591 [==============================] - 12s 21ms/step - loss: 0.2641 - accuracy: 0.9168 - val_loss: 0.8575 - val_accuracy: 0.7421\n",
            "Epoch 19/100\n",
            "591/591 [==============================] - 12s 21ms/step - loss: 0.2528 - accuracy: 0.9165 - val_loss: 0.8395 - val_accuracy: 0.7521\n",
            "Epoch 20/100\n",
            "591/591 [==============================] - 12s 21ms/step - loss: 0.2297 - accuracy: 0.9250 - val_loss: 0.7133 - val_accuracy: 0.7864\n",
            "Epoch 21/100\n",
            "591/591 [==============================] - 12s 21ms/step - loss: 0.2248 - accuracy: 0.9273 - val_loss: 0.8501 - val_accuracy: 0.7602\n",
            "Epoch 22/100\n",
            "591/591 [==============================] - 15s 26ms/step - loss: 0.2166 - accuracy: 0.9324 - val_loss: 0.9174 - val_accuracy: 0.7469\n",
            "Epoch 23/100\n",
            "591/591 [==============================] - 16s 26ms/step - loss: 0.2068 - accuracy: 0.9325 - val_loss: 0.7670 - val_accuracy: 0.7767\n",
            "Epoch 24/100\n",
            "591/591 [==============================] - 16s 26ms/step - loss: 0.2056 - accuracy: 0.9337 - val_loss: 1.2874 - val_accuracy: 0.6976\n",
            "Epoch 25/100\n",
            "591/591 [==============================] - 14s 24ms/step - loss: 0.1782 - accuracy: 0.9413 - val_loss: 0.8470 - val_accuracy: 0.7624\n",
            "Epoch 26/100\n",
            "591/591 [==============================] - 13s 23ms/step - loss: 0.1760 - accuracy: 0.9429 - val_loss: 1.3187 - val_accuracy: 0.6807\n",
            "Epoch 27/100\n",
            "591/591 [==============================] - 13s 23ms/step - loss: 0.1767 - accuracy: 0.9433 - val_loss: 1.0313 - val_accuracy: 0.7274\n",
            "Epoch 28/100\n",
            "591/591 [==============================] - 14s 23ms/step - loss: 0.1635 - accuracy: 0.9474 - val_loss: 1.6096 - val_accuracy: 0.6129\n",
            "Epoch 29/100\n",
            "591/591 [==============================] - 14s 24ms/step - loss: 0.1640 - accuracy: 0.9476 - val_loss: 0.9507 - val_accuracy: 0.7562\n",
            "Epoch 30/100\n",
            "591/591 [==============================] - 14s 23ms/step - loss: 0.1631 - accuracy: 0.9459 - val_loss: 0.9074 - val_accuracy: 0.7688\n",
            "Epoch 00030: early stopping\n"
          ],
          "name": "stdout"
        }
      ]
    },
    {
      "cell_type": "code",
      "metadata": {
        "colab": {
          "base_uri": "https://localhost:8080/"
        },
        "id": "oDMyYbiwEWQX",
        "outputId": "84cff413-b614-4318-c184-b16206cc541e"
      },
      "source": [
        "best_epoch = (pd.DataFrame(history.history['val_accuracy']).shape[0] - 1)\r\n",
        "j= str(opt.__class__).split('.')[-1].replace('\\'', '').replace('>', '')\r\n",
        "# Scores achieved for the model\r\n",
        "validation_accuracy = pd.DataFrame(history.history['val_accuracy']).iloc[best_epoch,0]\r\n",
        "Train_accuracy = pd.DataFrame(history.history['accuracy']).iloc[best_epoch,0]\r\n",
        "validation_loss = pd.DataFrame(history.history['val_loss']).iloc[best_epoch,0]\r\n",
        "Train_loss = pd.DataFrame(history.history['loss']).iloc[best_epoch,0]\r\n",
        "print('With',best_epoch,'epocs and using' , j , 'optimizer we get below results')\r\n",
        "print('Training Accuracy: %.2f and loss: %.2f' %(Train_accuracy*100, Train_loss)  )\r\n",
        "print('Validation Accuracy: %.2f and loss :%.2f' %(validation_accuracy*100, validation_loss))\r\n",
        "loss,accuracy  = model.evaluate(X_test, y_test, verbose=False)\r\n",
        "print('Model accuracy : %.2f and loss :%.2f' %(accuracy*100, loss))"
      ],
      "execution_count": 36,
      "outputs": [
        {
          "output_type": "stream",
          "text": [
            "With 29 epocs and using Adagrad optimizer we get below results\n",
            "Training Accuracy: 94.53 and loss: 0.17\n",
            "Validation Accuracy: 76.88 and loss :0.91\n",
            "Model accuracy : 77.04 and loss :0.91\n"
          ],
          "name": "stdout"
        }
      ]
    },
    {
      "cell_type": "code",
      "metadata": {
        "colab": {
          "base_uri": "https://localhost:8080/",
          "height": 142
        },
        "id": "EY_hPVab98yK",
        "outputId": "65d48131-5efa-4ede-c869-741a4b78261d"
      },
      "source": [
        "new_row = {'optimizer': j ,'Learning_Rate':lrr,'Epochs':best_epoch, 'Training_Accuracy': np.round((Train_accuracy*100),2) ,'Training_Loss':Train_loss,'Validation_Accuracy':np.round((validation_accuracy*100),2),'Validation_Loss':validation_loss,'Testing_Accuracy':np.round((accuracy*100),2),'Testing_Loss':loss}\r\n",
        "tab = tab.append(new_row, ignore_index=True)\r\n",
        "tab"
      ],
      "execution_count": 37,
      "outputs": [
        {
          "output_type": "execute_result",
          "data": {
            "text/html": [
              "<div>\n",
              "<style scoped>\n",
              "    .dataframe tbody tr th:only-of-type {\n",
              "        vertical-align: middle;\n",
              "    }\n",
              "\n",
              "    .dataframe tbody tr th {\n",
              "        vertical-align: top;\n",
              "    }\n",
              "\n",
              "    .dataframe thead th {\n",
              "        text-align: right;\n",
              "    }\n",
              "</style>\n",
              "<table border=\"1\" class=\"dataframe\">\n",
              "  <thead>\n",
              "    <tr style=\"text-align: right;\">\n",
              "      <th></th>\n",
              "      <th>optimizer</th>\n",
              "      <th>Learning_Rate</th>\n",
              "      <th>Epochs</th>\n",
              "      <th>Training_Accuracy</th>\n",
              "      <th>Training_Loss</th>\n",
              "      <th>Validation_Accuracy</th>\n",
              "      <th>Validation_Loss</th>\n",
              "      <th>Testing_Accuracy</th>\n",
              "      <th>Testing_Loss</th>\n",
              "    </tr>\n",
              "  </thead>\n",
              "  <tbody>\n",
              "    <tr>\n",
              "      <th>0</th>\n",
              "      <td>Adam</td>\n",
              "      <td>0.0005</td>\n",
              "      <td>10</td>\n",
              "      <td>85.15</td>\n",
              "      <td>0.466290</td>\n",
              "      <td>74.21</td>\n",
              "      <td>0.808434</td>\n",
              "      <td>73.67</td>\n",
              "      <td>0.843503</td>\n",
              "    </tr>\n",
              "    <tr>\n",
              "      <th>1</th>\n",
              "      <td>Adam</td>\n",
              "      <td>0.0010</td>\n",
              "      <td>10</td>\n",
              "      <td>84.80</td>\n",
              "      <td>0.475845</td>\n",
              "      <td>69.50</td>\n",
              "      <td>0.951094</td>\n",
              "      <td>69.47</td>\n",
              "      <td>0.980534</td>\n",
              "    </tr>\n",
              "    <tr>\n",
              "      <th>2</th>\n",
              "      <td>Adagrad</td>\n",
              "      <td>0.0500</td>\n",
              "      <td>29</td>\n",
              "      <td>94.53</td>\n",
              "      <td>0.165234</td>\n",
              "      <td>76.88</td>\n",
              "      <td>0.907355</td>\n",
              "      <td>77.04</td>\n",
              "      <td>0.906456</td>\n",
              "    </tr>\n",
              "  </tbody>\n",
              "</table>\n",
              "</div>"
            ],
            "text/plain": [
              "  optimizer  Learning_Rate  ... Testing_Accuracy  Testing_Loss\n",
              "0      Adam         0.0005  ...            73.67      0.843503\n",
              "1      Adam         0.0010  ...            69.47      0.980534\n",
              "2   Adagrad         0.0500  ...            77.04      0.906456\n",
              "\n",
              "[3 rows x 9 columns]"
            ]
          },
          "metadata": {
            "tags": []
          },
          "execution_count": 37
        }
      ]
    },
    {
      "cell_type": "markdown",
      "metadata": {
        "id": "o6fe7mc4J5CJ"
      },
      "source": [
        "#### With learning rate 0.005 and Adagrad Algorithm:"
      ]
    },
    {
      "cell_type": "code",
      "metadata": {
        "colab": {
          "base_uri": "https://localhost:8080/"
        },
        "id": "S4Hlx2zzALwO",
        "outputId": "1b9fab0b-eb63-419d-ce22-004d1211df78"
      },
      "source": [
        "n_epochs = 100\r\n",
        "batch_size = 64\r\n",
        "es = EarlyStopping(monitor='val_loss', mode='min', verbose=1, patience=10)\r\n",
        "lrr = 0.005\r\n",
        "#adam = tf.keras.optimizers.Adam(lr=lrr)\r\n",
        "adag = tf.keras.optimizers.Adagrad(lr=lrr, initial_accumulator_value=0.1, epsilon=1e-07)\r\n",
        "opt = adag\r\n",
        "j = str(opt.__class__).split('.')[-1].replace('\\'', '').replace('>', '')\r\n",
        "print('Optimizer:', j , '\\n' )\r\n",
        "model = Build_Model()\r\n",
        "model.summary()\r\n",
        "model.compile(optimizer= opt, loss ='categorical_crossentropy', metrics =['accuracy'])\r\n",
        "history = model.fit(X_train, y_train, batch_size=batch_size, epochs=n_epochs, validation_split=0.1, callbacks = [es], verbose=True) #train the model"
      ],
      "execution_count": 38,
      "outputs": [
        {
          "output_type": "stream",
          "text": [
            "Optimizer: Adagrad \n",
            "\n",
            "Model: \"sequential_6\"\n",
            "_________________________________________________________________\n",
            "Layer (type)                 Output Shape              Param #   \n",
            "=================================================================\n",
            "dense_42 (Dense)             (None, 1024)              1049600   \n",
            "_________________________________________________________________\n",
            "batch_normalization_36 (Batc (None, 1024)              4096      \n",
            "_________________________________________________________________\n",
            "activation_36 (Activation)   (None, 1024)              0         \n",
            "_________________________________________________________________\n",
            "dense_43 (Dense)             (None, 512)               524800    \n",
            "_________________________________________________________________\n",
            "batch_normalization_37 (Batc (None, 512)               2048      \n",
            "_________________________________________________________________\n",
            "activation_37 (Activation)   (None, 512)               0         \n",
            "_________________________________________________________________\n",
            "dense_44 (Dense)             (None, 256)               131328    \n",
            "_________________________________________________________________\n",
            "batch_normalization_38 (Batc (None, 256)               1024      \n",
            "_________________________________________________________________\n",
            "activation_38 (Activation)   (None, 256)               0         \n",
            "_________________________________________________________________\n",
            "dense_45 (Dense)             (None, 128)               32896     \n",
            "_________________________________________________________________\n",
            "batch_normalization_39 (Batc (None, 128)               512       \n",
            "_________________________________________________________________\n",
            "activation_39 (Activation)   (None, 128)               0         \n",
            "_________________________________________________________________\n",
            "dense_46 (Dense)             (None, 64)                8256      \n",
            "_________________________________________________________________\n",
            "batch_normalization_40 (Batc (None, 64)                256       \n",
            "_________________________________________________________________\n",
            "activation_40 (Activation)   (None, 64)                0         \n",
            "_________________________________________________________________\n",
            "dense_47 (Dense)             (None, 32)                2080      \n",
            "_________________________________________________________________\n",
            "batch_normalization_41 (Batc (None, 32)                128       \n",
            "_________________________________________________________________\n",
            "activation_41 (Activation)   (None, 32)                0         \n",
            "_________________________________________________________________\n",
            "dense_48 (Dense)             (None, 10)                330       \n",
            "=================================================================\n",
            "Total params: 1,757,354\n",
            "Trainable params: 1,753,322\n",
            "Non-trainable params: 4,032\n",
            "_________________________________________________________________\n",
            "Epoch 1/100\n",
            "591/591 [==============================] - 14s 22ms/step - loss: 2.1426 - accuracy: 0.2533 - val_loss: 1.6002 - val_accuracy: 0.4948\n",
            "Epoch 2/100\n",
            "591/591 [==============================] - 12s 21ms/step - loss: 1.3552 - accuracy: 0.5894 - val_loss: 1.2586 - val_accuracy: 0.6133\n",
            "Epoch 3/100\n",
            "591/591 [==============================] - 12s 21ms/step - loss: 1.0743 - accuracy: 0.6777 - val_loss: 1.2319 - val_accuracy: 0.6233\n",
            "Epoch 4/100\n",
            "591/591 [==============================] - 12s 21ms/step - loss: 0.9219 - accuracy: 0.7195 - val_loss: 1.0411 - val_accuracy: 0.6764\n",
            "Epoch 5/100\n",
            "591/591 [==============================] - 12s 21ms/step - loss: 0.8090 - accuracy: 0.7553 - val_loss: 0.9576 - val_accuracy: 0.7033\n",
            "Epoch 6/100\n",
            "591/591 [==============================] - 12s 21ms/step - loss: 0.7374 - accuracy: 0.7774 - val_loss: 0.9051 - val_accuracy: 0.7226\n",
            "Epoch 7/100\n",
            "591/591 [==============================] - 13s 22ms/step - loss: 0.6649 - accuracy: 0.7989 - val_loss: 0.9029 - val_accuracy: 0.7102\n",
            "Epoch 8/100\n",
            "591/591 [==============================] - 12s 21ms/step - loss: 0.6144 - accuracy: 0.8175 - val_loss: 0.8694 - val_accuracy: 0.7276\n",
            "Epoch 9/100\n",
            "591/591 [==============================] - 12s 21ms/step - loss: 0.5866 - accuracy: 0.8183 - val_loss: 0.9133 - val_accuracy: 0.7052\n",
            "Epoch 10/100\n",
            "591/591 [==============================] - 12s 21ms/step - loss: 0.5238 - accuracy: 0.8416 - val_loss: 0.9451 - val_accuracy: 0.7055\n",
            "Epoch 11/100\n",
            "591/591 [==============================] - 12s 21ms/step - loss: 0.5015 - accuracy: 0.8476 - val_loss: 0.8458 - val_accuracy: 0.7367\n",
            "Epoch 12/100\n",
            "591/591 [==============================] - 12s 21ms/step - loss: 0.4681 - accuracy: 0.8574 - val_loss: 0.8292 - val_accuracy: 0.7414\n",
            "Epoch 13/100\n",
            "591/591 [==============================] - 12s 21ms/step - loss: 0.4522 - accuracy: 0.8646 - val_loss: 0.9435 - val_accuracy: 0.7114\n",
            "Epoch 14/100\n",
            "591/591 [==============================] - 12s 21ms/step - loss: 0.4144 - accuracy: 0.8749 - val_loss: 0.7881 - val_accuracy: 0.7510\n",
            "Epoch 15/100\n",
            "591/591 [==============================] - 12s 20ms/step - loss: 0.3909 - accuracy: 0.8841 - val_loss: 0.8157 - val_accuracy: 0.7445\n",
            "Epoch 16/100\n",
            "591/591 [==============================] - 12s 21ms/step - loss: 0.3735 - accuracy: 0.8897 - val_loss: 1.2344 - val_accuracy: 0.6493\n",
            "Epoch 17/100\n",
            "591/591 [==============================] - 12s 21ms/step - loss: 0.3543 - accuracy: 0.8935 - val_loss: 0.8310 - val_accuracy: 0.7481\n",
            "Epoch 18/100\n",
            "591/591 [==============================] - 13s 21ms/step - loss: 0.3292 - accuracy: 0.9049 - val_loss: 0.7630 - val_accuracy: 0.7764\n",
            "Epoch 19/100\n",
            "591/591 [==============================] - 12s 21ms/step - loss: 0.3298 - accuracy: 0.9010 - val_loss: 0.9609 - val_accuracy: 0.7267\n",
            "Epoch 20/100\n",
            "591/591 [==============================] - 12s 21ms/step - loss: 0.3108 - accuracy: 0.9083 - val_loss: 0.8426 - val_accuracy: 0.7431\n",
            "Epoch 21/100\n",
            "591/591 [==============================] - 12s 21ms/step - loss: 0.2896 - accuracy: 0.9129 - val_loss: 0.8164 - val_accuracy: 0.7560\n",
            "Epoch 22/100\n",
            "591/591 [==============================] - 12s 21ms/step - loss: 0.2790 - accuracy: 0.9172 - val_loss: 0.7803 - val_accuracy: 0.7619\n",
            "Epoch 23/100\n",
            "591/591 [==============================] - 12s 21ms/step - loss: 0.2715 - accuracy: 0.9198 - val_loss: 0.7797 - val_accuracy: 0.7740\n",
            "Epoch 24/100\n",
            "591/591 [==============================] - 12s 21ms/step - loss: 0.2556 - accuracy: 0.9252 - val_loss: 0.7370 - val_accuracy: 0.7769\n",
            "Epoch 25/100\n",
            "591/591 [==============================] - 12s 21ms/step - loss: 0.2413 - accuracy: 0.9281 - val_loss: 0.9050 - val_accuracy: 0.7431\n",
            "Epoch 26/100\n",
            "591/591 [==============================] - 12s 21ms/step - loss: 0.2357 - accuracy: 0.9297 - val_loss: 0.8441 - val_accuracy: 0.7488\n",
            "Epoch 27/100\n",
            "591/591 [==============================] - 12s 21ms/step - loss: 0.2199 - accuracy: 0.9342 - val_loss: 0.8639 - val_accuracy: 0.7450\n",
            "Epoch 28/100\n",
            "591/591 [==============================] - 12s 21ms/step - loss: 0.2207 - accuracy: 0.9358 - val_loss: 0.8025 - val_accuracy: 0.7626\n",
            "Epoch 29/100\n",
            "591/591 [==============================] - 12s 21ms/step - loss: 0.2008 - accuracy: 0.9425 - val_loss: 0.8354 - val_accuracy: 0.7624\n",
            "Epoch 30/100\n",
            "591/591 [==============================] - 12s 21ms/step - loss: 0.2023 - accuracy: 0.9414 - val_loss: 0.7212 - val_accuracy: 0.7883\n",
            "Epoch 31/100\n",
            "591/591 [==============================] - 12s 21ms/step - loss: 0.1928 - accuracy: 0.9435 - val_loss: 0.8419 - val_accuracy: 0.7610\n",
            "Epoch 32/100\n",
            "591/591 [==============================] - 13s 21ms/step - loss: 0.1933 - accuracy: 0.9452 - val_loss: 0.7556 - val_accuracy: 0.7755\n",
            "Epoch 33/100\n",
            "591/591 [==============================] - 13s 22ms/step - loss: 0.1789 - accuracy: 0.9485 - val_loss: 0.8412 - val_accuracy: 0.7631\n",
            "Epoch 34/100\n",
            "591/591 [==============================] - 13s 21ms/step - loss: 0.1707 - accuracy: 0.9513 - val_loss: 0.8680 - val_accuracy: 0.7624\n",
            "Epoch 35/100\n",
            "591/591 [==============================] - 12s 21ms/step - loss: 0.1687 - accuracy: 0.9499 - val_loss: 0.8162 - val_accuracy: 0.7721\n",
            "Epoch 36/100\n",
            "591/591 [==============================] - 12s 21ms/step - loss: 0.1627 - accuracy: 0.9544 - val_loss: 0.8134 - val_accuracy: 0.7724\n",
            "Epoch 37/100\n",
            "591/591 [==============================] - 12s 21ms/step - loss: 0.1628 - accuracy: 0.9521 - val_loss: 0.8122 - val_accuracy: 0.7736\n",
            "Epoch 38/100\n",
            "591/591 [==============================] - 12s 21ms/step - loss: 0.1573 - accuracy: 0.9549 - val_loss: 0.7740 - val_accuracy: 0.7917\n",
            "Epoch 39/100\n",
            "591/591 [==============================] - 12s 21ms/step - loss: 0.1506 - accuracy: 0.9571 - val_loss: 0.7781 - val_accuracy: 0.7869\n",
            "Epoch 40/100\n",
            "591/591 [==============================] - 12s 21ms/step - loss: 0.1433 - accuracy: 0.9587 - val_loss: 0.8025 - val_accuracy: 0.7795\n",
            "Epoch 00040: early stopping\n"
          ],
          "name": "stdout"
        }
      ]
    },
    {
      "cell_type": "code",
      "metadata": {
        "colab": {
          "base_uri": "https://localhost:8080/"
        },
        "id": "bGAYuAYcAP9l",
        "outputId": "70099f34-51a6-426c-dac1-ae1da759022f"
      },
      "source": [
        "best_epoch = (pd.DataFrame(history.history['val_accuracy']).shape[0] - 1)\r\n",
        "j= str(opt.__class__).split('.')[-1].replace('\\'', '').replace('>', '')\r\n",
        "# Scores achieved for the model\r\n",
        "validation_accuracy = pd.DataFrame(history.history['val_accuracy']).iloc[best_epoch,0]\r\n",
        "Train_accuracy = pd.DataFrame(history.history['accuracy']).iloc[best_epoch,0]\r\n",
        "validation_loss = pd.DataFrame(history.history['val_loss']).iloc[best_epoch,0]\r\n",
        "Train_loss = pd.DataFrame(history.history['loss']).iloc[best_epoch,0]\r\n",
        "print('With',best_epoch,'epocs and using' , j , 'optimizer we get below results')\r\n",
        "print('Training Accuracy: %.2f and loss: %.2f' %(Train_accuracy*100, Train_loss)  )\r\n",
        "print('Validation Accuracy: %.2f and loss :%.2f' %(validation_accuracy*100, validation_loss))\r\n",
        "loss,accuracy  = model.evaluate(X_test, y_test, verbose=False)\r\n",
        "print('Model accuracy : %.2f and loss :%.2f' %(accuracy*100, loss))"
      ],
      "execution_count": 39,
      "outputs": [
        {
          "output_type": "stream",
          "text": [
            "With 39 epocs and using Adagrad optimizer we get below results\n",
            "Training Accuracy: 95.75 and loss: 0.15\n",
            "Validation Accuracy: 77.95 and loss :0.80\n",
            "Model accuracy : 77.62 and loss :0.82\n"
          ],
          "name": "stdout"
        }
      ]
    },
    {
      "cell_type": "code",
      "metadata": {
        "colab": {
          "base_uri": "https://localhost:8080/",
          "height": 173
        },
        "id": "JLUn6cALAV56",
        "outputId": "1f52a53b-d1e6-41f0-c17c-b22de35221f4"
      },
      "source": [
        "new_row = {'optimizer': j ,'Learning_Rate':lrr,'Epochs':best_epoch, 'Training_Accuracy': np.round((Train_accuracy*100),2) ,'Training_Loss':Train_loss,'Validation_Accuracy':np.round((validation_accuracy*100),2),'Validation_Loss':validation_loss,'Testing_Accuracy':np.round((accuracy*100),2),'Testing_Loss':loss}\r\n",
        "tab = tab.append(new_row, ignore_index=True)\r\n",
        "tab"
      ],
      "execution_count": 40,
      "outputs": [
        {
          "output_type": "execute_result",
          "data": {
            "text/html": [
              "<div>\n",
              "<style scoped>\n",
              "    .dataframe tbody tr th:only-of-type {\n",
              "        vertical-align: middle;\n",
              "    }\n",
              "\n",
              "    .dataframe tbody tr th {\n",
              "        vertical-align: top;\n",
              "    }\n",
              "\n",
              "    .dataframe thead th {\n",
              "        text-align: right;\n",
              "    }\n",
              "</style>\n",
              "<table border=\"1\" class=\"dataframe\">\n",
              "  <thead>\n",
              "    <tr style=\"text-align: right;\">\n",
              "      <th></th>\n",
              "      <th>optimizer</th>\n",
              "      <th>Learning_Rate</th>\n",
              "      <th>Epochs</th>\n",
              "      <th>Training_Accuracy</th>\n",
              "      <th>Training_Loss</th>\n",
              "      <th>Validation_Accuracy</th>\n",
              "      <th>Validation_Loss</th>\n",
              "      <th>Testing_Accuracy</th>\n",
              "      <th>Testing_Loss</th>\n",
              "    </tr>\n",
              "  </thead>\n",
              "  <tbody>\n",
              "    <tr>\n",
              "      <th>0</th>\n",
              "      <td>Adam</td>\n",
              "      <td>0.0005</td>\n",
              "      <td>10</td>\n",
              "      <td>85.15</td>\n",
              "      <td>0.466290</td>\n",
              "      <td>74.21</td>\n",
              "      <td>0.808434</td>\n",
              "      <td>73.67</td>\n",
              "      <td>0.843503</td>\n",
              "    </tr>\n",
              "    <tr>\n",
              "      <th>1</th>\n",
              "      <td>Adam</td>\n",
              "      <td>0.0010</td>\n",
              "      <td>10</td>\n",
              "      <td>84.80</td>\n",
              "      <td>0.475845</td>\n",
              "      <td>69.50</td>\n",
              "      <td>0.951094</td>\n",
              "      <td>69.47</td>\n",
              "      <td>0.980534</td>\n",
              "    </tr>\n",
              "    <tr>\n",
              "      <th>2</th>\n",
              "      <td>Adagrad</td>\n",
              "      <td>0.0500</td>\n",
              "      <td>29</td>\n",
              "      <td>94.53</td>\n",
              "      <td>0.165234</td>\n",
              "      <td>76.88</td>\n",
              "      <td>0.907355</td>\n",
              "      <td>77.04</td>\n",
              "      <td>0.906456</td>\n",
              "    </tr>\n",
              "    <tr>\n",
              "      <th>3</th>\n",
              "      <td>Adagrad</td>\n",
              "      <td>0.0050</td>\n",
              "      <td>39</td>\n",
              "      <td>95.75</td>\n",
              "      <td>0.146679</td>\n",
              "      <td>77.95</td>\n",
              "      <td>0.802457</td>\n",
              "      <td>77.62</td>\n",
              "      <td>0.818894</td>\n",
              "    </tr>\n",
              "  </tbody>\n",
              "</table>\n",
              "</div>"
            ],
            "text/plain": [
              "  optimizer  Learning_Rate  ... Testing_Accuracy  Testing_Loss\n",
              "0      Adam         0.0005  ...            73.67      0.843503\n",
              "1      Adam         0.0010  ...            69.47      0.980534\n",
              "2   Adagrad         0.0500  ...            77.04      0.906456\n",
              "3   Adagrad         0.0050  ...            77.62      0.818894\n",
              "\n",
              "[4 rows x 9 columns]"
            ]
          },
          "metadata": {
            "tags": []
          },
          "execution_count": 40
        }
      ]
    },
    {
      "cell_type": "markdown",
      "metadata": {
        "id": "U_hm8LTFTb9V"
      },
      "source": [
        "### 4. Plot the training loss, validation loss vs number of epochs and training accuracy, validation accuracy vs number of epochs plot and write your observations on the same."
      ]
    },
    {
      "cell_type": "code",
      "metadata": {
        "id": "jdUFP85uTgIg"
      },
      "source": [
        "def plot_accuracy(history):\r\n",
        "  plt.plot(history.history['accuracy'], label='training_accuracy')\r\n",
        "  plt.plot(history.history['val_accuracy'], label='validation_accuracy')\r\n",
        "  #plt.ylim([0, 10])\r\n",
        "  plt.xlabel('Epoch')\r\n",
        "  plt.ylabel('accuracy')\r\n",
        "  plt.legend(['training', 'validation'], loc='best')\r\n",
        "  plt.grid(True)\r\n",
        "\r\n",
        "def plot_loss(history):\r\n",
        "  plt.plot(history.history['loss'], label='training_loss')\r\n",
        "  plt.plot(history.history['val_loss'], label='validation_loss')\r\n",
        "  #plt.ylim([0, 10])\r\n",
        "  plt.xlabel('Epoch')\r\n",
        "  plt.ylabel('loss')\r\n",
        "  plt.legend(['training', 'validation'], loc='best')\r\n",
        "  plt.grid(True)"
      ],
      "execution_count": 41,
      "outputs": []
    },
    {
      "cell_type": "code",
      "metadata": {
        "id": "pQwVe4iunsMa",
        "colab": {
          "base_uri": "https://localhost:8080/",
          "height": 279
        },
        "outputId": "6f73a22f-259f-4a2f-83e9-8d61988a39ac"
      },
      "source": [
        "# Accuracy vs Epochs\r\n",
        "plot_accuracy(history)"
      ],
      "execution_count": 42,
      "outputs": [
        {
          "output_type": "display_data",
          "data": {
            "image/png": "[encoded data removed]",
            "text/plain": [
              "<Figure size 432x288 with 1 Axes>"
            ]
          },
          "metadata": {
            "tags": [],
            "needs_background": "light"
          }
        }
      ]
    },
    {
      "cell_type": "code",
      "metadata": {
        "id": "_OArWjghs7Xg",
        "colab": {
          "base_uri": "https://localhost:8080/",
          "height": 279
        },
        "outputId": "5c0f6bcd-211b-4d42-dd48-92d86d470252"
      },
      "source": [
        "# Loss vs Epochs\r\n",
        "plot_loss(history)"
      ],
      "execution_count": 43,
      "outputs": [
        {
          "output_type": "display_data",
          "data": {
            "image/png": "[encoded data removed]",
            "text/plain": [
              "<Figure size 432x288 with 1 Axes>"
            ]
          },
          "metadata": {
            "tags": [],
            "needs_background": "light"
          }
        }
      ]
    },
    {
      "cell_type": "markdown",
      "metadata": {
        "id": "YNYtBHPHokV0"
      },
      "source": [
        "### Summary"
      ]
    },
    {
      "cell_type": "markdown",
      "metadata": {
        "id": "Wa8TC_p5omkI"
      },
      "source": [
        "* In above model seven dense layers were used in the architecture. \r\n",
        "* To allow every layer to learn independently batch normalization was applied. Also using batch normalization learning becomes efficient and helps regularization to avoid overfitting of the model.\r\n",
        "* To use both ReLu activation and batch normalization, the activation was applied after batch normalization.\r\n",
        "* Later we tried to check with various optimizers with fixed learning rate and fixed no of epochs , which one can give best results. Here we found Adagrad and Adam algorithm to better results. The results were tabulated in 'opt_tab'.\r\n",
        "* Then with Adam algorithm , by modifying learning rate and early stopping (monitored Validation Loss) we found out the best results. Similiar we modified learning rate and epochs using Adagrad algorithm and tabulated the results in 'tab'\r\n",
        "* Observing the results we get best results with Adagrad algorithm with learning rate as 0.005.\r\n",
        "* We also observe that even with hyperparameters tuning we are able to improve training score however the score on validation and test data sets have not improved more than 80%. This is an indication that the model is getting overfitted.\r\n",
        "* Hence with dense neural network we cannot improve the results beyond a limit howmuch we try to adjust the hyperparameters. we get either under fit or over fit. The optimized model will give average results. \r\n",
        "* Even with dense neural network it is important we improve the input data or cleans the images before applying ANN. This is done in CNN which will provide betters results than ANN.\r\n"
      ]
    },
    {
      "cell_type": "markdown",
      "metadata": {
        "id": "krKszs1-YfqU"
      },
      "source": [
        "### Thank You!!"
      ]
    }
  ]
}