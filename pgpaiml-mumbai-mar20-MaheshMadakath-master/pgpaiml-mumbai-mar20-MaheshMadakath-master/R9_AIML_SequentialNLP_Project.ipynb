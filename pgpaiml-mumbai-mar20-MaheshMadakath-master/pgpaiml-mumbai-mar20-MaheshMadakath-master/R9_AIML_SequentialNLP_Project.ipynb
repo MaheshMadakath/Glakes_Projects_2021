{
  "nbformat": 4,
  "nbformat_minor": 0,
  "metadata": {
    "colab": {
      "name": "R9 AIML SequentialNLP Project.ipynb",
      "provenance": [],
      "collapsed_sections": [],
      "machine_shape": "hm"
    },
    "kernelspec": {
      "name": "python3",
      "display_name": "Python 3"
    },
    "language_info": {
      "name": "python"
    },
    "accelerator": "GPU"
  },
  "cells": [
    {
      "cell_type": "markdown",
      "metadata": {
        "id": "nheDQ7EGbZZl"
      },
      "source": [
        "### R9 AIML Sequential NLP Project\n",
        "#### Domain - Digital content and entertainment industry.\n",
        "#### Project - Build Text Classification model and do sentiment analysis on customer review."
      ]
    },
    {
      "cell_type": "markdown",
      "metadata": {
        "id": "19jiUwcBb_xC"
      },
      "source": [
        "#### Project Objective: Build a sequential NLP classifier which can use input text parameters to determine the customer sentiments."
      ]
    },
    {
      "cell_type": "markdown",
      "metadata": {
        "id": "W_6hxM34hAFh"
      },
      "source": [
        "DATA DESCRIPTION: The Dataset of 50,000 movie reviews from IMDB, labelled by\n",
        "sentiment (positive/negative). Reviews have been preprocessed, and each review is\n",
        "encoded as a sequence of word indexes (integers). For convenience, the words are\n",
        "indexed by their frequency in the dataset, meaning the for that has index 1 is the\n",
        "most frequent word. Use the first 20 words from each review to speed up training,\n",
        "using a max vocabulary size of 10,000. As a convention, \"0\" does not stand for a\n",
        "specific word, but instead is used to encode any unknown word."
      ]
    },
    {
      "cell_type": "code",
      "metadata": {
        "id": "unM5vHeDhJo_"
      },
      "source": [
        "#Import libraries\n",
        "import os\n",
        "%matplotlib inline\n",
        "import matplotlib.pyplot as plt # Data Visualization\n",
        "import pandas as pd # Data processing\n",
        "import seaborn as sns # Data Visualization\n",
        "import numpy as np # Linear Algebra\n",
        "import tensorflow as tf #Tensor Flow\n",
        "from sklearn import preprocessing #preprocessing libraries from sklearn\n",
        "\n",
        "# Ignore the warnings\n",
        "import warnings\n",
        "warnings.filterwarnings(\"ignore\")\n",
        "\n",
        "#Import libraries for this project\n",
        "from keras.preprocessing import sequence\n",
        "from keras.models import Sequential\n",
        "from keras.layers import Dense, Embedding\n",
        "from keras.layers import LSTM\n",
        "from keras.datasets import imdb\n"
      ],
      "execution_count": 1,
      "outputs": []
    },
    {
      "cell_type": "markdown",
      "metadata": {
        "id": "UGanGIKsC3qF"
      },
      "source": [
        "* STEP1. Import and analyse the data set.\n",
        "  - Get train and test set\n",
        "  - Take 10000 most frequent words"
      ]
    },
    {
      "cell_type": "code",
      "metadata": {
        "id": "DjHO_jukkuFF"
      },
      "source": [
        "max_features = 10000 # Size of vocabulary to be considered in the problem is 10000\n",
        "# loading imdb data from keras\n",
        "(x_train, y_train), (x_test, y_test) = imdb.load_data(num_words=max_features)"
      ],
      "execution_count": 2,
      "outputs": []
    },
    {
      "cell_type": "code",
      "metadata": {
        "colab": {
          "base_uri": "https://localhost:8080/"
        },
        "id": "ASSDop2Kk_6u",
        "outputId": "042aa19c-7e21-4d3f-a03d-6e4659f68b81"
      },
      "source": [
        "print(len(x_train), 'train sequences')\n",
        "print(len(x_test), 'test sequences')"
      ],
      "execution_count": 3,
      "outputs": [
        {
          "output_type": "stream",
          "text": [
            "25000 train sequences\n",
            "25000 test sequences\n"
          ],
          "name": "stdout"
        }
      ]
    },
    {
      "cell_type": "code",
      "metadata": {
        "colab": {
          "base_uri": "https://localhost:8080/"
        },
        "id": "K0YgsxG8rzNM",
        "outputId": "7226604f-62bb-4315-8bb0-ef4194bc82f0"
      },
      "source": [
        "print('print sample feature data')\n",
        "print(x_train[0:3])\n",
        "\n",
        "print('\\nprint sample label data')\n",
        "print(y_train[0:3])"
      ],
      "execution_count": 4,
      "outputs": [
        {
          "output_type": "stream",
          "text": [
            "print sample feature data\n",
            "[list([1, 14, 22, 16, 43, 530, 973, 1622, 1385, 65, 458, 4468, 66, 3941, 4, 173, 36, 256, 5, 25, 100, 43, 838, 112, 50, 670, 2, 9, 35, 480, 284, 5, 150, 4, 172, 112, 167, 2, 336, 385, 39, 4, 172, 4536, 1111, 17, 546, 38, 13, 447, 4, 192, 50, 16, 6, 147, 2025, 19, 14, 22, 4, 1920, 4613, 469, 4, 22, 71, 87, 12, 16, 43, 530, 38, 76, 15, 13, 1247, 4, 22, 17, 515, 17, 12, 16, 626, 18, 2, 5, 62, 386, 12, 8, 316, 8, 106, 5, 4, 2223, 5244, 16, 480, 66, 3785, 33, 4, 130, 12, 16, 38, 619, 5, 25, 124, 51, 36, 135, 48, 25, 1415, 33, 6, 22, 12, 215, 28, 77, 52, 5, 14, 407, 16, 82, 2, 8, 4, 107, 117, 5952, 15, 256, 4, 2, 7, 3766, 5, 723, 36, 71, 43, 530, 476, 26, 400, 317, 46, 7, 4, 2, 1029, 13, 104, 88, 4, 381, 15, 297, 98, 32, 2071, 56, 26, 141, 6, 194, 7486, 18, 4, 226, 22, 21, 134, 476, 26, 480, 5, 144, 30, 5535, 18, 51, 36, 28, 224, 92, 25, 104, 4, 226, 65, 16, 38, 1334, 88, 12, 16, 283, 5, 16, 4472, 113, 103, 32, 15, 16, 5345, 19, 178, 32])\n",
            " list([1, 194, 1153, 194, 8255, 78, 228, 5, 6, 1463, 4369, 5012, 134, 26, 4, 715, 8, 118, 1634, 14, 394, 20, 13, 119, 954, 189, 102, 5, 207, 110, 3103, 21, 14, 69, 188, 8, 30, 23, 7, 4, 249, 126, 93, 4, 114, 9, 2300, 1523, 5, 647, 4, 116, 9, 35, 8163, 4, 229, 9, 340, 1322, 4, 118, 9, 4, 130, 4901, 19, 4, 1002, 5, 89, 29, 952, 46, 37, 4, 455, 9, 45, 43, 38, 1543, 1905, 398, 4, 1649, 26, 6853, 5, 163, 11, 3215, 2, 4, 1153, 9, 194, 775, 7, 8255, 2, 349, 2637, 148, 605, 2, 8003, 15, 123, 125, 68, 2, 6853, 15, 349, 165, 4362, 98, 5, 4, 228, 9, 43, 2, 1157, 15, 299, 120, 5, 120, 174, 11, 220, 175, 136, 50, 9, 4373, 228, 8255, 5, 2, 656, 245, 2350, 5, 4, 9837, 131, 152, 491, 18, 2, 32, 7464, 1212, 14, 9, 6, 371, 78, 22, 625, 64, 1382, 9, 8, 168, 145, 23, 4, 1690, 15, 16, 4, 1355, 5, 28, 6, 52, 154, 462, 33, 89, 78, 285, 16, 145, 95])\n",
            " list([1, 14, 47, 8, 30, 31, 7, 4, 249, 108, 7, 4, 5974, 54, 61, 369, 13, 71, 149, 14, 22, 112, 4, 2401, 311, 12, 16, 3711, 33, 75, 43, 1829, 296, 4, 86, 320, 35, 534, 19, 263, 4821, 1301, 4, 1873, 33, 89, 78, 12, 66, 16, 4, 360, 7, 4, 58, 316, 334, 11, 4, 1716, 43, 645, 662, 8, 257, 85, 1200, 42, 1228, 2578, 83, 68, 3912, 15, 36, 165, 1539, 278, 36, 69, 2, 780, 8, 106, 14, 6905, 1338, 18, 6, 22, 12, 215, 28, 610, 40, 6, 87, 326, 23, 2300, 21, 23, 22, 12, 272, 40, 57, 31, 11, 4, 22, 47, 6, 2307, 51, 9, 170, 23, 595, 116, 595, 1352, 13, 191, 79, 638, 89, 2, 14, 9, 8, 106, 607, 624, 35, 534, 6, 227, 7, 129, 113])]\n",
            "\n",
            "print sample label data\n",
            "[1 0 0]\n"
          ],
          "name": "stdout"
        }
      ]
    },
    {
      "cell_type": "code",
      "metadata": {
        "colab": {
          "base_uri": "https://localhost:8080/"
        },
        "id": "bU5UVdNLl8qO",
        "outputId": "d98499c0-d975-4d0f-d5bf-316cbc8c38e1"
      },
      "source": [
        "# Retrieve the word index file mapping words to indices\n",
        "word_index = imdb.get_word_index()\n",
        "\n",
        "# Reverse the word index to obtain a dict mapping indices to words\n",
        "inverted_word_index = dict((i, word) for (word, i) in word_index.items())\n",
        "\n",
        "# Decode the first sequence in the dataset\n",
        "print('**** Decoding first x_train data sequence')\n",
        "decoded_sequence = \" \".join(inverted_word_index.get(i - 3, '?') for i in x_train[0])\n",
        "print(decoded_sequence)\n",
        "print('\\n**** First y_train label data')\n",
        "print(y_train[0])"
      ],
      "execution_count": 5,
      "outputs": [
        {
          "output_type": "stream",
          "text": [
            "**** Decoding first x_train data sequence\n",
            "? this film was just brilliant casting location scenery story direction everyone's really suited the part they played and you could just imagine being there robert ? is an amazing actor and now the same being director ? father came from the same scottish island as myself so i loved the fact there was a real connection with this film the witty remarks throughout the film were great it was just brilliant so much that i bought the film as soon as it was released for ? and would recommend it to everyone to watch and the fly fishing was amazing really cried at the end it was so sad and you know what they say if you cry at a film it must have been good and this definitely was also ? to the two little boy's that played the ? of norman and paul they were just brilliant children are often left out of the ? list i think because the stars that play them all grown up are such a big profile for the whole film but these children are amazing and should be praised for what they have done don't you think the whole story was so lovely because it was true and was someone's life after all that was shared with us all\n",
            "\n",
            "**** First y_train label data\n",
            "1\n"
          ],
          "name": "stdout"
        }
      ]
    },
    {
      "cell_type": "code",
      "metadata": {
        "colab": {
          "base_uri": "https://localhost:8080/"
        },
        "id": "G_Xy7ITFnClu",
        "outputId": "c45ac74f-c8b8-4044-f181-59010a5927f1"
      },
      "source": [
        "# Decode the second sequence in the dataset\n",
        "print('**** Decoding second x_train data sequence')\n",
        "decoded_sequence = \" \".join(inverted_word_index.get(i - 3, '?') for i in x_train[1])\n",
        "print(decoded_sequence)\n",
        "print('\\n**** Second y_train label data')\n",
        "print(y_train[1])"
      ],
      "execution_count": 6,
      "outputs": [
        {
          "output_type": "stream",
          "text": [
            "**** Decoding second x_train data sequence\n",
            "? big hair big boobs bad music and a giant safety pin these are the words to best describe this terrible movie i love cheesy horror movies and i've seen hundreds but this had got to be on of the worst ever made the plot is paper thin and ridiculous the acting is an abomination the script is completely laughable the best is the end showdown with the cop and how he worked out who the killer is it's just so damn terribly written the clothes are sickening and funny in equal ? the hair is big lots of boobs ? men wear those cut ? shirts that show off their ? sickening that men actually wore them and the music is just ? trash that plays over and over again in almost every scene there is trashy music boobs and ? taking away bodies and the gym still doesn't close for ? all joking aside this is a truly bad film whose only charm is to look back on the disaster that was the 80's and have a good old laugh at how bad everything was back then\n",
            "\n",
            "**** Second y_train label data\n",
            "0\n"
          ],
          "name": "stdout"
        }
      ]
    },
    {
      "cell_type": "markdown",
      "metadata": {
        "id": "7KPiUFnhnTka"
      },
      "source": [
        "##### We observe 0 label represents negative review and 1 label represents positive review"
      ]
    },
    {
      "cell_type": "code",
      "metadata": {
        "colab": {
          "base_uri": "https://localhost:8080/"
        },
        "id": "uUm7FAXKn1Ij",
        "outputId": "25c34a3f-ba6a-4757-a18d-7072ff969137"
      },
      "source": [
        "# Get max training sequence length\n",
        "maxlen_train = max([len(x) for x in x_train])\n",
        "minlen_train = min([len(x) for x in x_train])\n",
        "maxlen_test = max([len(x) for x in x_test])\n",
        "minlen_test = min([len(x) for x in x_test])\n",
        "\n",
        "print(\"Max length - Training : \",maxlen_train)\n",
        "print(\"Min length - Training : \",minlen_train,'\\n')\n",
        "\n",
        "print(\"Max length - Test : \",maxlen_test)\n",
        "print(\"Min length - Test : \",minlen_test)"
      ],
      "execution_count": 7,
      "outputs": [
        {
          "output_type": "stream",
          "text": [
            "Max length - Training :  2494\n",
            "Min length - Training :  11 \n",
            "\n",
            "Max length - Test :  2315\n",
            "Min length - Test :  7\n"
          ],
          "name": "stdout"
        }
      ]
    },
    {
      "cell_type": "markdown",
      "metadata": {
        "id": "i3guatpTt0Bf"
      },
      "source": [
        "##### We have review data with different lengths. For model we would need to same length data for which we will use padding from keras preprocessing library."
      ]
    },
    {
      "cell_type": "markdown",
      "metadata": {
        "id": "oz5mhYXBDGDa"
      },
      "source": [
        "* STEP2. Perform relevant sequence adding on the data\n",
        "  Use the first 20 words from each review to speed up training, using a max vocabulary size of 10,000."
      ]
    },
    {
      "cell_type": "code",
      "metadata": {
        "colab": {
          "base_uri": "https://localhost:8080/"
        },
        "id": "vl7A0QK8pyzV",
        "outputId": "664eb14a-39f4-495e-a7ea-5bea73e3346c"
      },
      "source": [
        "#Problem objective says to limit to 20 words to faster processing\n",
        "\n",
        "maxlen = 20 # cut texts after this number of words (among top max_features most common words)\n",
        "print('Pad sequences - pre')\n",
        "x_train_padded = sequence.pad_sequences(x_train, maxlen=maxlen , padding='pre')\n",
        "x_test_padded = sequence.pad_sequences(x_test, maxlen=maxlen, padding='pre')"
      ],
      "execution_count": 8,
      "outputs": [
        {
          "output_type": "stream",
          "text": [
            "Pad sequences - pre\n"
          ],
          "name": "stdout"
        }
      ]
    },
    {
      "cell_type": "code",
      "metadata": {
        "colab": {
          "base_uri": "https://localhost:8080/"
        },
        "id": "x9EpbbjVuZop",
        "outputId": "c86d2fad-bb03-4861-f569-1bebf428f863"
      },
      "source": [
        "maxlen_train = max([len(x) for x in x_train_padded])\n",
        "minlen_train = min([len(x) for x in x_train_padded])\n",
        "maxlen_test = max([len(x) for x in x_test_padded])\n",
        "minlen_test = min([len(x) for x in x_test_padded])\n",
        "\n",
        "print(\"Max length - Training : \",maxlen_train)\n",
        "print(\"Min length - Training : \",minlen_train,'\\n')\n",
        "\n",
        "print(\"Max length - Test : \",maxlen_test)\n",
        "print(\"Min length - Test : \",minlen_test)"
      ],
      "execution_count": 9,
      "outputs": [
        {
          "output_type": "stream",
          "text": [
            "Max length - Training :  20\n",
            "Min length - Training :  20 \n",
            "\n",
            "Max length - Test :  20\n",
            "Min length - Test :  20\n"
          ],
          "name": "stdout"
        }
      ]
    },
    {
      "cell_type": "markdown",
      "metadata": {
        "id": "_DtbmgbuDd0-"
      },
      "source": [
        "* STEP3. Perform following data analysis:\n",
        "  • Print shape of features and labels\n",
        "  • Print value of any one feature and it's label"
      ]
    },
    {
      "cell_type": "code",
      "metadata": {
        "colab": {
          "base_uri": "https://localhost:8080/"
        },
        "id": "68ubxn0zDy9M",
        "outputId": "17c83616-5b12-48ed-ab20-cb447ee2a46a"
      },
      "source": [
        "print('Feature train dataset shape:', x_train_padded.shape)\n",
        "print('Feature test dataset  shape:', x_test_padded.shape)\n",
        "print('Label train dataset shape:', y_train.shape)\n",
        "print('Label test dataset shape:', y_test.shape)"
      ],
      "execution_count": 10,
      "outputs": [
        {
          "output_type": "stream",
          "text": [
            "Feature train dataset shape: (25000, 20)\n",
            "Feature test dataset  shape: (25000, 20)\n",
            "Label train dataset shape: (25000,)\n",
            "Label test dataset shape: (25000,)\n"
          ],
          "name": "stdout"
        }
      ]
    },
    {
      "cell_type": "code",
      "metadata": {
        "colab": {
          "base_uri": "https://localhost:8080/"
        },
        "id": "7WJaN2FKrl4T",
        "outputId": "2021deda-f588-4fc8-9b42-dd47898055a7"
      },
      "source": [
        "print('print sample feature data')\n",
        "n = []\n",
        "for i in range(3):\n",
        "  k = np.random.randint(0, 100)\n",
        "  n.append(k)\n",
        "  print(k, 'sequence: ', *x_train_padded[k])\n",
        "  print('label for above sequence:', y_train[k], '\\n')\n"
      ],
      "execution_count": 11,
      "outputs": [
        {
          "output_type": "stream",
          "text": [
            "print sample feature data\n",
            "70 sequence:  5 6998 8 63 18 4 436 2 223 32 183 2 83 31 5 6 1872 1129 143 12\n",
            "label for above sequence: 1 \n",
            "\n",
            "79 sequence:  5 4 6980 1218 11 4 2092 38 76 9 11 50 12 2346 73 6 2681 561 11 58\n",
            "label for above sequence: 1 \n",
            "\n",
            "54 sequence:  142 5 6 2001 291 154 12 3188 53 7 4 1569 74 4 1138 5 1346 9 184 1193\n",
            "label for above sequence: 0 \n",
            "\n"
          ],
          "name": "stdout"
        }
      ]
    },
    {
      "cell_type": "markdown",
      "metadata": {
        "id": "AdsiOO3a25WV"
      },
      "source": [
        "* STEP4. Decode the feature value to get original sentence"
      ]
    },
    {
      "cell_type": "code",
      "metadata": {
        "colab": {
          "base_uri": "https://localhost:8080/"
        },
        "id": "bRjuXFvqVn0c",
        "outputId": "f072e878-ebfd-438f-cd5b-ca7ecd102f47"
      },
      "source": [
        "# Decoding the above values\n",
        "\n",
        "# Retrieve the word index file mapping words to indices\n",
        "word_index = imdb.get_word_index()\n",
        "\n",
        "# Reverse the word index to obtain a dict mapping indices to words\n",
        "inverted_word_index = dict((i, word) for (word, i) in word_index.items())\n",
        "\n",
        "# Decode the first sequence in the dataset\n",
        "for i in n:\n",
        "  decoded_sequence = \" \".join(inverted_word_index.get(i - 3, '?') for i in x_train[i])\n",
        "  print(i , 'sequence decoded:', decoded_sequence ,'\\n')\n"
      ],
      "execution_count": 12,
      "outputs": [
        {
          "output_type": "stream",
          "text": [
            "70 sequence decoded: ? a stunning realization occurs when some sort of phenomenon takes place be it ? going off witnessing a robbery a ? ? devastating everything in it's path or for that matter any other spectacular ? in the case of the ? family however ? was something which was no more complex than their day to day lives montana in the early ? century was an environment which was rough and ? the ? family was comprised of four people the father a minister who was ? driven to raise his family properly his wife was god ? and ? the two boys were well boys what else can you say brad pitt starred in this film before he was really the brad pitt and his acting performance in this film was to say the least remarkable his brother norman was the cerebral type he was touched by emotions that were genuine and motivated by a set of values that ? montana ? with paul brad pitt was a ? from the ? and lived on the edge you would think that montana in the ? had no such thing yet somehow gambling drinking and violent ? were as much a part of paul as was his fly fishing rod fly fishing did i say that ? this was the core of this movie's theme the recreation of fly fishing served as the cohesive bond which ? the ? spirits of the ? brothers and to a lesser degree the father i would describe the acting in this film as incredibly believable and the cinematography went beyond sensational put it this way anyone who sees this film will want to live in montana breathtaking filmography of ? than blue mountains and ? captured the youth and ? that the ? brothers had for life seldom in a film do you witness ? feelings immediately ? a ? ? to accomplish whatever it may be that someone wishes to accomplish the ? brothers lived life to the ? and for better or worse the father knew that this was going to be the only way the two of them could become men robert redford directs this film and tells the story of the ? through the perspective of the older brother norman norman gets offered a position at the university of chicago at age 26 and marries the woman he will always be in love with what this film also points out is that the younger brother paul has ? an accomplishment of his own by being the epitome of a remarkable fly ? the ? side of life ? in the younger brother's existence and ? an ? form of ? for the ? family as most human shortcomings go the ? family made light of ? waters literally and thus established ? as a family by putting necessary ? on br br the end of the movie river runs through it presents an ? of life through the eyes of the older brother for norman ? ? is a ? to ? in his ? years such a fate is largely due to the fact that ? on his life is ? to yearning for people who have passed away the fond memories of his brother his wife his mother and his father must now be viewed ? for norman his life has been ? to stubborn facts that have determined his dubious ? and ? resolve something as simple as the statement this was your life and that is how you lived it is a somber ? of the joy the sorrow the regrets and the love he gave as well as was the ? of best put in the last ? he heard his father give his father said we can completely love someone without completely understanding them whether you agree with what has happened in your life or not it happened nonetheless norman ? must come to grips with the fact that his life has been ? by ? norman ? has become a ? ? who is ? by virtual conclusions to his life the murky waters of ? ? rivers serve as a vicious and ? ? to his years on earth without question the very prolific statement of what seems complicated is really very simple ? a very ? message in this movie more simply put the people and places which were important in ? life are now only a bittersweet memory merely a painfully intellectual ? of events which are ? by the haunted waters of ? beautiful ? and rivers to which for the entire ? family all things ? into one and a river runs through it \n",
            "\n",
            "79 sequence decoded: ? in the early 1970s many of us who had ? ? acid alternative culture ? had realised that mainstream society was not going to change in the way we thought it would for me this film defined the tension of now what that many of the people i knew felt at that time do we head for the ? and create our own vision of ? or do we ? and push for change br br from the ? gestures to police the radical ? the music of pink ? to the love making and the explosive images in the desert so much is in there it captures well a significant moment in time \n",
            "\n",
            "54 sequence decoded: ? any movie in which brooke ? out acts a fonda is going to be both an ? and a horror ? actually is only bad because she's youthful inexperienced and clearly not well directed by her co star peter fonda is bad because well because he's bad i liked him in ? gold years later but lord above he's awful here not that anyone else is good there's not a single performance outside henry ? delightful cameo that is even passable i've never seen a movie with this many bad performances in the case of luke ? the chief villain it's clear this is because of poor dialogue and direction as he's done good work in the past but his partner played by ted ? is an embarrassing ham the writing is just bloody awful and the actors cannot be ? for the terrible things they have to say but they say them so badly the editing and direction are worse than pedestrian shots are held way too long for no dramatic reason or cut off before the impact of the scene can be realized this picture was far worse than i'd imagined and would have been utterly forgotten and probably never even made without the participation of a couple of famous names one bright spot the cinematography in the grand canyon is exquisite capturing the beauty of that area in a way even big screen ? productions have not quite done so well and finally either this is a bad version of paper moon with a lovable pair of father daughter types or it's a bad version of pretty baby with a considerably more ? romantic relationship between a forty something and a 13 year old it suggests more of the latter than the former and thus is pretty disturbing \n",
            "\n"
          ],
          "name": "stdout"
        }
      ]
    },
    {
      "cell_type": "markdown",
      "metadata": {
        "id": "kfM3nIXp2Rxm"
      },
      "source": [
        "#### Sequence 70 and 79 are positive review and 54 is negative review. This can observed from the label as well as decoded review data for that sequence"
      ]
    },
    {
      "cell_type": "markdown",
      "metadata": {
        "id": "OWv-ntgz3EMN"
      },
      "source": [
        "* STEP5. Design, train, tune and test a sequential model."
      ]
    },
    {
      "cell_type": "code",
      "metadata": {
        "id": "hUsJ-2Rt3Ib5"
      },
      "source": [
        "# Sentiment analysis using GRU RNN\n",
        "from tensorflow.keras.layers import GRU, SimpleRNN, Embedding, Bidirectional, SpatialDropout1D, Dropout\n",
        "\n",
        "embedding_dim = 32\n",
        "\n",
        "def Build_GRU():\n",
        "  model = tf.keras.Sequential()\n",
        "  # encoder\n",
        "  model.add(Embedding(input_dim=max_features, output_dim=embedding_dim, input_length=maxlen))\n",
        "  model.add(GRU(units=64,dropout=0.2))\n",
        "  \n",
        "  # latent space\n",
        "  model.add(tf.keras.layers.Dense( units=64, activation='relu'))\n",
        "  model.add(Dropout(0.5))\n",
        "  model.add(tf.keras.layers.Dense( units=32, activation='relu'))\n",
        "  model.add(Dropout(0.5))\n",
        "  \n",
        "  # In decoder secton, Sigmoid as activation function and binary  cross entropoy as loss function used for binary classification\n",
        "  model.add(tf.keras.layers.Dense(units=1, activation='sigmoid'))\n",
        "  model.compile(optimizer='adam', loss='binary_crossentropy', metrics=['accuracy'])\n",
        "  print(model.summary())\n",
        "  return model\n",
        "\n",
        "# save the best model to the checkpoint\n",
        "checkpoint_gru = tf.keras.callbacks.ModelCheckpoint('gru.h5', #where to save the model\n",
        "                                                save_best_only=True, \n",
        "                                                monitor='val_accuracy',\n",
        "                                                mode='max', \n",
        "                                                save_weights_only=False,\n",
        "                                                verbose = 1)\n"
      ],
      "execution_count": 13,
      "outputs": []
    },
    {
      "cell_type": "code",
      "metadata": {
        "id": "A9_y5suNh6H9"
      },
      "source": [
        "# Sentiment analysis using Stacked RNN\n",
        "embedding_dim = 32\n",
        "\n",
        "def Build_StackedRNN():\n",
        "  model = tf.keras.Sequential()\n",
        "  # encoder\n",
        "  model.add(Embedding(input_dim=max_features, output_dim=embedding_dim, input_length=maxlen))\n",
        "  model.add(SimpleRNN(32,return_sequences=True))\n",
        "  model.add(SimpleRNN(32))\n",
        "  \n",
        "  # latent space\n",
        "  model.add(tf.keras.layers.Dense( units=64, activation='relu'))\n",
        "  model.add(Dropout(0.5))\n",
        "  model.add(tf.keras.layers.Dense( units=32, activation='relu'))\n",
        "  model.add(Dropout(0.5))\n",
        "  \n",
        "  # In decoder secton, Sigmoid as activation function and binary  cross entropoy as loss function used for binary classification\n",
        "  model.add(tf.keras.layers.Dense(units=1, activation='sigmoid'))\n",
        "  model.compile(optimizer='adam', loss='binary_crossentropy', metrics=['accuracy'])\n",
        "  print(model.summary())\n",
        "  return model\n",
        "\n",
        "# save the best model to the checkpoint\n",
        "checkpoint_srnn = tf.keras.callbacks.ModelCheckpoint('srnn.h5', #where to save the model\n",
        "                                                save_best_only=True, \n",
        "                                                monitor='val_accuracy',\n",
        "                                                mode='max',\n",
        "                                                save_weights_only=False, \n",
        "                                                verbose = 1)"
      ],
      "execution_count": 14,
      "outputs": []
    },
    {
      "cell_type": "code",
      "metadata": {
        "id": "UM72Zlmzlj7R"
      },
      "source": [
        "# Sentiment analysis using Bidirectional RNN\n",
        "embedding_dim = 32\n",
        "\n",
        "def Build_BidirectionalRNN():\n",
        "  model = tf.keras.Sequential()\n",
        "  # encoder\n",
        "  model.add(Embedding(input_dim=max_features, output_dim=embedding_dim, input_length=maxlen))\n",
        "  model.add(Bidirectional(tf.keras.layers.LSTM(32,dropout=0.2)))\n",
        "  \n",
        "  # latent space\n",
        "  model.add(tf.keras.layers.Dense( units=64, activation='relu'))\n",
        "  model.add(Dropout(0.5))\n",
        "  model.add(tf.keras.layers.Dense( units=32, activation='relu'))\n",
        "  model.add(Dropout(0.5))\n",
        "  \n",
        "  # In decoder secton, Sigmoid as activation function and binary  cross entropoy as loss function used for binary classification\n",
        "  model.add(tf.keras.layers.Dense(units=1, activation='sigmoid'))\n",
        "  model.compile(optimizer='adam', loss='binary_crossentropy', metrics=['accuracy'])\n",
        "  print(model.summary())\n",
        "  return model\n",
        "\n",
        "# save the best model to the checkpoint\n",
        "checkpoint_birnn = tf.keras.callbacks.ModelCheckpoint('birnn.h5', #where to save the model\n",
        "                                                save_best_only=True, \n",
        "                                                monitor='val_accuracy',\n",
        "                                                mode='max',\n",
        "                                                save_weights_only=False,\n",
        "                                                verbose = 1)\n"
      ],
      "execution_count": 15,
      "outputs": []
    },
    {
      "cell_type": "code",
      "metadata": {
        "id": "-gSjyOH_pcKm"
      },
      "source": [
        "def plot_accuracy(history):\n",
        "  plt.plot(history.history['accuracy'], label='training_accuracy')\n",
        "  plt.plot(history.history['val_accuracy'], label='validation_accuracy')\n",
        "  #plt.ylim([0, 10])\n",
        "  plt.xlabel('Epoch')\n",
        "  plt.ylabel('accuracy')\n",
        "  plt.legend(['training', 'validation'], loc='best')\n",
        "  plt.grid(True)\n",
        "\n",
        "def plot_loss(history):\n",
        "  plt.plot(history.history['loss'], label='training_loss')\n",
        "  plt.plot(history.history['val_loss'], label='validation_loss')\n",
        "  #plt.ylim([0, 10])\n",
        "  plt.xlabel('Epoch')\n",
        "  plt.ylabel('loss')\n",
        "  plt.legend(['training', 'validation'], loc='best')\n",
        "  plt.grid(True)"
      ],
      "execution_count": 16,
      "outputs": []
    },
    {
      "cell_type": "code",
      "metadata": {
        "id": "ZCIU7TwMuhTU"
      },
      "source": [
        "def plotting(name):\n",
        "  print('\\n')\n",
        "  print('\\033[1m',name)\n",
        "  plt.figure(figsize=(15,5))\n",
        "  #plt.rcParams.update({'font.size': 10})\n",
        "  plt.subplot(1,2,1)\n",
        "  # Accuracy vs Epochs\n",
        "  plot_accuracy(history)\n",
        "  plt.subplot(1,2,2)\n",
        "  # Loss vs Epochs\n",
        "  plot_loss(history)"
      ],
      "execution_count": 17,
      "outputs": []
    },
    {
      "cell_type": "code",
      "metadata": {
        "colab": {
          "base_uri": "https://localhost:8080/",
          "height": 1000
        },
        "id": "gzapWX2LoSyG",
        "outputId": "faf6758b-4ec4-4bab-a6f2-352219bd0aa1"
      },
      "source": [
        "data = []\n",
        "# Evaluate GRU model\n",
        "model_rnn = Build_GRU()\n",
        "history = model_rnn.fit(x_train_padded, y_train, epochs=10,validation_data=(x_test_padded, y_test),callbacks=[checkpoint_gru])\n",
        "# Scores achieved for the model # achieved at epoch\n",
        "best_epoch = pd.DataFrame(history.history['val_accuracy']).idxmax().values\n",
        "validation_accuracy = pd.DataFrame(history.history['val_accuracy']).iloc[best_epoch,0]\n",
        "Train_accuracy = pd.DataFrame(history.history['accuracy']).iloc[best_epoch,0]\n",
        "validation_loss = pd.DataFrame(history.history['val_loss']).iloc[best_epoch,0]\n",
        "Train_loss = pd.DataFrame(history.history['loss']).iloc[best_epoch,0]\n",
        "plotting('GRU_Model')\n",
        "print('Training Accuracy: %.2f and loss: %.2f' %(Train_accuracy*100, Train_loss)  )\n",
        "print('Validation Accuracy: %.2f and loss :%.2f' %(validation_accuracy*100, validation_loss))\n",
        "\n",
        "data = [['GRU_Model',(Train_accuracy*100), (validation_accuracy*100) ]]"
      ],
      "execution_count": 18,
      "outputs": [
        {
          "output_type": "stream",
          "text": [
            "Model: \"sequential\"\n",
            "_________________________________________________________________\n",
            "Layer (type)                 Output Shape              Param #   \n",
            "=================================================================\n",
            "embedding (Embedding)        (None, 20, 32)            320000    \n",
            "_________________________________________________________________\n",
            "gru (GRU)                    (None, 64)                18816     \n",
            "_________________________________________________________________\n",
            "dense (Dense)                (None, 64)                4160      \n",
            "_________________________________________________________________\n",
            "dropout (Dropout)            (None, 64)                0         \n",
            "_________________________________________________________________\n",
            "dense_1 (Dense)              (None, 32)                2080      \n",
            "_________________________________________________________________\n",
            "dropout_1 (Dropout)          (None, 32)                0         \n",
            "_________________________________________________________________\n",
            "dense_2 (Dense)              (None, 1)                 33        \n",
            "=================================================================\n",
            "Total params: 345,089\n",
            "Trainable params: 345,089\n",
            "Non-trainable params: 0\n",
            "_________________________________________________________________\n",
            "None\n",
            "Epoch 1/10\n",
            "782/782 [==============================] - 10s 9ms/step - loss: 0.5704 - accuracy: 0.6888 - val_loss: 0.4793 - val_accuracy: 0.7643\n",
            "\n",
            "Epoch 00001: val_accuracy improved from -inf to 0.76428, saving model to gru.h5\n",
            "Epoch 2/10\n",
            "782/782 [==============================] - 6s 8ms/step - loss: 0.4360 - accuracy: 0.8032 - val_loss: 0.4704 - val_accuracy: 0.7715\n",
            "\n",
            "Epoch 00002: val_accuracy improved from 0.76428 to 0.77148, saving model to gru.h5\n",
            "Epoch 3/10\n",
            "782/782 [==============================] - 6s 8ms/step - loss: 0.3690 - accuracy: 0.8363 - val_loss: 0.5136 - val_accuracy: 0.7680\n",
            "\n",
            "Epoch 00003: val_accuracy did not improve from 0.77148\n",
            "Epoch 4/10\n",
            "782/782 [==============================] - 6s 8ms/step - loss: 0.3168 - accuracy: 0.8630 - val_loss: 0.5679 - val_accuracy: 0.7621\n",
            "\n",
            "Epoch 00004: val_accuracy did not improve from 0.77148\n",
            "Epoch 5/10\n",
            "782/782 [==============================] - 6s 8ms/step - loss: 0.2691 - accuracy: 0.8854 - val_loss: 0.6153 - val_accuracy: 0.7567\n",
            "\n",
            "Epoch 00005: val_accuracy did not improve from 0.77148\n",
            "Epoch 6/10\n",
            "782/782 [==============================] - 6s 8ms/step - loss: 0.2335 - accuracy: 0.9019 - val_loss: 0.7130 - val_accuracy: 0.7462\n",
            "\n",
            "Epoch 00006: val_accuracy did not improve from 0.77148\n",
            "Epoch 7/10\n",
            "782/782 [==============================] - 6s 8ms/step - loss: 0.1987 - accuracy: 0.9147 - val_loss: 0.9525 - val_accuracy: 0.7482\n",
            "\n",
            "Epoch 00007: val_accuracy did not improve from 0.77148\n",
            "Epoch 8/10\n",
            "782/782 [==============================] - 6s 8ms/step - loss: 0.1719 - accuracy: 0.9298 - val_loss: 0.9333 - val_accuracy: 0.7476\n",
            "\n",
            "Epoch 00008: val_accuracy did not improve from 0.77148\n",
            "Epoch 9/10\n",
            "782/782 [==============================] - 6s 8ms/step - loss: 0.1459 - accuracy: 0.9404 - val_loss: 1.0940 - val_accuracy: 0.7426\n",
            "\n",
            "Epoch 00009: val_accuracy did not improve from 0.77148\n",
            "Epoch 10/10\n",
            "782/782 [==============================] - 6s 8ms/step - loss: 0.1234 - accuracy: 0.9494 - val_loss: 1.2075 - val_accuracy: 0.7366\n",
            "\n",
            "Epoch 00010: val_accuracy did not improve from 0.77148\n",
            "\n",
            "\n",
            "\u001b[1m GRU_Model\n",
            "Training Accuracy: 80.32 and loss: 0.44\n",
            "Validation Accuracy: 77.15 and loss :0.47\n"
          ],
          "name": "stdout"
        },
        {
          "output_type": "display_data",
          "data": {
            "image/png": "[encoded data removed]",
            "text/plain": [
              "<Figure size 1080x360 with 2 Axes>"
            ]
          },
          "metadata": {
            "tags": [],
            "needs_background": "light"
          }
        }
      ]
    },
    {
      "cell_type": "code",
      "metadata": {
        "colab": {
          "base_uri": "https://localhost:8080/",
          "height": 1000
        },
        "id": "ND7ccDprwXTk",
        "outputId": "dcbab23e-1a07-40e1-d829-9062918ec162"
      },
      "source": [
        "# Evaluate Bidirectional model\n",
        "model_rnn = Build_BidirectionalRNN()\n",
        "history = model_rnn.fit(x_train_padded, y_train, epochs=10,validation_data=(x_test_padded, y_test),callbacks=[checkpoint_birnn])\n",
        "# Scores achieved for the model # achieved at epoch\n",
        "best_epoch = pd.DataFrame(history.history['val_accuracy']).idxmax().values\n",
        "validation_accuracy = pd.DataFrame(history.history['val_accuracy']).iloc[best_epoch,0]\n",
        "Train_accuracy = pd.DataFrame(history.history['accuracy']).iloc[best_epoch,0]\n",
        "validation_loss = pd.DataFrame(history.history['val_loss']).iloc[best_epoch,0]\n",
        "Train_loss = pd.DataFrame(history.history['loss']).iloc[best_epoch,0]\n",
        "plotting('BidirectionRNN_Model')\n",
        "print('Training Accuracy: %.2f and loss: %.2f' %(Train_accuracy*100, Train_loss)  )\n",
        "print('Validation Accuracy: %.2f and loss :%.2f' %(validation_accuracy*100, validation_loss))\n",
        "\n",
        "data.append(['BiDirectionalRNN_Model',(Train_accuracy*100), (validation_accuracy*100) ])"
      ],
      "execution_count": 19,
      "outputs": [
        {
          "output_type": "stream",
          "text": [
            "Model: \"sequential_1\"\n",
            "_________________________________________________________________\n",
            "Layer (type)                 Output Shape              Param #   \n",
            "=================================================================\n",
            "embedding_1 (Embedding)      (None, 20, 32)            320000    \n",
            "_________________________________________________________________\n",
            "bidirectional (Bidirectional (None, 64)                16640     \n",
            "_________________________________________________________________\n",
            "dense_3 (Dense)              (None, 64)                4160      \n",
            "_________________________________________________________________\n",
            "dropout_2 (Dropout)          (None, 64)                0         \n",
            "_________________________________________________________________\n",
            "dense_4 (Dense)              (None, 32)                2080      \n",
            "_________________________________________________________________\n",
            "dropout_3 (Dropout)          (None, 32)                0         \n",
            "_________________________________________________________________\n",
            "dense_5 (Dense)              (None, 1)                 33        \n",
            "=================================================================\n",
            "Total params: 342,913\n",
            "Trainable params: 342,913\n",
            "Non-trainable params: 0\n",
            "_________________________________________________________________\n",
            "None\n",
            "Epoch 1/10\n",
            "782/782 [==============================] - 12s 11ms/step - loss: 0.5676 - accuracy: 0.6923 - val_loss: 0.4731 - val_accuracy: 0.7637\n",
            "\n",
            "Epoch 00001: val_accuracy improved from -inf to 0.76372, saving model to birnn.h5\n",
            "Epoch 2/10\n",
            "782/782 [==============================] - 8s 10ms/step - loss: 0.4236 - accuracy: 0.8051 - val_loss: 0.4895 - val_accuracy: 0.7642\n",
            "\n",
            "Epoch 00002: val_accuracy improved from 0.76372 to 0.76416, saving model to birnn.h5\n",
            "Epoch 3/10\n",
            "782/782 [==============================] - 8s 11ms/step - loss: 0.3545 - accuracy: 0.8453 - val_loss: 0.5231 - val_accuracy: 0.7631\n",
            "\n",
            "Epoch 00003: val_accuracy did not improve from 0.76416\n",
            "Epoch 4/10\n",
            "782/782 [==============================] - 9s 11ms/step - loss: 0.2872 - accuracy: 0.8770 - val_loss: 0.5945 - val_accuracy: 0.7508\n",
            "\n",
            "Epoch 00004: val_accuracy did not improve from 0.76416\n",
            "Epoch 5/10\n",
            "782/782 [==============================] - 8s 11ms/step - loss: 0.2286 - accuracy: 0.9038 - val_loss: 0.7903 - val_accuracy: 0.7454\n",
            "\n",
            "Epoch 00005: val_accuracy did not improve from 0.76416\n",
            "Epoch 6/10\n",
            "782/782 [==============================] - 8s 11ms/step - loss: 0.1782 - accuracy: 0.9285 - val_loss: 0.8737 - val_accuracy: 0.7326\n",
            "\n",
            "Epoch 00006: val_accuracy did not improve from 0.76416\n",
            "Epoch 7/10\n",
            "782/782 [==============================] - 8s 11ms/step - loss: 0.1423 - accuracy: 0.9455 - val_loss: 1.1205 - val_accuracy: 0.7372\n",
            "\n",
            "Epoch 00007: val_accuracy did not improve from 0.76416\n",
            "Epoch 8/10\n",
            "782/782 [==============================] - 8s 11ms/step - loss: 0.1125 - accuracy: 0.9572 - val_loss: 1.3244 - val_accuracy: 0.7388\n",
            "\n",
            "Epoch 00008: val_accuracy did not improve from 0.76416\n",
            "Epoch 9/10\n",
            "782/782 [==============================] - 8s 11ms/step - loss: 0.0898 - accuracy: 0.9671 - val_loss: 1.4130 - val_accuracy: 0.7315\n",
            "\n",
            "Epoch 00009: val_accuracy did not improve from 0.76416\n",
            "Epoch 10/10\n",
            "782/782 [==============================] - 8s 10ms/step - loss: 0.0729 - accuracy: 0.9730 - val_loss: 1.6341 - val_accuracy: 0.7310\n",
            "\n",
            "Epoch 00010: val_accuracy did not improve from 0.76416\n",
            "\n",
            "\n",
            "\u001b[1m BidirectionRNN_Model\n",
            "Training Accuracy: 80.51 and loss: 0.42\n",
            "Validation Accuracy: 76.42 and loss :0.49\n"
          ],
          "name": "stdout"
        },
        {
          "output_type": "display_data",
          "data": {
            "image/png": "[encoded data removed]",
            "text/plain": [
              "<Figure size 1080x360 with 2 Axes>"
            ]
          },
          "metadata": {
            "tags": [],
            "needs_background": "light"
          }
        }
      ]
    },
    {
      "cell_type": "code",
      "metadata": {
        "colab": {
          "base_uri": "https://localhost:8080/",
          "height": 1000
        },
        "id": "jqL2ZKVcwmf-",
        "outputId": "7b358f59-3125-40d0-ea07-2698d2965b40"
      },
      "source": [
        "# Evaluate Stacked model\n",
        "model_rnn = Build_StackedRNN()\n",
        "history = model_rnn.fit(x_train_padded, y_train, epochs=10,validation_data=(x_test_padded, y_test),callbacks=[checkpoint_srnn])\n",
        "# Scores achieved for the model # achieved at epoch\n",
        "best_epoch = pd.DataFrame(history.history['val_accuracy']).idxmax().values\n",
        "validation_accuracy = pd.DataFrame(history.history['val_accuracy']).iloc[best_epoch,0]\n",
        "Train_accuracy = pd.DataFrame(history.history['accuracy']).iloc[best_epoch,0]\n",
        "validation_loss = pd.DataFrame(history.history['val_loss']).iloc[best_epoch,0]\n",
        "Train_loss = pd.DataFrame(history.history['loss']).iloc[best_epoch,0]\n",
        "plotting('StackedRNN_Model')\n",
        "print('Training Accuracy: %.2f and loss: %.2f' %(Train_accuracy*100, Train_loss)  )\n",
        "print('Validation Accuracy: %.2f and loss :%.2f' %(validation_accuracy*100, validation_loss))\n",
        "\n",
        "data.append(['StalkedRNN_Model',(Train_accuracy*100), (validation_accuracy*100) ])"
      ],
      "execution_count": 20,
      "outputs": [
        {
          "output_type": "stream",
          "text": [
            "Model: \"sequential_2\"\n",
            "_________________________________________________________________\n",
            "Layer (type)                 Output Shape              Param #   \n",
            "=================================================================\n",
            "embedding_2 (Embedding)      (None, 20, 32)            320000    \n",
            "_________________________________________________________________\n",
            "simple_rnn (SimpleRNN)       (None, 20, 32)            2080      \n",
            "_________________________________________________________________\n",
            "simple_rnn_1 (SimpleRNN)     (None, 32)                2080      \n",
            "_________________________________________________________________\n",
            "dense_6 (Dense)              (None, 64)                2112      \n",
            "_________________________________________________________________\n",
            "dropout_4 (Dropout)          (None, 64)                0         \n",
            "_________________________________________________________________\n",
            "dense_7 (Dense)              (None, 32)                2080      \n",
            "_________________________________________________________________\n",
            "dropout_5 (Dropout)          (None, 32)                0         \n",
            "_________________________________________________________________\n",
            "dense_8 (Dense)              (None, 1)                 33        \n",
            "=================================================================\n",
            "Total params: 328,385\n",
            "Trainable params: 328,385\n",
            "Non-trainable params: 0\n",
            "_________________________________________________________________\n",
            "None\n",
            "Epoch 1/10\n",
            "782/782 [==============================] - 30s 36ms/step - loss: 0.6912 - accuracy: 0.5228 - val_loss: 0.6124 - val_accuracy: 0.6880\n",
            "\n",
            "Epoch 00001: val_accuracy improved from -inf to 0.68800, saving model to srnn.h5\n",
            "Epoch 2/10\n",
            "782/782 [==============================] - 28s 36ms/step - loss: 0.5291 - accuracy: 0.7482 - val_loss: 0.5029 - val_accuracy: 0.7598\n",
            "\n",
            "Epoch 00002: val_accuracy improved from 0.68800 to 0.75980, saving model to srnn.h5\n",
            "Epoch 3/10\n",
            "782/782 [==============================] - 27s 35ms/step - loss: 0.3864 - accuracy: 0.8410 - val_loss: 0.5486 - val_accuracy: 0.7445\n",
            "\n",
            "Epoch 00003: val_accuracy did not improve from 0.75980\n",
            "Epoch 4/10\n",
            "782/782 [==============================] - 27s 35ms/step - loss: 0.2215 - accuracy: 0.9199 - val_loss: 0.7219 - val_accuracy: 0.7320\n",
            "\n",
            "Epoch 00004: val_accuracy did not improve from 0.75980\n",
            "Epoch 5/10\n",
            "782/782 [==============================] - 28s 36ms/step - loss: 0.1014 - accuracy: 0.9678 - val_loss: 1.0380 - val_accuracy: 0.7145\n",
            "\n",
            "Epoch 00005: val_accuracy did not improve from 0.75980\n",
            "Epoch 6/10\n",
            "782/782 [==============================] - 28s 35ms/step - loss: 0.0556 - accuracy: 0.9835 - val_loss: 1.2772 - val_accuracy: 0.7132\n",
            "\n",
            "Epoch 00006: val_accuracy did not improve from 0.75980\n",
            "Epoch 7/10\n",
            "782/782 [==============================] - 28s 36ms/step - loss: 0.0371 - accuracy: 0.9885 - val_loss: 1.7571 - val_accuracy: 0.7251\n",
            "\n",
            "Epoch 00007: val_accuracy did not improve from 0.75980\n",
            "Epoch 8/10\n",
            "782/782 [==============================] - 27s 35ms/step - loss: 0.0268 - accuracy: 0.9920 - val_loss: 1.9004 - val_accuracy: 0.7137\n",
            "\n",
            "Epoch 00008: val_accuracy did not improve from 0.75980\n",
            "Epoch 9/10\n",
            "782/782 [==============================] - 26s 34ms/step - loss: 0.0274 - accuracy: 0.9914 - val_loss: 1.9316 - val_accuracy: 0.7021\n",
            "\n",
            "Epoch 00009: val_accuracy did not improve from 0.75980\n",
            "Epoch 10/10\n",
            "782/782 [==============================] - 26s 34ms/step - loss: 0.0179 - accuracy: 0.9950 - val_loss: 2.2068 - val_accuracy: 0.7121\n",
            "\n",
            "Epoch 00010: val_accuracy did not improve from 0.75980\n",
            "\n",
            "\n",
            "\u001b[1m StackedRNN_Model\n",
            "Training Accuracy: 74.82 and loss: 0.53\n",
            "Validation Accuracy: 75.98 and loss :0.50\n"
          ],
          "name": "stdout"
        },
        {
          "output_type": "display_data",
          "data": {
            "image/png": "[encoded data removed]",
            "text/plain": [
              "<Figure size 1080x360 with 2 Axes>"
            ]
          },
          "metadata": {
            "tags": [],
            "needs_background": "light"
          }
        }
      ]
    },
    {
      "cell_type": "code",
      "metadata": {
        "colab": {
          "base_uri": "https://localhost:8080/"
        },
        "id": "mc8TvJOr4ikO",
        "outputId": "860123ee-63f1-4e1b-c368-172cb87672eb"
      },
      "source": [
        "from tabulate import tabulate\n",
        "print ('\\033[1m', tabulate(data, headers=[\"RNN Model\", \"Training_Score\", \"Test_Score\"]))"
      ],
      "execution_count": 21,
      "outputs": [
        {
          "output_type": "stream",
          "text": [
            "\u001b[1m RNN Model                 Training_Score    Test_Score\n",
            "----------------------  ----------------  ------------\n",
            "GRU_Model                         80.32         77.148\n",
            "BiDirectionalRNN_Model            80.512        76.416\n",
            "StalkedRNN_Model                  74.816        75.98\n"
          ],
          "name": "stdout"
        }
      ]
    },
    {
      "cell_type": "markdown",
      "metadata": {
        "id": "TSBVewQW-ZE-"
      },
      "source": [
        "##### GRU model is the best model so far due to slightly higher validation score than LSTM.\n",
        "* GRU is performing nearly similiar related to LSTM. Both are utilizing different way of gating information to prevent vanishing gradient problem. \n",
        "* The GRU controls the flow of information like the LSTM unit, but without having to use a memory unit. It makes use of all the hidden states without any control. \n",
        "* GRU performance seems on par with LSTM, but computationally more efficient due to few parameters and able to train a bit faster and/or use less data to generalize. However with large data, the LSTMs with higher expressiveness would have provided better results."
      ]
    },
    {
      "cell_type": "markdown",
      "metadata": {
        "id": "E-PSCRUqZ6qu"
      },
      "source": [
        "* STEP6. Use the designed model to print the prediction on any one sample."
      ]
    },
    {
      "cell_type": "code",
      "metadata": {
        "colab": {
          "base_uri": "https://localhost:8080/"
        },
        "id": "ykqb3N41_LmA",
        "outputId": "ef4a1e7a-3045-4f95-9f8e-29ae20210a01"
      },
      "source": [
        "#loading the best model we pickled\n",
        "from keras.models import load_model\n",
        "best_model = load_model('gru.h5')\n",
        "best_model.summary()\n",
        "best_model.load_weights\n",
        "best_model.compile(optimizer = 'adam', loss = 'binary_crossentropy', metrics = ['accuracy'])"
      ],
      "execution_count": 22,
      "outputs": [
        {
          "output_type": "stream",
          "text": [
            "Model: \"sequential\"\n",
            "_________________________________________________________________\n",
            "Layer (type)                 Output Shape              Param #   \n",
            "=================================================================\n",
            "embedding (Embedding)        (None, 20, 32)            320000    \n",
            "_________________________________________________________________\n",
            "gru (GRU)                    (None, 64)                18816     \n",
            "_________________________________________________________________\n",
            "dense (Dense)                (None, 64)                4160      \n",
            "_________________________________________________________________\n",
            "dropout (Dropout)            (None, 64)                0         \n",
            "_________________________________________________________________\n",
            "dense_1 (Dense)              (None, 32)                2080      \n",
            "_________________________________________________________________\n",
            "dropout_1 (Dropout)          (None, 32)                0         \n",
            "_________________________________________________________________\n",
            "dense_2 (Dense)              (None, 1)                 33        \n",
            "=================================================================\n",
            "Total params: 345,089\n",
            "Trainable params: 345,089\n",
            "Non-trainable params: 0\n",
            "_________________________________________________________________\n"
          ],
          "name": "stdout"
        }
      ]
    },
    {
      "cell_type": "code",
      "metadata": {
        "colab": {
          "base_uri": "https://localhost:8080/"
        },
        "id": "yN5emmvA_lNY",
        "outputId": "0fb57470-ac9f-4005-abb2-ae02009c9bcc"
      },
      "source": [
        "lst = [3, 7, 10, 20]\n",
        "for m in lst:\n",
        "  print('\\n')\n",
        "  print('\\033[1m ------------------------ Test Sequence #',m, '------------------------')\n",
        "  decoded_sequence = \" \".join(inverted_word_index.get(i - 3, '?') for i in x_test[m])\n",
        "  print(m ,'Padded Sequence: ', *x_test_padded[m])\n",
        "  print(m, 'Sequence decoded:', decoded_sequence ,'\\n')\n",
        "  print('Ground Truth label for above sequence:', y_test[m])\n",
        "  predicted = best_model.predict(x_test_padded[m].reshape(1,20))\n",
        "  #print(predicted)\n",
        "  #print(*np.round(predicted,decimals=0))\n",
        "  print('Predicted label for above sequence:', np.int(np.round(predicted,decimals=0)))\n",
        "\n"
      ],
      "execution_count": 71,
      "outputs": [
        {
          "output_type": "stream",
          "text": [
            "\n",
            "\n",
            "\u001b[1m ------------------------ Test Sequence # 3 ------------------------\n",
            "3 Padded Sequence:  75 26 2 574 19 4 1729 23 4 268 38 95 138 4 609 191 75 28 314 1772\n",
            "3 Sequence decoded: ? i generally love this type of movie however this time i found myself wanting to kick the screen since i can't do that i will just complain about it this was absolutely idiotic the things that happen with the dead kids are very cool but the alive people are absolute idiots i am a grown man pretty big and i can defend myself well however i would not do half the stuff the little girl does in this movie also the mother in this movie is reckless with her children to the point of neglect i wish i wasn't so angry about her and her actions because i would have otherwise enjoyed the flick what a number she was take my advise and fast forward through everything you see her do until the end also is anyone else getting sick of watching movies that are filmed so dark anymore one can hardly see what is being filmed as an audience we are ? involved with the actions on the screen so then why the hell can't we have night vision \n",
            "\n",
            "Ground Truth label for above sequence: 0\n",
            "Predicted label for above sequence: 1\n",
            "\n",
            "\n",
            "\u001b[1m ------------------------ Test Sequence # 7 ------------------------\n",
            "7 Padded Sequence:  2227 1377 94 24 163 126 21 94 981 8 30 8408 5 1820 28 224 76 128 74 14\n",
            "7 Sequence decoded: ? the ? richard ? dog is ? to ? joan fontaine dog however when ? bing crosby arrives in town to sell a record player to the emperor his dog is attacked by ? dog after a revenge attack where ? is ? from town a ? insists that ? dog must confront dog so that she can overcome her ? fears this is arranged and the dogs fall in love so do ? and ? the rest of the film passes by with romance and at the end ? dog gives birth but who is the father br br the dog story is the very weak vehicle that is used to try and create a story between humans its a terrible storyline there are 3 main musical pieces all of which are rubbish bad songs and dreadful choreography its just an extremely boring film bing has too many words in each sentence and delivers them in an almost irritating manner its not funny ever but its meant to be bing and joan have done much better than this \n",
            "\n",
            "Ground Truth label for above sequence: 0\n",
            "Predicted label for above sequence: 0\n",
            "\n",
            "\n",
            "\u001b[1m ------------------------ Test Sequence # 10 ------------------------\n",
            "10 Padded Sequence:  73 17 6 52 855 7 836 10 10 18 2 7 328 212 14 31 9 5523 8 591\n",
            "10 Sequence decoded: ? inspired by hitchcock's strangers on a train concept of two men ? murders in exchange for getting rid of the two people messing up their lives throw ? from the train is an original and very inventive comedy take on the idea it's a credit to danny ? that he both wrote and starred in this minor comedy gem br br anne ? is the mother who ? the film's title and it's understandable why she gets under the skin of danny ? with her sharp tongue and relentlessly putting him down for any minor ? billy crystal is the writer who's wife has stolen his book idea and is now being ? as a great new author even appearing on the oprah show to in ? he should be enjoying thus ? gets the idea of ? murders to rid themselves of these ? factors br br of course everything and anything can happen when writer carl ? lets his imagination ? with ? ideas for how the plot develops and it's amusing all the way through providing plenty of laughs and chuckles along the way as well as a good deal of suspense br br for ? of black comedy this one is guaranteed to please \n",
            "\n",
            "Ground Truth label for above sequence: 1\n",
            "Predicted label for above sequence: 1\n",
            "\n",
            "\n",
            "\u001b[1m ------------------------ Test Sequence # 20 ------------------------\n",
            "20 Padded Sequence:  177 7 14 20 8 30 1339 5 9 24 6 20 8 30 3714 321 140 851 12 639\n",
            "20 Sequence decoded: ? this film was one that i have waited to see for some time i was glad to find it has been everything anticipated the writing of this film has been so finely crafted and ? far beyond what is seen by the audience i found it amusing that so many people watching will not read between some very important lines but indeed if not the movie will make sense in a different way and is very brilliant the film has many stories and characters woven together around this one character ? a man whom has rose from the streets amidst many ? and become a very powerful criminal after spending some time in prison ? finds a ? in the justice system and through a disturbing turn of events is released only to find everything is not at all what it seems ? finds himself going up against the higher realm of society and political ? in order to make clear how important a man's word is and stands for a war begins as the street is in arms against ? of wealth and corrupt power br br a build up to explosive and powerful non stop twists and turns this film will leave you ? i found the cast of this movie to be outstanding and is not a movie to be ignored excellent go rent it today \n",
            "\n",
            "Ground Truth label for above sequence: 1\n",
            "Predicted label for above sequence: 1\n"
          ],
          "name": "stdout"
        }
      ]
    },
    {
      "cell_type": "markdown",
      "metadata": {
        "id": "Efdll7PZQdNW"
      },
      "source": [
        "On above four test sequence tested, we observe one predicted incorrectly while other three correctly predicted."
      ]
    },
    {
      "cell_type": "markdown",
      "metadata": {
        "id": "guIuYzV7WcZZ"
      },
      "source": [
        "## THANK YOU"
      ]
    }
  ]
}