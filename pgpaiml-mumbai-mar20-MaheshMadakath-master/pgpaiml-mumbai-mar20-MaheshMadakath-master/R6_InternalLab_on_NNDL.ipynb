{
  "nbformat": 4,
  "nbformat_minor": 0,
  "metadata": {
    "colab": {
      "name": "Questions_Lab_on_NNDL.ipynb",
      "provenance": [],
      "collapsed_sections": []
    },
    "kernelspec": {
      "display_name": "Python 3",
      "language": "python",
      "name": "python3"
    },
    "language_info": {
      "codemirror_mode": {
        "name": "ipython",
        "version": 3
      },
      "file_extension": ".py",
      "mimetype": "text/x-python",
      "name": "python",
      "nbconvert_exporter": "python",
      "pygments_lexer": "ipython3",
      "version": "3.7.2"
    },
    "accelerator": "GPU"
  },
  "cells": [
    {
      "cell_type": "markdown",
      "metadata": {
        "id": "YeoiMbH7djEv"
      },
      "source": [
        "# Stock prices dataset\n",
        "The data is of tock exchange's stock listings for each trading day of 2010 to 2016.\n",
        "\n",
        "## Description\n",
        "A brief description of columns.\n",
        "- open: The opening market price of the equity symbol on the date\n",
        "- high: The highest market price of the equity symbol on the date\n",
        "- low: The lowest recorded market price of the equity symbol on the date\n",
        "- close: The closing recorded price of the equity symbol on the date\n",
        "- symbol: Symbol of the listed company\n",
        "- volume: Total traded volume of the equity symbol on the date\n",
        "- date: Date of record"
      ]
    },
    {
      "cell_type": "markdown",
      "metadata": {
        "id": "RSoYY2nII_UW"
      },
      "source": [
        "In this assignment, we will work on the stock prices dataset named \"prices.csv\". Task is to create a Neural Network to classify closing price for a stock based on some parameters."
      ]
    },
    {
      "cell_type": "code",
      "metadata": {
        "id": "PGqq9f8VdLba"
      },
      "source": [
        "# Initialize the random number generator\n",
        "import random\n",
        "random.seed(0)\n",
        "\n",
        "# Ignore the warnings\n",
        "import warnings\n",
        "warnings.filterwarnings(\"ignore\")"
      ],
      "execution_count": 1,
      "outputs": []
    },
    {
      "cell_type": "markdown",
      "metadata": {
        "id": "_88voqAH-O6J"
      },
      "source": [
        "## Question 1"
      ]
    },
    {
      "cell_type": "markdown",
      "metadata": {
        "id": "dRHCeJqP-evf"
      },
      "source": [
        "### Load the data\n",
        "- load the csv file and read it using pandas\n",
        "- file name is prices.csv"
      ]
    },
    {
      "cell_type": "code",
      "metadata": {
        "id": "F6cHv4Q2ropI"
      },
      "source": [
        "import os\r\n",
        "import pandas as pd\r\n",
        "import numpy as np\r\n",
        "from sklearn.model_selection import train_test_split"
      ],
      "execution_count": 2,
      "outputs": []
    },
    {
      "cell_type": "code",
      "metadata": {
        "id": "cKVH5v7r-RmC"
      },
      "source": [
        "# run this cell to upload file using GUI if you are using google colab\n",
        "\n",
        "from google.colab import files\n",
        "#files.upload()"
      ],
      "execution_count": 3,
      "outputs": []
    },
    {
      "cell_type": "code",
      "metadata": {
        "id": "Gr4YcffYd1FQ",
        "colab": {
          "base_uri": "https://localhost:8080/"
        },
        "outputId": "b3d0a83f-e1c5-4f58-d048-a91b4b8558e9"
      },
      "source": [
        "# run this cell to to mount the google drive if you are using google colab\n",
        "\n",
        "from google.colab import drive\n",
        "drive.mount('/gdrive')\n"
      ],
      "execution_count": 4,
      "outputs": [
        {
          "output_type": "stream",
          "text": [
            "Drive already mounted at /gdrive; to attempt to forcibly remount, call drive.mount(\"/gdrive\", force_remount=True).\n"
          ],
          "name": "stdout"
        }
      ]
    },
    {
      "cell_type": "code",
      "metadata": {
        "id": "xV__0IA3vwmJ"
      },
      "source": [
        "os.chdir('/gdrive/MyDrive/Colab Notebooks')"
      ],
      "execution_count": 5,
      "outputs": []
    },
    {
      "cell_type": "code",
      "metadata": {
        "id": "W-jWYe0zklho"
      },
      "source": [
        "prices = pd.read_csv(\"prices.csv\")"
      ],
      "execution_count": 6,
      "outputs": []
    },
    {
      "cell_type": "code",
      "metadata": {
        "colab": {
          "base_uri": "https://localhost:8080/",
          "height": 204
        },
        "id": "DbfT8f8akqpE",
        "outputId": "79dee99f-277a-425f-d114-d99a4f880cde"
      },
      "source": [
        "prices.head()"
      ],
      "execution_count": 7,
      "outputs": [
        {
          "output_type": "execute_result",
          "data": {
            "text/html": [
              "<div>\n",
              "<style scoped>\n",
              "    .dataframe tbody tr th:only-of-type {\n",
              "        vertical-align: middle;\n",
              "    }\n",
              "\n",
              "    .dataframe tbody tr th {\n",
              "        vertical-align: top;\n",
              "    }\n",
              "\n",
              "    .dataframe thead th {\n",
              "        text-align: right;\n",
              "    }\n",
              "</style>\n",
              "<table border=\"1\" class=\"dataframe\">\n",
              "  <thead>\n",
              "    <tr style=\"text-align: right;\">\n",
              "      <th></th>\n",
              "      <th>date</th>\n",
              "      <th>symbol</th>\n",
              "      <th>open</th>\n",
              "      <th>close</th>\n",
              "      <th>low</th>\n",
              "      <th>high</th>\n",
              "      <th>volume</th>\n",
              "    </tr>\n",
              "  </thead>\n",
              "  <tbody>\n",
              "    <tr>\n",
              "      <th>0</th>\n",
              "      <td>2016-01-05 00:00:00</td>\n",
              "      <td>WLTW</td>\n",
              "      <td>123.430000</td>\n",
              "      <td>125.839996</td>\n",
              "      <td>122.309998</td>\n",
              "      <td>126.250000</td>\n",
              "      <td>2163600.0</td>\n",
              "    </tr>\n",
              "    <tr>\n",
              "      <th>1</th>\n",
              "      <td>2016-01-06 00:00:00</td>\n",
              "      <td>WLTW</td>\n",
              "      <td>125.239998</td>\n",
              "      <td>119.980003</td>\n",
              "      <td>119.940002</td>\n",
              "      <td>125.540001</td>\n",
              "      <td>2386400.0</td>\n",
              "    </tr>\n",
              "    <tr>\n",
              "      <th>2</th>\n",
              "      <td>2016-01-07 00:00:00</td>\n",
              "      <td>WLTW</td>\n",
              "      <td>116.379997</td>\n",
              "      <td>114.949997</td>\n",
              "      <td>114.930000</td>\n",
              "      <td>119.739998</td>\n",
              "      <td>2489500.0</td>\n",
              "    </tr>\n",
              "    <tr>\n",
              "      <th>3</th>\n",
              "      <td>2016-01-08 00:00:00</td>\n",
              "      <td>WLTW</td>\n",
              "      <td>115.480003</td>\n",
              "      <td>116.620003</td>\n",
              "      <td>113.500000</td>\n",
              "      <td>117.440002</td>\n",
              "      <td>2006300.0</td>\n",
              "    </tr>\n",
              "    <tr>\n",
              "      <th>4</th>\n",
              "      <td>2016-01-11 00:00:00</td>\n",
              "      <td>WLTW</td>\n",
              "      <td>117.010002</td>\n",
              "      <td>114.970001</td>\n",
              "      <td>114.089996</td>\n",
              "      <td>117.330002</td>\n",
              "      <td>1408600.0</td>\n",
              "    </tr>\n",
              "  </tbody>\n",
              "</table>\n",
              "</div>"
            ],
            "text/plain": [
              "                  date symbol        open  ...         low        high     volume\n",
              "0  2016-01-05 00:00:00   WLTW  123.430000  ...  122.309998  126.250000  2163600.0\n",
              "1  2016-01-06 00:00:00   WLTW  125.239998  ...  119.940002  125.540001  2386400.0\n",
              "2  2016-01-07 00:00:00   WLTW  116.379997  ...  114.930000  119.739998  2489500.0\n",
              "3  2016-01-08 00:00:00   WLTW  115.480003  ...  113.500000  117.440002  2006300.0\n",
              "4  2016-01-11 00:00:00   WLTW  117.010002  ...  114.089996  117.330002  1408600.0\n",
              "\n",
              "[5 rows x 7 columns]"
            ]
          },
          "metadata": {
            "tags": []
          },
          "execution_count": 7
        }
      ]
    },
    {
      "cell_type": "code",
      "metadata": {
        "colab": {
          "base_uri": "https://localhost:8080/"
        },
        "id": "MBpSqfjFkwLb",
        "outputId": "79797a0b-d2bc-4494-879c-b93b686ee2c5"
      },
      "source": [
        "prices.shape"
      ],
      "execution_count": 8,
      "outputs": [
        {
          "output_type": "execute_result",
          "data": {
            "text/plain": [
              "(851264, 7)"
            ]
          },
          "metadata": {
            "tags": []
          },
          "execution_count": 8
        }
      ]
    },
    {
      "cell_type": "markdown",
      "metadata": {
        "id": "HlLKVPVH_BCT"
      },
      "source": [
        "## Question 2"
      ]
    },
    {
      "cell_type": "markdown",
      "metadata": {
        "id": "ZxoGynuBeO4t"
      },
      "source": [
        "### Drop null\n",
        "- Drop null values if any"
      ]
    },
    {
      "cell_type": "code",
      "metadata": {
        "colab": {
          "base_uri": "https://localhost:8080/"
        },
        "id": "tGdK3_hYl9MI",
        "outputId": "cd4b9fa3-e582-4c9d-90d5-266ba91ca2f0"
      },
      "source": [
        "prices.info()"
      ],
      "execution_count": 9,
      "outputs": [
        {
          "output_type": "stream",
          "text": [
            "<class 'pandas.core.frame.DataFrame'>\n",
            "RangeIndex: 851264 entries, 0 to 851263\n",
            "Data columns (total 7 columns):\n",
            " #   Column  Non-Null Count   Dtype  \n",
            "---  ------  --------------   -----  \n",
            " 0   date    851264 non-null  object \n",
            " 1   symbol  851264 non-null  object \n",
            " 2   open    851264 non-null  float64\n",
            " 3   close   851264 non-null  float64\n",
            " 4   low     851264 non-null  float64\n",
            " 5   high    851264 non-null  float64\n",
            " 6   volume  851264 non-null  float64\n",
            "dtypes: float64(5), object(2)\n",
            "memory usage: 45.5+ MB\n"
          ],
          "name": "stdout"
        }
      ]
    },
    {
      "cell_type": "code",
      "metadata": {
        "colab": {
          "base_uri": "https://localhost:8080/",
          "height": 204
        },
        "id": "EOvdejbOphkE",
        "outputId": "1d0cdfdc-22ab-4c38-94b4-d3272700462f"
      },
      "source": [
        "prices.describe().T"
      ],
      "execution_count": 10,
      "outputs": [
        {
          "output_type": "execute_result",
          "data": {
            "text/html": [
              "<div>\n",
              "<style scoped>\n",
              "    .dataframe tbody tr th:only-of-type {\n",
              "        vertical-align: middle;\n",
              "    }\n",
              "\n",
              "    .dataframe tbody tr th {\n",
              "        vertical-align: top;\n",
              "    }\n",
              "\n",
              "    .dataframe thead th {\n",
              "        text-align: right;\n",
              "    }\n",
              "</style>\n",
              "<table border=\"1\" class=\"dataframe\">\n",
              "  <thead>\n",
              "    <tr style=\"text-align: right;\">\n",
              "      <th></th>\n",
              "      <th>count</th>\n",
              "      <th>mean</th>\n",
              "      <th>std</th>\n",
              "      <th>min</th>\n",
              "      <th>25%</th>\n",
              "      <th>50%</th>\n",
              "      <th>75%</th>\n",
              "      <th>max</th>\n",
              "    </tr>\n",
              "  </thead>\n",
              "  <tbody>\n",
              "    <tr>\n",
              "      <th>open</th>\n",
              "      <td>851264.0</td>\n",
              "      <td>7.083699e+01</td>\n",
              "      <td>8.369588e+01</td>\n",
              "      <td>0.85</td>\n",
              "      <td>3.384000e+01</td>\n",
              "      <td>5.277000e+01</td>\n",
              "      <td>7.988000e+01</td>\n",
              "      <td>1.584440e+03</td>\n",
              "    </tr>\n",
              "    <tr>\n",
              "      <th>close</th>\n",
              "      <td>851264.0</td>\n",
              "      <td>7.085711e+01</td>\n",
              "      <td>8.368969e+01</td>\n",
              "      <td>0.86</td>\n",
              "      <td>3.385000e+01</td>\n",
              "      <td>5.280000e+01</td>\n",
              "      <td>7.989000e+01</td>\n",
              "      <td>1.578130e+03</td>\n",
              "    </tr>\n",
              "    <tr>\n",
              "      <th>low</th>\n",
              "      <td>851264.0</td>\n",
              "      <td>7.011841e+01</td>\n",
              "      <td>8.287729e+01</td>\n",
              "      <td>0.83</td>\n",
              "      <td>3.348000e+01</td>\n",
              "      <td>5.223000e+01</td>\n",
              "      <td>7.911000e+01</td>\n",
              "      <td>1.549940e+03</td>\n",
              "    </tr>\n",
              "    <tr>\n",
              "      <th>high</th>\n",
              "      <td>851264.0</td>\n",
              "      <td>7.154348e+01</td>\n",
              "      <td>8.446550e+01</td>\n",
              "      <td>0.88</td>\n",
              "      <td>3.419000e+01</td>\n",
              "      <td>5.331000e+01</td>\n",
              "      <td>8.061000e+01</td>\n",
              "      <td>1.600930e+03</td>\n",
              "    </tr>\n",
              "    <tr>\n",
              "      <th>volume</th>\n",
              "      <td>851264.0</td>\n",
              "      <td>5.415113e+06</td>\n",
              "      <td>1.249468e+07</td>\n",
              "      <td>0.00</td>\n",
              "      <td>1.221500e+06</td>\n",
              "      <td>2.476250e+06</td>\n",
              "      <td>5.222500e+06</td>\n",
              "      <td>8.596434e+08</td>\n",
              "    </tr>\n",
              "  </tbody>\n",
              "</table>\n",
              "</div>"
            ],
            "text/plain": [
              "           count          mean  ...           75%           max\n",
              "open    851264.0  7.083699e+01  ...  7.988000e+01  1.584440e+03\n",
              "close   851264.0  7.085711e+01  ...  7.989000e+01  1.578130e+03\n",
              "low     851264.0  7.011841e+01  ...  7.911000e+01  1.549940e+03\n",
              "high    851264.0  7.154348e+01  ...  8.061000e+01  1.600930e+03\n",
              "volume  851264.0  5.415113e+06  ...  5.222500e+06  8.596434e+08\n",
              "\n",
              "[5 rows x 8 columns]"
            ]
          },
          "metadata": {
            "tags": []
          },
          "execution_count": 10
        }
      ]
    },
    {
      "cell_type": "code",
      "metadata": {
        "id": "_yuwJJIeeUaD",
        "colab": {
          "base_uri": "https://localhost:8080/"
        },
        "outputId": "49d70d9f-3bc1-4985-b374-5567f851d303"
      },
      "source": [
        "prices.isnull().any().sum()"
      ],
      "execution_count": 11,
      "outputs": [
        {
          "output_type": "execute_result",
          "data": {
            "text/plain": [
              "0"
            ]
          },
          "metadata": {
            "tags": []
          },
          "execution_count": 11
        }
      ]
    },
    {
      "cell_type": "code",
      "metadata": {
        "colab": {
          "base_uri": "https://localhost:8080/"
        },
        "id": "LMfozcFkqN9Y",
        "outputId": "f0bc54a3-f745-4983-d098-3561e2738381"
      },
      "source": [
        "prices.isna().any().sum()"
      ],
      "execution_count": 12,
      "outputs": [
        {
          "output_type": "execute_result",
          "data": {
            "text/plain": [
              "0"
            ]
          },
          "metadata": {
            "tags": []
          },
          "execution_count": 12
        }
      ]
    },
    {
      "cell_type": "markdown",
      "metadata": {
        "id": "0OtZEPskqQ2d"
      },
      "source": [
        "No Null values present in the data hence not required to drop any data"
      ]
    },
    {
      "cell_type": "markdown",
      "metadata": {
        "id": "9J4BlzVA_gZd"
      },
      "source": [
        "### Drop columns\n",
        "- Now, we don't need \"date\", \"volume\" and \"symbol\" column\n",
        "- drop \"date\", \"volume\" and \"symbol\" column from the data\n"
      ]
    },
    {
      "cell_type": "code",
      "metadata": {
        "id": "IKEK8aEE_Csx"
      },
      "source": [
        "prices.drop({'date','symbol','volume'}, axis =1, inplace = True)"
      ],
      "execution_count": 13,
      "outputs": []
    },
    {
      "cell_type": "code",
      "metadata": {
        "colab": {
          "base_uri": "https://localhost:8080/"
        },
        "id": "Q8qrHIPRrPd3",
        "outputId": "f5894784-e90a-4a51-fa7f-71569db5895e"
      },
      "source": [
        "prices.shape"
      ],
      "execution_count": 14,
      "outputs": [
        {
          "output_type": "execute_result",
          "data": {
            "text/plain": [
              "(851264, 4)"
            ]
          },
          "metadata": {
            "tags": []
          },
          "execution_count": 14
        }
      ]
    },
    {
      "cell_type": "markdown",
      "metadata": {
        "id": "cTPhO6v-AiZt"
      },
      "source": [
        "## Question 3"
      ]
    },
    {
      "cell_type": "markdown",
      "metadata": {
        "id": "SsZXmF3NAkna"
      },
      "source": [
        "### Print the dataframe\n",
        "- print the modified dataframe"
      ]
    },
    {
      "cell_type": "code",
      "metadata": {
        "id": "aKs04iIHAjxN",
        "colab": {
          "base_uri": "https://localhost:8080/",
          "height": 359
        },
        "outputId": "f7ff3cbf-16d7-4a2e-de01-7d3246e11f48"
      },
      "source": [
        "prices.sample(10)"
      ],
      "execution_count": 15,
      "outputs": [
        {
          "output_type": "execute_result",
          "data": {
            "text/html": [
              "<div>\n",
              "<style scoped>\n",
              "    .dataframe tbody tr th:only-of-type {\n",
              "        vertical-align: middle;\n",
              "    }\n",
              "\n",
              "    .dataframe tbody tr th {\n",
              "        vertical-align: top;\n",
              "    }\n",
              "\n",
              "    .dataframe thead th {\n",
              "        text-align: right;\n",
              "    }\n",
              "</style>\n",
              "<table border=\"1\" class=\"dataframe\">\n",
              "  <thead>\n",
              "    <tr style=\"text-align: right;\">\n",
              "      <th></th>\n",
              "      <th>open</th>\n",
              "      <th>close</th>\n",
              "      <th>low</th>\n",
              "      <th>high</th>\n",
              "    </tr>\n",
              "  </thead>\n",
              "  <tbody>\n",
              "    <tr>\n",
              "      <th>262394</th>\n",
              "      <td>17.010000</td>\n",
              "      <td>16.820000</td>\n",
              "      <td>16.820000</td>\n",
              "      <td>17.070000</td>\n",
              "    </tr>\n",
              "    <tr>\n",
              "      <th>104446</th>\n",
              "      <td>73.250000</td>\n",
              "      <td>73.190002</td>\n",
              "      <td>72.750000</td>\n",
              "      <td>73.449997</td>\n",
              "    </tr>\n",
              "    <tr>\n",
              "      <th>374231</th>\n",
              "      <td>103.169998</td>\n",
              "      <td>105.559998</td>\n",
              "      <td>102.500000</td>\n",
              "      <td>105.660004</td>\n",
              "    </tr>\n",
              "    <tr>\n",
              "      <th>740564</th>\n",
              "      <td>38.250000</td>\n",
              "      <td>41.060001</td>\n",
              "      <td>37.590000</td>\n",
              "      <td>41.970001</td>\n",
              "    </tr>\n",
              "    <tr>\n",
              "      <th>6243</th>\n",
              "      <td>61.540001</td>\n",
              "      <td>60.570000</td>\n",
              "      <td>60.279999</td>\n",
              "      <td>62.119999</td>\n",
              "    </tr>\n",
              "    <tr>\n",
              "      <th>422847</th>\n",
              "      <td>24.610001</td>\n",
              "      <td>24.690001</td>\n",
              "      <td>24.520000</td>\n",
              "      <td>24.690001</td>\n",
              "    </tr>\n",
              "    <tr>\n",
              "      <th>395723</th>\n",
              "      <td>21.590000</td>\n",
              "      <td>22.660000</td>\n",
              "      <td>21.490000</td>\n",
              "      <td>22.820000</td>\n",
              "    </tr>\n",
              "    <tr>\n",
              "      <th>98429</th>\n",
              "      <td>63.880001</td>\n",
              "      <td>63.689999</td>\n",
              "      <td>63.310001</td>\n",
              "      <td>64.089996</td>\n",
              "    </tr>\n",
              "    <tr>\n",
              "      <th>92518</th>\n",
              "      <td>35.090000</td>\n",
              "      <td>35.320000</td>\n",
              "      <td>35.020000</td>\n",
              "      <td>35.619999</td>\n",
              "    </tr>\n",
              "    <tr>\n",
              "      <th>259185</th>\n",
              "      <td>27.049998</td>\n",
              "      <td>26.739998</td>\n",
              "      <td>26.620003</td>\n",
              "      <td>27.109995</td>\n",
              "    </tr>\n",
              "  </tbody>\n",
              "</table>\n",
              "</div>"
            ],
            "text/plain": [
              "              open       close         low        high\n",
              "262394   17.010000   16.820000   16.820000   17.070000\n",
              "104446   73.250000   73.190002   72.750000   73.449997\n",
              "374231  103.169998  105.559998  102.500000  105.660004\n",
              "740564   38.250000   41.060001   37.590000   41.970001\n",
              "6243     61.540001   60.570000   60.279999   62.119999\n",
              "422847   24.610001   24.690001   24.520000   24.690001\n",
              "395723   21.590000   22.660000   21.490000   22.820000\n",
              "98429    63.880001   63.689999   63.310001   64.089996\n",
              "92518    35.090000   35.320000   35.020000   35.619999\n",
              "259185   27.049998   26.739998   26.620003   27.109995"
            ]
          },
          "metadata": {
            "tags": []
          },
          "execution_count": 15
        }
      ]
    },
    {
      "cell_type": "markdown",
      "metadata": {
        "id": "C8u_jlbABTip"
      },
      "source": [
        "### Get features and label from the dataset in separate variable\n",
        "- Let's separate labels and features now. We are going to predict the value for \"close\" column so that will be our label. Our features will be \"open\", \"low\", \"high\"\n",
        "- Take \"open\" \"low\", \"high\" columns as features\n",
        "- Take \"close\" column as label"
      ]
    },
    {
      "cell_type": "code",
      "metadata": {
        "id": "xQjCMzUXBJbg",
        "colab": {
          "base_uri": "https://localhost:8080/",
          "height": 204
        },
        "outputId": "3dee66c9-66ea-4d58-a85f-ba7d333716f0"
      },
      "source": [
        "X= prices.drop('close', axis = 1) #independent features\r\n",
        "X.head()"
      ],
      "execution_count": 16,
      "outputs": [
        {
          "output_type": "execute_result",
          "data": {
            "text/html": [
              "<div>\n",
              "<style scoped>\n",
              "    .dataframe tbody tr th:only-of-type {\n",
              "        vertical-align: middle;\n",
              "    }\n",
              "\n",
              "    .dataframe tbody tr th {\n",
              "        vertical-align: top;\n",
              "    }\n",
              "\n",
              "    .dataframe thead th {\n",
              "        text-align: right;\n",
              "    }\n",
              "</style>\n",
              "<table border=\"1\" class=\"dataframe\">\n",
              "  <thead>\n",
              "    <tr style=\"text-align: right;\">\n",
              "      <th></th>\n",
              "      <th>open</th>\n",
              "      <th>low</th>\n",
              "      <th>high</th>\n",
              "    </tr>\n",
              "  </thead>\n",
              "  <tbody>\n",
              "    <tr>\n",
              "      <th>0</th>\n",
              "      <td>123.430000</td>\n",
              "      <td>122.309998</td>\n",
              "      <td>126.250000</td>\n",
              "    </tr>\n",
              "    <tr>\n",
              "      <th>1</th>\n",
              "      <td>125.239998</td>\n",
              "      <td>119.940002</td>\n",
              "      <td>125.540001</td>\n",
              "    </tr>\n",
              "    <tr>\n",
              "      <th>2</th>\n",
              "      <td>116.379997</td>\n",
              "      <td>114.930000</td>\n",
              "      <td>119.739998</td>\n",
              "    </tr>\n",
              "    <tr>\n",
              "      <th>3</th>\n",
              "      <td>115.480003</td>\n",
              "      <td>113.500000</td>\n",
              "      <td>117.440002</td>\n",
              "    </tr>\n",
              "    <tr>\n",
              "      <th>4</th>\n",
              "      <td>117.010002</td>\n",
              "      <td>114.089996</td>\n",
              "      <td>117.330002</td>\n",
              "    </tr>\n",
              "  </tbody>\n",
              "</table>\n",
              "</div>"
            ],
            "text/plain": [
              "         open         low        high\n",
              "0  123.430000  122.309998  126.250000\n",
              "1  125.239998  119.940002  125.540001\n",
              "2  116.379997  114.930000  119.739998\n",
              "3  115.480003  113.500000  117.440002\n",
              "4  117.010002  114.089996  117.330002"
            ]
          },
          "metadata": {
            "tags": []
          },
          "execution_count": 16
        }
      ]
    },
    {
      "cell_type": "code",
      "metadata": {
        "colab": {
          "base_uri": "https://localhost:8080/"
        },
        "id": "2vRFXLf0tVNo",
        "outputId": "b1d2eb03-f50c-405c-ca07-958e72bec102"
      },
      "source": [
        "y= prices['close'] #target feature\r\n",
        "y.head()"
      ],
      "execution_count": 17,
      "outputs": [
        {
          "output_type": "execute_result",
          "data": {
            "text/plain": [
              "0    125.839996\n",
              "1    119.980003\n",
              "2    114.949997\n",
              "3    116.620003\n",
              "4    114.970001\n",
              "Name: close, dtype: float64"
            ]
          },
          "metadata": {
            "tags": []
          },
          "execution_count": 17
        }
      ]
    },
    {
      "cell_type": "markdown",
      "metadata": {
        "id": "6vGtnapgBIJm"
      },
      "source": [
        "## Question 4"
      ]
    },
    {
      "cell_type": "markdown",
      "metadata": {
        "id": "8pZAKdJ5gcrm"
      },
      "source": [
        "### Create train and test sets\n",
        "- Split the data into training and testing"
      ]
    },
    {
      "cell_type": "code",
      "metadata": {
        "id": "KalRqA6Rgqsn"
      },
      "source": [
        "(X_train,X_test,y_train,y_test)=train_test_split(X,y,test_size = 0.3, random_state = 85)"
      ],
      "execution_count": 18,
      "outputs": []
    },
    {
      "cell_type": "code",
      "metadata": {
        "colab": {
          "base_uri": "https://localhost:8080/"
        },
        "id": "IWlQ6S8Iue4Y",
        "outputId": "c30577aa-43a4-494a-9685-7a2b0b0c9c0f"
      },
      "source": [
        "print('X train shape:', X_train.shape)\r\n",
        "print('y train shape:', y_train.shape)\r\n",
        "print('X test shape:', X_test.shape)\r\n",
        "print('y test shape:', y_test.shape)"
      ],
      "execution_count": 19,
      "outputs": [
        {
          "output_type": "stream",
          "text": [
            "X train shape: (595884, 3)\n",
            "y train shape: (595884,)\n",
            "X test shape: (255380, 3)\n",
            "y test shape: (255380,)\n"
          ],
          "name": "stdout"
        }
      ]
    },
    {
      "cell_type": "markdown",
      "metadata": {
        "id": "aTAKzlxZBz0z"
      },
      "source": [
        "## Question 5"
      ]
    },
    {
      "cell_type": "markdown",
      "metadata": {
        "id": "O7BU2qxEg0Ki"
      },
      "source": [
        "### Scaling\n",
        "- Scale the data (features only)\n",
        "- Use StandarScaler"
      ]
    },
    {
      "cell_type": "code",
      "metadata": {
        "id": "AcO8SlhPhBkR"
      },
      "source": [
        "from sklearn.preprocessing import StandardScaler\r\n",
        "sc = StandardScaler()"
      ],
      "execution_count": 20,
      "outputs": []
    },
    {
      "cell_type": "code",
      "metadata": {
        "id": "dXGHgXgpyFgQ"
      },
      "source": [
        "scaledX_train = sc.fit_transform(X_train)\r\n",
        "scaledX_test = sc.transform(X_test)"
      ],
      "execution_count": 21,
      "outputs": []
    },
    {
      "cell_type": "code",
      "metadata": {
        "colab": {
          "base_uri": "https://localhost:8080/"
        },
        "id": "eX-f_Zoky17u",
        "outputId": "ca267e16-8c04-42ff-ab46-48cc25409927"
      },
      "source": [
        "scaledX_train"
      ],
      "execution_count": 22,
      "outputs": [
        {
          "output_type": "execute_result",
          "data": {
            "text/plain": [
              "array([[ 0.0385793 ,  0.03265052,  0.04765766],\n",
              "       [ 0.37150912,  0.37228696,  0.36875515],\n",
              "       [-0.36340625, -0.36740602, -0.36835551],\n",
              "       ...,\n",
              "       [-0.5087109 , -0.50580332, -0.50651177],\n",
              "       [ 0.50854147,  0.51964433,  0.50441675],\n",
              "       [-0.49996043, -0.49720785, -0.50199899]])"
            ]
          },
          "metadata": {
            "tags": []
          },
          "execution_count": 22
        }
      ]
    },
    {
      "cell_type": "code",
      "metadata": {
        "colab": {
          "base_uri": "https://localhost:8080/"
        },
        "id": "O1tQ_CaoLMZ9",
        "outputId": "408add97-7c73-44a7-fddc-1c9182131e91"
      },
      "source": [
        "scaledX_test"
      ],
      "execution_count": 23,
      "outputs": [
        {
          "output_type": "execute_result",
          "data": {
            "text/plain": [
              "array([[ 2.11744274,  2.124956  ,  2.0945799 ],\n",
              "       [ 1.9010443 ,  1.92383797,  1.91805348],\n",
              "       [-0.27133202, -0.27162976, -0.27676611],\n",
              "       ...,\n",
              "       [ 0.15583006,  0.14779999,  0.15183909],\n",
              "       [-0.21234699, -0.20890903, -0.21594406],\n",
              "       [-0.22937111, -0.22319676, -0.21297423]])"
            ]
          },
          "metadata": {
            "tags": []
          },
          "execution_count": 23
        }
      ]
    },
    {
      "cell_type": "markdown",
      "metadata": {
        "id": "3TWpN0nVTpUx"
      },
      "source": [
        "## Question 6"
      ]
    },
    {
      "cell_type": "markdown",
      "metadata": {
        "id": "_sj0LYNkhR-L"
      },
      "source": [
        "### Convert data to NumPy array\n",
        "- Convert features and labels to numpy array"
      ]
    },
    {
      "cell_type": "code",
      "metadata": {
        "id": "X6mIfuTxhbTT",
        "colab": {
          "base_uri": "https://localhost:8080/"
        },
        "outputId": "8ed89bf7-e11d-4823-f648-d93bd82a2e20"
      },
      "source": [
        "print (type(scaledX_train))\r\n",
        "print (type(scaledX_test))\r\n",
        "print (type(y_train))\r\n",
        "print (type(y_test))"
      ],
      "execution_count": 24,
      "outputs": [
        {
          "output_type": "stream",
          "text": [
            "<class 'numpy.ndarray'>\n",
            "<class 'numpy.ndarray'>\n",
            "<class 'pandas.core.series.Series'>\n",
            "<class 'pandas.core.series.Series'>\n"
          ],
          "name": "stdout"
        }
      ]
    },
    {
      "cell_type": "code",
      "metadata": {
        "id": "GjzjUnKmB3ji"
      },
      "source": [
        "y_train = np.array(y_train)\r\n",
        "y_test = np.array(y_test)"
      ],
      "execution_count": 25,
      "outputs": []
    },
    {
      "cell_type": "markdown",
      "metadata": {
        "id": "wmXUGc2oTspa"
      },
      "source": [
        "## Question 7"
      ]
    },
    {
      "cell_type": "markdown",
      "metadata": {
        "id": "cl2M9whFh6mh"
      },
      "source": [
        "### Define Model\n",
        "- Initialize a Sequential model\n",
        "- Add a Flatten layer\n",
        "- Add a Dense layer with one neuron as output\n",
        "  - add 'linear' as activation function\n"
      ]
    },
    {
      "cell_type": "code",
      "metadata": {
        "id": "TkiBpORmiegL"
      },
      "source": [
        "from tensorflow.keras.models import Sequential\r\n",
        "from tensorflow.keras.layers import Flatten, Dense"
      ],
      "execution_count": 26,
      "outputs": []
    },
    {
      "cell_type": "code",
      "metadata": {
        "id": "hNdTrqwmGhLt"
      },
      "source": [
        "model = Sequential()\r\n",
        "model.add(Flatten())\r\n",
        "model.add(Dense(1,activation = 'linear'))\r\n",
        "\r\n",
        "#model = Sequential(Flatten(), Dense(1,activation = 'linear')) # Alternate"
      ],
      "execution_count": 27,
      "outputs": []
    },
    {
      "cell_type": "markdown",
      "metadata": {
        "id": "8a0wr94aTyjg"
      },
      "source": [
        "## Question 8"
      ]
    },
    {
      "cell_type": "markdown",
      "metadata": {
        "id": "BNZPb5lKioX0"
      },
      "source": [
        "### Compile the model\n",
        "- Compile the model\n",
        "- Use \"sgd\" optimizer\n",
        "- for calculating loss, use mean squared error"
      ]
    },
    {
      "cell_type": "code",
      "metadata": {
        "id": "ZEQUP3VaiuT2"
      },
      "source": [
        "model.compile(optimizer='sgd', loss = 'mean_squared_error')"
      ],
      "execution_count": 28,
      "outputs": []
    },
    {
      "cell_type": "markdown",
      "metadata": {
        "id": "ZbBpnOtfT0wd"
      },
      "source": [
        "## Question 9"
      ]
    },
    {
      "cell_type": "markdown",
      "metadata": {
        "id": "n9o45OHdjDhA"
      },
      "source": [
        "### Fit the model\n",
        "- epochs: 50\n",
        "- batch size: 128\n",
        "- specify validation data"
      ]
    },
    {
      "cell_type": "code",
      "metadata": {
        "id": "-Y6tA30XjOH2",
        "colab": {
          "base_uri": "https://localhost:8080/"
        },
        "outputId": "81e2d149-6f64-4dec-a3a0-2217e0f8d1b4"
      },
      "source": [
        "model.fit(x = scaledX_train, y = y_train, batch_size=128, epochs = 50, validation_data = (scaledX_test, y_test))"
      ],
      "execution_count": 29,
      "outputs": [
        {
          "output_type": "stream",
          "text": [
            "Epoch 1/50\n",
            "4656/4656 [==============================] - 9s 2ms/step - loss: 249.8832 - val_loss: 0.9637\n",
            "Epoch 2/50\n",
            "4656/4656 [==============================] - 9s 2ms/step - loss: 0.9766 - val_loss: 0.9534\n",
            "Epoch 3/50\n",
            "4656/4656 [==============================] - 8s 2ms/step - loss: 0.9905 - val_loss: 0.9435\n",
            "Epoch 4/50\n",
            "4656/4656 [==============================] - 8s 2ms/step - loss: 0.9489 - val_loss: 0.9394\n",
            "Epoch 5/50\n",
            "4656/4656 [==============================] - 8s 2ms/step - loss: 0.9469 - val_loss: 0.9462\n",
            "Epoch 6/50\n",
            "4656/4656 [==============================] - 8s 2ms/step - loss: 0.9545 - val_loss: 0.9250\n",
            "Epoch 7/50\n",
            "4656/4656 [==============================] - 8s 2ms/step - loss: 0.9467 - val_loss: 0.9178\n",
            "Epoch 8/50\n",
            "4656/4656 [==============================] - 9s 2ms/step - loss: 0.9303 - val_loss: 0.9084\n",
            "Epoch 9/50\n",
            "4656/4656 [==============================] - 8s 2ms/step - loss: 0.9365 - val_loss: 0.9290\n",
            "Epoch 10/50\n",
            "4656/4656 [==============================] - 8s 2ms/step - loss: 0.9154 - val_loss: 0.9001\n",
            "Epoch 11/50\n",
            "4656/4656 [==============================] - 8s 2ms/step - loss: 0.9182 - val_loss: 0.8954\n",
            "Epoch 12/50\n",
            "4656/4656 [==============================] - 8s 2ms/step - loss: 0.9110 - val_loss: 0.8840\n",
            "Epoch 13/50\n",
            "4656/4656 [==============================] - 8s 2ms/step - loss: 0.9276 - val_loss: 0.8918\n",
            "Epoch 14/50\n",
            "4656/4656 [==============================] - 8s 2ms/step - loss: 0.9205 - val_loss: 0.8723\n",
            "Epoch 15/50\n",
            "4656/4656 [==============================] - 8s 2ms/step - loss: 0.8980 - val_loss: 0.8751\n",
            "Epoch 16/50\n",
            "4656/4656 [==============================] - 8s 2ms/step - loss: 0.8892 - val_loss: 0.8603\n",
            "Epoch 17/50\n",
            "4656/4656 [==============================] - 8s 2ms/step - loss: 0.8849 - val_loss: 0.8577\n",
            "Epoch 18/50\n",
            "4656/4656 [==============================] - 8s 2ms/step - loss: 0.8836 - val_loss: 0.8489\n",
            "Epoch 19/50\n",
            "4656/4656 [==============================] - 8s 2ms/step - loss: 0.8806 - val_loss: 0.8531\n",
            "Epoch 20/50\n",
            "4656/4656 [==============================] - 8s 2ms/step - loss: 0.8583 - val_loss: 0.9246\n",
            "Epoch 21/50\n",
            "4656/4656 [==============================] - 8s 2ms/step - loss: 0.8530 - val_loss: 0.8664\n",
            "Epoch 22/50\n",
            "4656/4656 [==============================] - 8s 2ms/step - loss: 0.8555 - val_loss: 0.8278\n",
            "Epoch 23/50\n",
            "4656/4656 [==============================] - 8s 2ms/step - loss: 0.8850 - val_loss: 0.8241\n",
            "Epoch 24/50\n",
            "4656/4656 [==============================] - 8s 2ms/step - loss: 0.8665 - val_loss: 0.8166\n",
            "Epoch 25/50\n",
            "4656/4656 [==============================] - 8s 2ms/step - loss: 0.8578 - val_loss: 0.8117\n",
            "Epoch 26/50\n",
            "4656/4656 [==============================] - 8s 2ms/step - loss: 0.8279 - val_loss: 0.8215\n",
            "Epoch 27/50\n",
            "4656/4656 [==============================] - 8s 2ms/step - loss: 0.8187 - val_loss: 0.8092\n",
            "Epoch 28/50\n",
            "4656/4656 [==============================] - 8s 2ms/step - loss: 0.8213 - val_loss: 0.8922\n",
            "Epoch 29/50\n",
            "4656/4656 [==============================] - 8s 2ms/step - loss: 0.8160 - val_loss: 0.8425\n",
            "Epoch 30/50\n",
            "4656/4656 [==============================] - 8s 2ms/step - loss: 0.8244 - val_loss: 0.8528\n",
            "Epoch 31/50\n",
            "4656/4656 [==============================] - 8s 2ms/step - loss: 0.8336 - val_loss: 0.7832\n",
            "Epoch 32/50\n",
            "4656/4656 [==============================] - 8s 2ms/step - loss: 0.8234 - val_loss: 0.7895\n",
            "Epoch 33/50\n",
            "4656/4656 [==============================] - 8s 2ms/step - loss: 0.8047 - val_loss: 0.7764\n",
            "Epoch 34/50\n",
            "4656/4656 [==============================] - 8s 2ms/step - loss: 0.7861 - val_loss: 0.7694\n",
            "Epoch 35/50\n",
            "4656/4656 [==============================] - 8s 2ms/step - loss: 0.8008 - val_loss: 0.7639\n",
            "Epoch 36/50\n",
            "4656/4656 [==============================] - 8s 2ms/step - loss: 0.7995 - val_loss: 0.7721\n",
            "Epoch 37/50\n",
            "4656/4656 [==============================] - 8s 2ms/step - loss: 0.7991 - val_loss: 0.7651\n",
            "Epoch 38/50\n",
            "4656/4656 [==============================] - 8s 2ms/step - loss: 0.7795 - val_loss: 0.7644\n",
            "Epoch 39/50\n",
            "4656/4656 [==============================] - 9s 2ms/step - loss: 0.7947 - val_loss: 0.7720\n",
            "Epoch 40/50\n",
            "4656/4656 [==============================] - 8s 2ms/step - loss: 0.7649 - val_loss: 0.7417\n",
            "Epoch 41/50\n",
            "4656/4656 [==============================] - 8s 2ms/step - loss: 0.7896 - val_loss: 0.7564\n",
            "Epoch 42/50\n",
            "4656/4656 [==============================] - 8s 2ms/step - loss: 0.7532 - val_loss: 0.7351\n",
            "Epoch 43/50\n",
            "4656/4656 [==============================] - 8s 2ms/step - loss: 0.7474 - val_loss: 0.7425\n",
            "Epoch 44/50\n",
            "4656/4656 [==============================] - 8s 2ms/step - loss: 0.7487 - val_loss: 0.7274\n",
            "Epoch 45/50\n",
            "4656/4656 [==============================] - 9s 2ms/step - loss: 0.7473 - val_loss: 0.7293\n",
            "Epoch 46/50\n",
            "4656/4656 [==============================] - 8s 2ms/step - loss: 0.7421 - val_loss: 0.7194\n",
            "Epoch 47/50\n",
            "4656/4656 [==============================] - 8s 2ms/step - loss: 0.7488 - val_loss: 0.7233\n",
            "Epoch 48/50\n",
            "4656/4656 [==============================] - 8s 2ms/step - loss: 0.7297 - val_loss: 0.7178\n",
            "Epoch 49/50\n",
            "4656/4656 [==============================] - 8s 2ms/step - loss: 0.7306 - val_loss: 0.7390\n",
            "Epoch 50/50\n",
            "4656/4656 [==============================] - 8s 2ms/step - loss: 0.7318 - val_loss: 0.7022\n"
          ],
          "name": "stdout"
        },
        {
          "output_type": "execute_result",
          "data": {
            "text/plain": [
              "<tensorflow.python.keras.callbacks.History at 0x7faa4035d198>"
            ]
          },
          "metadata": {
            "tags": []
          },
          "execution_count": 29
        }
      ]
    },
    {
      "cell_type": "markdown",
      "metadata": {
        "id": "AW4SEP8kT2ls"
      },
      "source": [
        "## Question 10"
      ]
    },
    {
      "cell_type": "markdown",
      "metadata": {
        "id": "EJDoix_7JU61"
      },
      "source": [
        "### Evaluate the model\n",
        "- Evaluate the model on test data"
      ]
    },
    {
      "cell_type": "code",
      "metadata": {
        "id": "HdH8pYBIjHGL"
      },
      "source": [
        "scores = model.evaluate(scaledX_test, y_test, verbose =0)\r\n"
      ],
      "execution_count": 31,
      "outputs": []
    },
    {
      "cell_type": "code",
      "metadata": {
        "colab": {
          "base_uri": "https://localhost:8080/"
        },
        "id": "O3_EMZt5rHn_",
        "outputId": "168050b0-0206-49b6-b64f-4ce767a92f4a"
      },
      "source": [
        "print(\"Accuracy:%.2f\" %(scores*100))"
      ],
      "execution_count": 39,
      "outputs": [
        {
          "output_type": "stream",
          "text": [
            "Accuracy:70.22\n"
          ],
          "name": "stdout"
        }
      ]
    },
    {
      "cell_type": "markdown",
      "metadata": {
        "id": "hUpDD74Xjh01"
      },
      "source": [
        "### Manual predictions\n",
        "- Test the predictions on manual inputs\n",
        "- We have scaled out training data, so we need to transform our custom inputs using the object of the scaler\n",
        "- Example of manual input: [123.430000,\t122.30999, 116.250000]"
      ]
    },
    {
      "cell_type": "code",
      "metadata": {
        "id": "fvuH-c31lLiJ"
      },
      "source": [
        "open = 123.430000\r\n",
        "low =  122.30999\r\n",
        "high = 116.250000"
      ],
      "execution_count": 40,
      "outputs": []
    },
    {
      "cell_type": "code",
      "metadata": {
        "colab": {
          "base_uri": "https://localhost:8080/"
        },
        "id": "Of1OnhebM3Fp",
        "outputId": "911601e3-7eca-4d01-b4a2-16a77dacb776"
      },
      "source": [
        "model.predict(sc.transform([[open,low,high]]))"
      ],
      "execution_count": 41,
      "outputs": [
        {
          "output_type": "execute_result",
          "data": {
            "text/plain": [
              "array([[119.81947]], dtype=float32)"
            ]
          },
          "metadata": {
            "tags": []
          },
          "execution_count": 41
        }
      ]
    },
    {
      "cell_type": "markdown",
      "metadata": {
        "id": "4WH1Pr4KQlCh"
      },
      "source": [
        "# Build a DNN"
      ]
    },
    {
      "cell_type": "markdown",
      "metadata": {
        "id": "74cQBsi5QlCw"
      },
      "source": [
        "### Collect Fashion mnist data from tf.keras.datasets "
      ]
    },
    {
      "cell_type": "code",
      "metadata": {
        "id": "wVWy0oDTr2Kj"
      },
      "source": [
        "import tensorflow as tf\r\n",
        "import matplotlib.pyplot as plt\r\n",
        "from tensorflow.keras import layers\r\n",
        "from tensorflow.keras.models import Sequential\r\n",
        "from tensorflow.keras.layers import Flatten, Dense ,Input"
      ],
      "execution_count": 42,
      "outputs": []
    },
    {
      "cell_type": "code",
      "metadata": {
        "id": "5ANwpyBIPRKn"
      },
      "source": [
        "(trainX,trainY),(testX,testY) = tf.keras.datasets.fashion_mnist.load_data()\r\n",
        "testY_O = testY"
      ],
      "execution_count": 43,
      "outputs": []
    },
    {
      "cell_type": "code",
      "metadata": {
        "colab": {
          "base_uri": "https://localhost:8080/",
          "height": 282
        },
        "id": "0hjfsWdAlLsl",
        "outputId": "2a4c549c-381a-4f86-8215-272cffe3141e"
      },
      "source": [
        "plt.imshow(trainX[1])"
      ],
      "execution_count": 44,
      "outputs": [
        {
          "output_type": "execute_result",
          "data": {
            "text/plain": [
              "<matplotlib.image.AxesImage at 0x7fa9d6814080>"
            ]
          },
          "metadata": {
            "tags": []
          },
          "execution_count": 44
        },
        {
          "output_type": "display_data",
          "data": {
            "image/png": "[encoded data removed]",
            "text/plain": [
              "<Figure size 432x288 with 1 Axes>"
            ]
          },
          "metadata": {
            "tags": [],
            "needs_background": "light"
          }
        }
      ]
    },
    {
      "cell_type": "code",
      "metadata": {
        "colab": {
          "base_uri": "https://localhost:8080/"
        },
        "id": "kIdoCHUoPkiH",
        "outputId": "c175d7e4-8926-4c69-e1d4-ea459a55b6da"
      },
      "source": [
        "print('X train shape:',trainX.shape)\r\n",
        "print('X test shape:',testX.shape)\r\n",
        "print('y train shape:',trainY.shape)\r\n",
        "print('y test shape:',testY.shape)"
      ],
      "execution_count": 45,
      "outputs": [
        {
          "output_type": "stream",
          "text": [
            "X train shape: (60000, 28, 28)\n",
            "X test shape: (10000, 28, 28)\n",
            "y train shape: (60000,)\n",
            "y test shape: (10000,)\n"
          ],
          "name": "stdout"
        }
      ]
    },
    {
      "cell_type": "markdown",
      "metadata": {
        "id": "no7aWYZyQlC1"
      },
      "source": [
        "### Change train and test labels into one-hot vectors"
      ]
    },
    {
      "cell_type": "code",
      "metadata": {
        "id": "UX6otc4wQlC2",
        "colab": {
          "base_uri": "https://localhost:8080/"
        },
        "outputId": "cc6d70b5-69cc-4b2b-be8f-1952d74f47b1"
      },
      "source": [
        "testY"
      ],
      "execution_count": 46,
      "outputs": [
        {
          "output_type": "execute_result",
          "data": {
            "text/plain": [
              "array([9, 2, 1, ..., 8, 1, 5], dtype=uint8)"
            ]
          },
          "metadata": {
            "tags": []
          },
          "execution_count": 46
        }
      ]
    },
    {
      "cell_type": "code",
      "metadata": {
        "colab": {
          "base_uri": "https://localhost:8080/"
        },
        "id": "CRlRlUx4Ru9f",
        "outputId": "b6cb3a29-fda0-4b69-cc3a-63af05d86c7c"
      },
      "source": [
        "trainY"
      ],
      "execution_count": 47,
      "outputs": [
        {
          "output_type": "execute_result",
          "data": {
            "text/plain": [
              "array([9, 0, 0, ..., 3, 0, 5], dtype=uint8)"
            ]
          },
          "metadata": {
            "tags": []
          },
          "execution_count": 47
        }
      ]
    },
    {
      "cell_type": "code",
      "metadata": {
        "id": "ObnltwBiSGFu"
      },
      "source": [
        "testY = tf.keras.utils.to_categorical(testY)"
      ],
      "execution_count": 48,
      "outputs": []
    },
    {
      "cell_type": "code",
      "metadata": {
        "colab": {
          "base_uri": "https://localhost:8080/"
        },
        "id": "BMFkhHsNSfOO",
        "outputId": "0adfd04c-f991-4d41-cd4f-77da50e8651a"
      },
      "source": [
        "testY"
      ],
      "execution_count": 49,
      "outputs": [
        {
          "output_type": "execute_result",
          "data": {
            "text/plain": [
              "array([[0., 0., 0., ..., 0., 0., 1.],\n",
              "       [0., 0., 1., ..., 0., 0., 0.],\n",
              "       [0., 1., 0., ..., 0., 0., 0.],\n",
              "       ...,\n",
              "       [0., 0., 0., ..., 0., 1., 0.],\n",
              "       [0., 1., 0., ..., 0., 0., 0.],\n",
              "       [0., 0., 0., ..., 0., 0., 0.]], dtype=float32)"
            ]
          },
          "metadata": {
            "tags": []
          },
          "execution_count": 49
        }
      ]
    },
    {
      "cell_type": "code",
      "metadata": {
        "id": "nJ7sjgTOShf8"
      },
      "source": [
        "trainY = tf.keras.utils.to_categorical(trainY)"
      ],
      "execution_count": 50,
      "outputs": []
    },
    {
      "cell_type": "code",
      "metadata": {
        "colab": {
          "base_uri": "https://localhost:8080/"
        },
        "id": "etHlKrnRSnlw",
        "outputId": "57cde104-74da-4bd8-d9c4-4d6559fa576e"
      },
      "source": [
        "trainY"
      ],
      "execution_count": 51,
      "outputs": [
        {
          "output_type": "execute_result",
          "data": {
            "text/plain": [
              "array([[0., 0., 0., ..., 0., 0., 1.],\n",
              "       [1., 0., 0., ..., 0., 0., 0.],\n",
              "       [1., 0., 0., ..., 0., 0., 0.],\n",
              "       ...,\n",
              "       [0., 0., 0., ..., 0., 0., 0.],\n",
              "       [1., 0., 0., ..., 0., 0., 0.],\n",
              "       [0., 0., 0., ..., 0., 0., 0.]], dtype=float32)"
            ]
          },
          "metadata": {
            "tags": []
          },
          "execution_count": 51
        }
      ]
    },
    {
      "cell_type": "markdown",
      "metadata": {
        "id": "QjNrRTdoQlC5"
      },
      "source": [
        "### Build the Graph"
      ]
    },
    {
      "cell_type": "markdown",
      "metadata": {
        "id": "CDJ9DHVNQlC7"
      },
      "source": [
        "### Initialize model, reshape & normalize data"
      ]
    },
    {
      "cell_type": "code",
      "metadata": {
        "id": "pCDQs_g1QlC8"
      },
      "source": [
        "model_1 = Sequential()\r\n",
        "model_1.add(tf.keras.layers.Reshape((784,),input_shape=(28,28)))\r\n",
        "model_1.add(tf.keras.layers.BatchNormalization())"
      ],
      "execution_count": 52,
      "outputs": []
    },
    {
      "cell_type": "code",
      "metadata": {
        "colab": {
          "base_uri": "https://localhost:8080/"
        },
        "id": "m-VfLIx1V4bI",
        "outputId": "e76e40d0-fd50-44b2-a5e5-c13df667c0e5"
      },
      "source": [
        "model_1.summary()"
      ],
      "execution_count": 53,
      "outputs": [
        {
          "output_type": "stream",
          "text": [
            "Model: \"sequential_1\"\n",
            "_________________________________________________________________\n",
            "Layer (type)                 Output Shape              Param #   \n",
            "=================================================================\n",
            "reshape (Reshape)            (None, 784)               0         \n",
            "_________________________________________________________________\n",
            "batch_normalization (BatchNo (None, 784)               3136      \n",
            "=================================================================\n",
            "Total params: 3,136\n",
            "Trainable params: 1,568\n",
            "Non-trainable params: 1,568\n",
            "_________________________________________________________________\n"
          ],
          "name": "stdout"
        }
      ]
    },
    {
      "cell_type": "markdown",
      "metadata": {
        "id": "kBGwTTilQlDD"
      },
      "source": [
        "### Add two fully connected layers with 200 and 100 neurons respectively with `relu` activations. Add a dropout layer with `p=0.25`"
      ]
    },
    {
      "cell_type": "code",
      "metadata": {
        "id": "IXbfpfOzQlDF"
      },
      "source": [
        "model_1.add(Dense(200, activation='relu'))\r\n",
        "model_1.add(Dense(100, activation='relu')) \r\n",
        "model_1.add(layers.Dropout(0.25))"
      ],
      "execution_count": 54,
      "outputs": []
    },
    {
      "cell_type": "markdown",
      "metadata": {
        "id": "5I8f5otcQlDJ"
      },
      "source": [
        "### Add the output layer with a fully connected layer with 10 neurons with `softmax` activation. Use `categorical_crossentropy` loss and `adam` optimizer and train the network. And, report the final validation.\n",
        "\n",
        "###Also add callback, such that if validation loss doesn't decreases consecutively 2 times, stop the training"
      ]
    },
    {
      "cell_type": "code",
      "metadata": {
        "id": "JZkvKymSd0Sr"
      },
      "source": [
        "model_1.add(Dense(10,activation='softmax'))"
      ],
      "execution_count": 55,
      "outputs": []
    },
    {
      "cell_type": "code",
      "metadata": {
        "id": "a9OXu1FHWl7X"
      },
      "source": [
        "early_stop = tf.keras.callbacks.EarlyStopping(patience = 2, monitor ='val_loss')"
      ],
      "execution_count": 56,
      "outputs": []
    },
    {
      "cell_type": "code",
      "metadata": {
        "id": "Y60VpG8rXC9W"
      },
      "source": [
        "model_1.compile(optimizer ='adam', loss = 'categorical_crossentropy', metrics = 'accuracy')"
      ],
      "execution_count": 57,
      "outputs": []
    },
    {
      "cell_type": "markdown",
      "metadata": {
        "id": "foL4GTKfRnkF"
      },
      "source": [
        "### Print model summary"
      ]
    },
    {
      "cell_type": "code",
      "metadata": {
        "id": "BhoNWO83vwmK",
        "colab": {
          "base_uri": "https://localhost:8080/"
        },
        "outputId": "cb85fec0-888d-41a1-9468-8088136906e4"
      },
      "source": [
        "model_1.summary()"
      ],
      "execution_count": 58,
      "outputs": [
        {
          "output_type": "stream",
          "text": [
            "Model: \"sequential_1\"\n",
            "_________________________________________________________________\n",
            "Layer (type)                 Output Shape              Param #   \n",
            "=================================================================\n",
            "reshape (Reshape)            (None, 784)               0         \n",
            "_________________________________________________________________\n",
            "batch_normalization (BatchNo (None, 784)               3136      \n",
            "_________________________________________________________________\n",
            "dense_1 (Dense)              (None, 200)               157000    \n",
            "_________________________________________________________________\n",
            "dense_2 (Dense)              (None, 100)               20100     \n",
            "_________________________________________________________________\n",
            "dropout (Dropout)            (None, 100)               0         \n",
            "_________________________________________________________________\n",
            "dense_3 (Dense)              (None, 10)                1010      \n",
            "=================================================================\n",
            "Total params: 181,246\n",
            "Trainable params: 179,678\n",
            "Non-trainable params: 1,568\n",
            "_________________________________________________________________\n"
          ],
          "name": "stdout"
        }
      ]
    },
    {
      "cell_type": "markdown",
      "metadata": {
        "id": "Ld9xHnSbRv1T"
      },
      "source": [
        "###Train your model, use test data as validation set"
      ]
    },
    {
      "cell_type": "code",
      "metadata": {
        "id": "WSiMhJPpk3GO",
        "colab": {
          "base_uri": "https://localhost:8080/"
        },
        "outputId": "e9454b72-c422-4807-b297-5b115b634433"
      },
      "source": [
        "history = model_1.fit(trainX,trainY,validation_data=(testX,testY),epochs=20,batch_size=32,callbacks=[early_stop])"
      ],
      "execution_count": 60,
      "outputs": [
        {
          "output_type": "stream",
          "text": [
            "Epoch 1/20\n",
            "1875/1875 [==============================] - 5s 3ms/step - loss: 0.6282 - accuracy: 0.7767 - val_loss: 0.4211 - val_accuracy: 0.8438\n",
            "Epoch 2/20\n",
            "1875/1875 [==============================] - 5s 3ms/step - loss: 0.4013 - accuracy: 0.8525 - val_loss: 0.3942 - val_accuracy: 0.8586\n",
            "Epoch 3/20\n",
            "1875/1875 [==============================] - 5s 3ms/step - loss: 0.3598 - accuracy: 0.8663 - val_loss: 0.3685 - val_accuracy: 0.8661\n",
            "Epoch 4/20\n",
            "1875/1875 [==============================] - 5s 3ms/step - loss: 0.3329 - accuracy: 0.8751 - val_loss: 0.3499 - val_accuracy: 0.8759\n",
            "Epoch 5/20\n",
            "1875/1875 [==============================] - 5s 3ms/step - loss: 0.3126 - accuracy: 0.8842 - val_loss: 0.3623 - val_accuracy: 0.8721\n",
            "Epoch 6/20\n",
            "1875/1875 [==============================] - 5s 3ms/step - loss: 0.3009 - accuracy: 0.8871 - val_loss: 0.3479 - val_accuracy: 0.8789\n",
            "Epoch 7/20\n",
            "1875/1875 [==============================] - 5s 3ms/step - loss: 0.2827 - accuracy: 0.8942 - val_loss: 0.3593 - val_accuracy: 0.8791\n",
            "Epoch 8/20\n",
            "1875/1875 [==============================] - 5s 3ms/step - loss: 0.2744 - accuracy: 0.8976 - val_loss: 0.3463 - val_accuracy: 0.8815\n",
            "Epoch 9/20\n",
            "1875/1875 [==============================] - 5s 3ms/step - loss: 0.2597 - accuracy: 0.9027 - val_loss: 0.3657 - val_accuracy: 0.8832\n",
            "Epoch 10/20\n",
            "1875/1875 [==============================] - 5s 3ms/step - loss: 0.2544 - accuracy: 0.9040 - val_loss: 0.3773 - val_accuracy: 0.8856\n"
          ],
          "name": "stdout"
        }
      ]
    },
    {
      "cell_type": "markdown",
      "metadata": {
        "id": "2K2w_Oq5RzZx"
      },
      "source": [
        "###Predict Labels"
      ]
    },
    {
      "cell_type": "code",
      "metadata": {
        "id": "UL76FU4lRz6n",
        "colab": {
          "base_uri": "https://localhost:8080/"
        },
        "outputId": "d68271bd-fd22-4335-b176-155baad78e92"
      },
      "source": [
        "model_1.predict(testX)"
      ],
      "execution_count": 61,
      "outputs": [
        {
          "output_type": "execute_result",
          "data": {
            "text/plain": [
              "array([[1.9291597e-09, 5.6044973e-12, 1.3275754e-10, ..., 7.8942431e-03,\n",
              "        1.9346869e-09, 9.9164647e-01],\n",
              "       [8.1147050e-07, 9.8872065e-17, 9.9964345e-01, ..., 5.0230381e-22,\n",
              "        1.0895003e-13, 2.3210049e-24],\n",
              "       [7.8862253e-21, 1.0000000e+00, 4.6197559e-23, ..., 7.5065146e-35,\n",
              "        8.8109467e-30, 1.8040368e-30],\n",
              "       ...,\n",
              "       [6.5704002e-09, 3.0411424e-12, 2.1852658e-08, ..., 6.0844020e-15,\n",
              "        9.9999952e-01, 4.2061554e-16],\n",
              "       [2.2174260e-18, 1.0000000e+00, 1.6081259e-18, ..., 1.5811103e-20,\n",
              "        6.1391019e-22, 1.2053492e-19],\n",
              "       [2.5601886e-07, 3.2054573e-10, 2.7278963e-07, ..., 2.0222904e-02,\n",
              "        2.1417011e-06, 9.4230854e-05]], dtype=float32)"
            ]
          },
          "metadata": {
            "tags": []
          },
          "execution_count": 61
        }
      ]
    },
    {
      "cell_type": "code",
      "metadata": {
        "id": "39zNnUiudbpV"
      },
      "source": [
        "y_pred = np.argmax(model_1.predict(testX), axis=-1)"
      ],
      "execution_count": 62,
      "outputs": []
    },
    {
      "cell_type": "code",
      "metadata": {
        "colab": {
          "base_uri": "https://localhost:8080/"
        },
        "id": "5nN_F7cldmRE",
        "outputId": "1345d062-1f71-453a-e090-a053057474c5"
      },
      "source": [
        "y_pred"
      ],
      "execution_count": 63,
      "outputs": [
        {
          "output_type": "execute_result",
          "data": {
            "text/plain": [
              "array([9, 2, 1, ..., 8, 1, 5])"
            ]
          },
          "metadata": {
            "tags": []
          },
          "execution_count": 63
        }
      ]
    },
    {
      "cell_type": "markdown",
      "metadata": {
        "id": "BXPFIBBRR0mO"
      },
      "source": [
        "###Print Confusion matrix"
      ]
    },
    {
      "cell_type": "code",
      "metadata": {
        "id": "hlR4qXJ7R3yT",
        "colab": {
          "base_uri": "https://localhost:8080/"
        },
        "outputId": "55b93fd0-07ac-4eba-e61b-cf770a8bf867"
      },
      "source": [
        "from sklearn.metrics import confusion_matrix\r\n",
        "confusion_matrix(testY_O,y_pred)"
      ],
      "execution_count": 64,
      "outputs": [
        {
          "output_type": "execute_result",
          "data": {
            "text/plain": [
              "array([[871,   3,  17,  36,   4,   0,  64,   1,   3,   1],\n",
              "       [  0, 973,   1,  20,   1,   0,   5,   0,   0,   0],\n",
              "       [ 18,   0, 777,  15, 118,   1,  71,   0,   0,   0],\n",
              "       [ 17,   8,   6, 930,  21,   0,  14,   0,   4,   0],\n",
              "       [  0,   1,  69,  44, 821,   0,  64,   0,   1,   0],\n",
              "       [  0,   0,   0,   0,   0, 958,   0,  26,   0,  16],\n",
              "       [139,   2,  74,  42,  63,   0, 672,   0,   8,   0],\n",
              "       [  0,   0,   0,   0,   0,  17,   0, 951,   0,  32],\n",
              "       [  7,   0,  12,   6,   6,   3,  14,   4, 948,   0],\n",
              "       [  1,   0,   0,   0,   0,  11,   2,  31,   0, 955]])"
            ]
          },
          "metadata": {
            "tags": []
          },
          "execution_count": 64
        }
      ]
    },
    {
      "cell_type": "markdown",
      "metadata": {
        "id": "-xMY7tsqR4Z6"
      },
      "source": [
        "###Plot training accuracy vs validation accuracy\n",
        "###Plot training loss vs validation loss"
      ]
    },
    {
      "cell_type": "code",
      "metadata": {
        "id": "q3irwsgFR-Uu",
        "colab": {
          "base_uri": "https://localhost:8080/",
          "height": 573
        },
        "outputId": "fdfdce23-0095-414e-ecbd-7da314f47fb6"
      },
      "source": [
        "plt.plot(history.history['accuracy'])\r\n",
        "plt.plot(history.history['val_accuracy'])\r\n",
        "plt.title('model accuracy')\r\n",
        "plt.ylabel('accuracy')\r\n",
        "plt.xlabel('epoch')\r\n",
        "plt.legend(['train', 'test'], loc='upper left')\r\n",
        "plt.show()\r\n",
        "# summarize history for loss\r\n",
        "plt.plot(history.history['loss'])\r\n",
        "plt.plot(history.history['val_loss'])\r\n",
        "plt.title('model loss')\r\n",
        "plt.ylabel('loss')\r\n",
        "plt.xlabel('epoch')\r\n",
        "plt.legend(['train', 'test'], loc='upper left')\r\n",
        "plt.show()\r\n"
      ],
      "execution_count": 65,
      "outputs": [
        {
          "output_type": "display_data",
          "data": {
            "image/png": "[encoded data removed]",
            "text/plain": [
              "<Figure size 432x288 with 1 Axes>"
            ]
          },
          "metadata": {
            "tags": [],
            "needs_background": "light"
          }
        },
        {
          "output_type": "display_data",
          "data": {
            "image/png": "[encoded data removed]",
            "text/plain": [
              "<Figure size 432x288 with 1 Axes>"
            ]
          },
          "metadata": {
            "tags": [],
            "needs_background": "light"
          }
        }
      ]
    }
  ]
}