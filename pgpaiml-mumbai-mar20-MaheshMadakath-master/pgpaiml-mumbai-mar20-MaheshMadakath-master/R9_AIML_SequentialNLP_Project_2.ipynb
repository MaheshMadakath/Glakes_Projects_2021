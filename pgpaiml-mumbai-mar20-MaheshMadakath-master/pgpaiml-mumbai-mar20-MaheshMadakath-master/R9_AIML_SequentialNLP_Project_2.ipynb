{
  "nbformat": 4,
  "nbformat_minor": 0,
  "metadata": {
    "colab": {
      "name": "R9 AIML SequentialNLP Project-2.ipynb",
      "provenance": [],
      "collapsed_sections": [],
      "machine_shape": "hm"
    },
    "kernelspec": {
      "name": "python3",
      "display_name": "Python 3"
    },
    "language_info": {
      "name": "python"
    },
    "accelerator": "GPU"
  },
  "cells": [
    {
      "cell_type": "markdown",
      "metadata": {
        "id": "nheDQ7EGbZZl"
      },
      "source": [
        "### R9 AIML Sequential NLP Project-2\n",
        "#### Domain - Social media analytics.\n",
        "#### Project - Build a sequential NLP classifier which can use input text parameters to determine the customer sentiments."
      ]
    },
    {
      "cell_type": "markdown",
      "metadata": {
        "id": "W_6hxM34hAFh"
      },
      "source": [
        "DATA DESCRIPTION: Content: Each record consists of three attributes:\n",
        "is_sarcastic: 1 if the record is sarcastic otherwise 0\n",
        "headline: the headline of the news article\n",
        "article_link: link to the original news article. Useful in collecting supplementary data\n",
        "Reference: https://github.com/rishabhmisra/News-Headlines-Dataset-For-Sarcasm-Detection"
      ]
    },
    {
      "cell_type": "code",
      "metadata": {
        "id": "unM5vHeDhJo_"
      },
      "source": [
        "#Import libraries\n",
        "import os\n",
        "%matplotlib inline\n",
        "import matplotlib.pyplot as plt # Data Visualization\n",
        "import pandas as pd # Data processing\n",
        "import seaborn as sns # Data Visualization\n",
        "import numpy as np # Linear Algebra\n",
        "import tensorflow as tf #Tensor Flow\n",
        "from sklearn import preprocessing #preprocessing libraries from sklearn\n",
        "\n",
        "# Ignore the warnings\n",
        "import warnings\n",
        "warnings.filterwarnings(\"ignore\")\n",
        "\n",
        "#Import libraries for this project\n",
        "from tensorflow.keras.preprocessing import sequence\n",
        "from tensorflow.keras.models import Sequential\n",
        "from tensorflow.keras.layers import Embedding, LSTM, Dense, Dropout, Flatten\n"
      ],
      "execution_count": 42,
      "outputs": []
    },
    {
      "cell_type": "markdown",
      "metadata": {
        "id": "dwHeuPOasBSz"
      },
      "source": [
        "#### STEP1. Read and explore the data"
      ]
    },
    {
      "cell_type": "code",
      "metadata": {
        "id": "toydycdhrfAz"
      },
      "source": [
        "path  = \"https://raw.githubusercontent.com/rishabhmisra/News-Headlines-Dataset-For-Sarcasm-Detection/master/Sarcasm_Headlines_Dataset.json\""
      ],
      "execution_count": 43,
      "outputs": []
    },
    {
      "cell_type": "code",
      "metadata": {
        "id": "yImrByu5rmyL"
      },
      "source": [
        "dataset = pd.read_json(path, lines=True)"
      ],
      "execution_count": 44,
      "outputs": []
    },
    {
      "cell_type": "code",
      "metadata": {
        "colab": {
          "base_uri": "https://localhost:8080/",
          "height": 419
        },
        "id": "U63vKjgLrz_0",
        "outputId": "b3ca48bf-27cb-4762-e752-fc7de00fbfb7"
      },
      "source": [
        "dataset"
      ],
      "execution_count": 45,
      "outputs": [
        {
          "output_type": "execute_result",
          "data": {
            "text/html": [
              "<div>\n",
              "<style scoped>\n",
              "    .dataframe tbody tr th:only-of-type {\n",
              "        vertical-align: middle;\n",
              "    }\n",
              "\n",
              "    .dataframe tbody tr th {\n",
              "        vertical-align: top;\n",
              "    }\n",
              "\n",
              "    .dataframe thead th {\n",
              "        text-align: right;\n",
              "    }\n",
              "</style>\n",
              "<table border=\"1\" class=\"dataframe\">\n",
              "  <thead>\n",
              "    <tr style=\"text-align: right;\">\n",
              "      <th></th>\n",
              "      <th>is_sarcastic</th>\n",
              "      <th>headline</th>\n",
              "      <th>article_link</th>\n",
              "    </tr>\n",
              "  </thead>\n",
              "  <tbody>\n",
              "    <tr>\n",
              "      <th>0</th>\n",
              "      <td>1</td>\n",
              "      <td>thirtysomething scientists unveil doomsday clo...</td>\n",
              "      <td>https://www.theonion.com/thirtysomething-scien...</td>\n",
              "    </tr>\n",
              "    <tr>\n",
              "      <th>1</th>\n",
              "      <td>0</td>\n",
              "      <td>dem rep. totally nails why congress is falling...</td>\n",
              "      <td>https://www.huffingtonpost.com/entry/donna-edw...</td>\n",
              "    </tr>\n",
              "    <tr>\n",
              "      <th>2</th>\n",
              "      <td>0</td>\n",
              "      <td>eat your veggies: 9 deliciously different recipes</td>\n",
              "      <td>https://www.huffingtonpost.com/entry/eat-your-...</td>\n",
              "    </tr>\n",
              "    <tr>\n",
              "      <th>3</th>\n",
              "      <td>1</td>\n",
              "      <td>inclement weather prevents liar from getting t...</td>\n",
              "      <td>https://local.theonion.com/inclement-weather-p...</td>\n",
              "    </tr>\n",
              "    <tr>\n",
              "      <th>4</th>\n",
              "      <td>1</td>\n",
              "      <td>mother comes pretty close to using word 'strea...</td>\n",
              "      <td>https://www.theonion.com/mother-comes-pretty-c...</td>\n",
              "    </tr>\n",
              "    <tr>\n",
              "      <th>...</th>\n",
              "      <td>...</td>\n",
              "      <td>...</td>\n",
              "      <td>...</td>\n",
              "    </tr>\n",
              "    <tr>\n",
              "      <th>28614</th>\n",
              "      <td>1</td>\n",
              "      <td>jews to celebrate rosh hashasha or something</td>\n",
              "      <td>https://www.theonion.com/jews-to-celebrate-ros...</td>\n",
              "    </tr>\n",
              "    <tr>\n",
              "      <th>28615</th>\n",
              "      <td>1</td>\n",
              "      <td>internal affairs investigator disappointed con...</td>\n",
              "      <td>https://local.theonion.com/internal-affairs-in...</td>\n",
              "    </tr>\n",
              "    <tr>\n",
              "      <th>28616</th>\n",
              "      <td>0</td>\n",
              "      <td>the most beautiful acceptance speech this week...</td>\n",
              "      <td>https://www.huffingtonpost.com/entry/andrew-ah...</td>\n",
              "    </tr>\n",
              "    <tr>\n",
              "      <th>28617</th>\n",
              "      <td>1</td>\n",
              "      <td>mars probe destroyed by orbiting spielberg-gat...</td>\n",
              "      <td>https://www.theonion.com/mars-probe-destroyed-...</td>\n",
              "    </tr>\n",
              "    <tr>\n",
              "      <th>28618</th>\n",
              "      <td>1</td>\n",
              "      <td>dad clarifies this not a food stop</td>\n",
              "      <td>https://www.theonion.com/dad-clarifies-this-no...</td>\n",
              "    </tr>\n",
              "  </tbody>\n",
              "</table>\n",
              "<p>28619 rows × 3 columns</p>\n",
              "</div>"
            ],
            "text/plain": [
              "       is_sarcastic  ...                                       article_link\n",
              "0                 1  ...  https://www.theonion.com/thirtysomething-scien...\n",
              "1                 0  ...  https://www.huffingtonpost.com/entry/donna-edw...\n",
              "2                 0  ...  https://www.huffingtonpost.com/entry/eat-your-...\n",
              "3                 1  ...  https://local.theonion.com/inclement-weather-p...\n",
              "4                 1  ...  https://www.theonion.com/mother-comes-pretty-c...\n",
              "...             ...  ...                                                ...\n",
              "28614             1  ...  https://www.theonion.com/jews-to-celebrate-ros...\n",
              "28615             1  ...  https://local.theonion.com/internal-affairs-in...\n",
              "28616             0  ...  https://www.huffingtonpost.com/entry/andrew-ah...\n",
              "28617             1  ...  https://www.theonion.com/mars-probe-destroyed-...\n",
              "28618             1  ...  https://www.theonion.com/dad-clarifies-this-no...\n",
              "\n",
              "[28619 rows x 3 columns]"
            ]
          },
          "metadata": {
            "tags": []
          },
          "execution_count": 45
        }
      ]
    },
    {
      "cell_type": "code",
      "metadata": {
        "colab": {
          "base_uri": "https://localhost:8080/"
        },
        "id": "psiy1lfbsFrD",
        "outputId": "fbe71258-c3c1-4f80-8529-1f3df7fa3bb1"
      },
      "source": [
        "print(\"This dataset has \", dataset.shape[0], \"rows and \", dataset.shape[1],\"columns\")"
      ],
      "execution_count": 46,
      "outputs": [
        {
          "output_type": "stream",
          "text": [
            "This dataset has  28619 rows and  3 columns\n"
          ],
          "name": "stdout"
        }
      ]
    },
    {
      "cell_type": "markdown",
      "metadata": {
        "id": "TbmdiTN7uRZt"
      },
      "source": [
        "#### STEP2. Retain relevant columns"
      ]
    },
    {
      "cell_type": "code",
      "metadata": {
        "id": "NahMWbt1uQdb"
      },
      "source": [
        "#remove article link as it is not relevant for our analysis\n",
        "dataset.drop(columns= \"article_link\", axis = 1, inplace=True)"
      ],
      "execution_count": 47,
      "outputs": []
    },
    {
      "cell_type": "code",
      "metadata": {
        "colab": {
          "base_uri": "https://localhost:8080/"
        },
        "id": "nKZj5JxyuGPB",
        "outputId": "669c3c46-d2ba-4fee-c786-52d13005e5b1"
      },
      "source": [
        "#check any null values\n",
        "dataset.info()"
      ],
      "execution_count": 48,
      "outputs": [
        {
          "output_type": "stream",
          "text": [
            "<class 'pandas.core.frame.DataFrame'>\n",
            "RangeIndex: 28619 entries, 0 to 28618\n",
            "Data columns (total 2 columns):\n",
            " #   Column        Non-Null Count  Dtype \n",
            "---  ------        --------------  ----- \n",
            " 0   is_sarcastic  28619 non-null  int64 \n",
            " 1   headline      28619 non-null  object\n",
            "dtypes: int64(1), object(1)\n",
            "memory usage: 447.3+ KB\n"
          ],
          "name": "stdout"
        }
      ]
    },
    {
      "cell_type": "code",
      "metadata": {
        "colab": {
          "base_uri": "https://localhost:8080/",
          "height": 111
        },
        "id": "Qmi6yeizvHKg",
        "outputId": "bd4ad7c8-42dd-4e4d-d9d9-23745b739dc9"
      },
      "source": [
        "#check data distribution and object column unique data\n",
        "dataset.describe(include='all').T"
      ],
      "execution_count": 49,
      "outputs": [
        {
          "output_type": "execute_result",
          "data": {
            "text/html": [
              "<div>\n",
              "<style scoped>\n",
              "    .dataframe tbody tr th:only-of-type {\n",
              "        vertical-align: middle;\n",
              "    }\n",
              "\n",
              "    .dataframe tbody tr th {\n",
              "        vertical-align: top;\n",
              "    }\n",
              "\n",
              "    .dataframe thead th {\n",
              "        text-align: right;\n",
              "    }\n",
              "</style>\n",
              "<table border=\"1\" class=\"dataframe\">\n",
              "  <thead>\n",
              "    <tr style=\"text-align: right;\">\n",
              "      <th></th>\n",
              "      <th>count</th>\n",
              "      <th>unique</th>\n",
              "      <th>top</th>\n",
              "      <th>freq</th>\n",
              "      <th>mean</th>\n",
              "      <th>std</th>\n",
              "      <th>min</th>\n",
              "      <th>25%</th>\n",
              "      <th>50%</th>\n",
              "      <th>75%</th>\n",
              "      <th>max</th>\n",
              "    </tr>\n",
              "  </thead>\n",
              "  <tbody>\n",
              "    <tr>\n",
              "      <th>is_sarcastic</th>\n",
              "      <td>28619</td>\n",
              "      <td>NaN</td>\n",
              "      <td>NaN</td>\n",
              "      <td>NaN</td>\n",
              "      <td>0.476397</td>\n",
              "      <td>0.499451</td>\n",
              "      <td>0</td>\n",
              "      <td>0</td>\n",
              "      <td>0</td>\n",
              "      <td>1</td>\n",
              "      <td>1</td>\n",
              "    </tr>\n",
              "    <tr>\n",
              "      <th>headline</th>\n",
              "      <td>28619</td>\n",
              "      <td>28503</td>\n",
              "      <td>'no way to prevent this,' says only nation whe...</td>\n",
              "      <td>12</td>\n",
              "      <td>NaN</td>\n",
              "      <td>NaN</td>\n",
              "      <td>NaN</td>\n",
              "      <td>NaN</td>\n",
              "      <td>NaN</td>\n",
              "      <td>NaN</td>\n",
              "      <td>NaN</td>\n",
              "    </tr>\n",
              "  </tbody>\n",
              "</table>\n",
              "</div>"
            ],
            "text/plain": [
              "              count unique  ...  75%  max\n",
              "is_sarcastic  28619    NaN  ...    1    1\n",
              "headline      28619  28503  ...  NaN  NaN\n",
              "\n",
              "[2 rows x 11 columns]"
            ]
          },
          "metadata": {
            "tags": []
          },
          "execution_count": 49
        }
      ]
    },
    {
      "cell_type": "markdown",
      "metadata": {
        "id": "Lk-atpztv_oh"
      },
      "source": [
        "* Mean is 47%, data is fairly distributed between two classes.\n",
        "* Repeat headline is present as unique count is less than the dataset row count"
      ]
    },
    {
      "cell_type": "code",
      "metadata": {
        "id": "UmeG1uILxZTY"
      },
      "source": [
        "# remove duplicates\n",
        "dataset.drop_duplicates(inplace=True)"
      ],
      "execution_count": 50,
      "outputs": []
    },
    {
      "cell_type": "code",
      "metadata": {
        "colab": {
          "base_uri": "https://localhost:8080/"
        },
        "id": "tT57FaX8xiPn",
        "outputId": "aebb293a-6476-40bf-f7a4-37bb0443de6e"
      },
      "source": [
        "print(\"After duplicates removal this dataset has \", dataset.shape[0], \"rows and \", dataset.shape[1],\"columns\")"
      ],
      "execution_count": 51,
      "outputs": [
        {
          "output_type": "stream",
          "text": [
            "After duplicates removal this dataset has  28503 rows and  2 columns\n"
          ],
          "name": "stdout"
        }
      ]
    },
    {
      "cell_type": "code",
      "metadata": {
        "colab": {
          "base_uri": "https://localhost:8080/"
        },
        "id": "fM7I2_mQv82l",
        "outputId": "107e6635-0e7e-47be-c0a2-8cf7fdf75328"
      },
      "source": [
        "print(\"Dataset has \",dataset.is_sarcastic.value_counts()[1] ,\"headlines marked as sarcastic and remaining \",dataset.is_sarcastic.value_counts()[0],\" headlines as otherwise\")"
      ],
      "execution_count": 52,
      "outputs": [
        {
          "output_type": "stream",
          "text": [
            "Dataset has  13552 headlines marked as sarcastic and remaining  14951  headlines as otherwise\n"
          ],
          "name": "stdout"
        }
      ]
    },
    {
      "cell_type": "markdown",
      "metadata": {
        "id": "UGanGIKsC3qF"
      },
      "source": [
        "#### STEP3. Get length of each sentence"
      ]
    },
    {
      "cell_type": "code",
      "metadata": {
        "id": "WBKGIz3xzOd8"
      },
      "source": [
        "dataset['length']=dataset['headline'].apply(lambda x: len(x.split()))"
      ],
      "execution_count": 53,
      "outputs": []
    },
    {
      "cell_type": "code",
      "metadata": {
        "colab": {
          "base_uri": "https://localhost:8080/"
        },
        "id": "HzhmWGFI2Ilr",
        "outputId": "f8b73428-5d04-4188-9434-c1f613b17e58"
      },
      "source": [
        "dataset['length'].describe()"
      ],
      "execution_count": 54,
      "outputs": [
        {
          "output_type": "execute_result",
          "data": {
            "text/plain": [
              "count    28503.000000\n",
              "mean        10.060871\n",
              "std          3.385275\n",
              "min          2.000000\n",
              "25%          8.000000\n",
              "50%         10.000000\n",
              "75%         12.000000\n",
              "max        151.000000\n",
              "Name: length, dtype: float64"
            ]
          },
          "metadata": {
            "tags": []
          },
          "execution_count": 54
        }
      ]
    },
    {
      "cell_type": "markdown",
      "metadata": {
        "id": "RasZaOBI2Xl4"
      },
      "source": [
        "* Sentence with minimum length is 2 words\n",
        "* Sentence with maximum length is 151 words\n",
        "* Sentences is having average length is 10 words"
      ]
    },
    {
      "cell_type": "markdown",
      "metadata": {
        "id": "DPybMnMY2zXL"
      },
      "source": [
        "#### STEP4. Define parameters"
      ]
    },
    {
      "cell_type": "code",
      "metadata": {
        "id": "pVBFltp45map"
      },
      "source": [
        "max_features = 35000\n",
        "maxlen = 200\n",
        "embedding_size = 100\n"
      ],
      "execution_count": 55,
      "outputs": []
    },
    {
      "cell_type": "markdown",
      "metadata": {
        "id": "d6bYn5Ie3Ry6"
      },
      "source": [
        "#### STEP5. Get indices for words"
      ]
    },
    {
      "cell_type": "code",
      "metadata": {
        "colab": {
          "base_uri": "https://localhost:8080/"
        },
        "id": "lVLxepNi7aLo",
        "outputId": "917852f0-4d2a-4fc1-8ce3-95b00525ec36"
      },
      "source": [
        "from tensorflow.keras.preprocessing.text import Tokenizer\n",
        "token = Tokenizer(num_words = max_features)\n",
        "## Fit on Text data\n",
        "token.fit_on_texts(dataset['headline'])\n",
        "## Convert to Sequences \n",
        "X = token.texts_to_sequences(dataset['headline'])\n",
        "\n",
        "# Get max training sequence length\n",
        "maxlen = max([len(x) for x in X])\n",
        "\n",
        "print(\"Max length : \",maxlen,'\\n')\n",
        "\n",
        "print(\"Num of samples:\" , len(X), '\\n')\n",
        "\n",
        "print(\"Num of words:\" , len(token.word_index))"
      ],
      "execution_count": 69,
      "outputs": [
        {
          "output_type": "stream",
          "text": [
            "Max length :  152 \n",
            "\n",
            "Num of samples: 28503 \n",
            "\n",
            "Num of words: 30884\n"
          ],
          "name": "stdout"
        }
      ]
    },
    {
      "cell_type": "markdown",
      "metadata": {
        "id": "NvKeXtH33Xie"
      },
      "source": [
        "#### STEP6. Create features and labels"
      ]
    },
    {
      "cell_type": "code",
      "metadata": {
        "id": "nvkaPQJW8IXu"
      },
      "source": [
        "from tensorflow.keras.preprocessing.sequence import pad_sequences\n",
        "X = pad_sequences( X,padding='pre',maxlen = maxlen)\n",
        "y = np.asarray(dataset['is_sarcastic'])"
      ],
      "execution_count": null,
      "outputs": []
    },
    {
      "cell_type": "code",
      "metadata": {
        "colab": {
          "base_uri": "https://localhost:8080/"
        },
        "id": "uOY4IBSv8nTq",
        "outputId": "d68ab5fb-a7fa-42fa-90fb-4bae91a48030"
      },
      "source": [
        "print(\"Shape of feature set\", X.shape)\n",
        "print(\"Shape of label set\",y.shape)"
      ],
      "execution_count": null,
      "outputs": [
        {
          "output_type": "stream",
          "text": [
            "Shape of feature set (28503, 152)\n",
            "Shape of label set (28503,)\n"
          ],
          "name": "stdout"
        }
      ]
    },
    {
      "cell_type": "code",
      "metadata": {
        "id": "QwUE1pfFQHHD"
      },
      "source": [
        "from sklearn.model_selection import train_test_split\n",
        "X_train,X_test,y_train, y_test = train_test_split(X, y, test_size = 0.3)"
      ],
      "execution_count": null,
      "outputs": []
    },
    {
      "cell_type": "markdown",
      "metadata": {
        "id": "bpACdEuO3aWm"
      },
      "source": [
        "#### STEP7. Get vocabulary size"
      ]
    },
    {
      "cell_type": "code",
      "metadata": {
        "colab": {
          "base_uri": "https://localhost:8080/"
        },
        "id": "uB87ueA09D3Q",
        "outputId": "4dd38579-4752-4179-eaef-b3a99a3731dd"
      },
      "source": [
        "num_words = len(token.word_index) + 1\n",
        "print(\" Vocabulary Size :\", num_words)"
      ],
      "execution_count": null,
      "outputs": [
        {
          "output_type": "stream",
          "text": [
            " Vocabulary Size : 30885\n"
          ],
          "name": "stdout"
        }
      ]
    },
    {
      "cell_type": "markdown",
      "metadata": {
        "id": "K78eampt3cYj"
      },
      "source": [
        "#### STEP8. Create a weight matrix using GloVe embeddings"
      ]
    },
    {
      "cell_type": "code",
      "metadata": {
        "colab": {
          "base_uri": "https://localhost:8080/"
        },
        "id": "LfCQaKBmInbj",
        "outputId": "c3077f58-d2f0-4506-c177-1bf83365a512"
      },
      "source": [
        "from google.colab import drive\n",
        "drive.mount('/content/drive')"
      ],
      "execution_count": null,
      "outputs": [
        {
          "output_type": "stream",
          "text": [
            "Drive already mounted at /content/drive; to attempt to forcibly remount, call drive.mount(\"/content/drive\", force_remount=True).\n"
          ],
          "name": "stdout"
        }
      ]
    },
    {
      "cell_type": "code",
      "metadata": {
        "id": "3F8iksqwGboC"
      },
      "source": [
        "#from zipfile import ZipFile\n",
        "#with ZipFile('/content/drive/MyDrive/glove.twitter.27B.100d.txt.zip','r') as z:\n",
        "#  z.extractall()"
      ],
      "execution_count": null,
      "outputs": []
    },
    {
      "cell_type": "code",
      "metadata": {
        "colab": {
          "base_uri": "https://localhost:8080/"
        },
        "id": "2KET8eeWJllb",
        "outputId": "28c31f11-af1d-44ad-9d08-56f18ef9fd43"
      },
      "source": [
        "!ls -ltr"
      ],
      "execution_count": null,
      "outputs": [
        {
          "output_type": "stream",
          "text": [
            "total 1036960\n",
            "drwx------ 5 root root       4096 May 31 15:55 drive\n",
            "-rw-r--r-- 1 root root 1021669379 May 31 15:57 glove.twitter.27B.100d.txt\n",
            "-rw-r--r-- 1 root root   40164632 May 31 16:35 lstm.h5\n"
          ],
          "name": "stdout"
        }
      ]
    },
    {
      "cell_type": "code",
      "metadata": {
        "id": "FotzRgQxJ__n"
      },
      "source": [
        "embedding_file = \"/content/glove.twitter.27B.100d.txt\"\n",
        "embedding = {}\n",
        "\n",
        "for o in open(embedding_file):\n",
        "    word = o.split(\" \")[0]\n",
        "    embd = np.asarray(o.split(\" \")[1:] , dtype = 'float32')\n",
        "    embedding[word] = embd\n"
      ],
      "execution_count": null,
      "outputs": []
    },
    {
      "cell_type": "code",
      "metadata": {
        "colab": {
          "base_uri": "https://localhost:8080/"
        },
        "id": "PlUcqOhPKJxU",
        "outputId": "8c75281d-25c6-4dac-f114-f26c1ac033c1"
      },
      "source": [
        "len(embedding)"
      ],
      "execution_count": null,
      "outputs": [
        {
          "output_type": "execute_result",
          "data": {
            "text/plain": [
              "1193514"
            ]
          },
          "metadata": {
            "tags": []
          },
          "execution_count": 24
        }
      ]
    },
    {
      "cell_type": "code",
      "metadata": {
        "id": "jRY-nBKLKLSi"
      },
      "source": [
        "embedding_matrix = np.zeros((num_words,100))\n",
        "\n",
        "for word,i in token.word_index.items():\n",
        "  if word in embedding.keys():\n",
        "    embedding_matrix[i] = embedding[word]"
      ],
      "execution_count": null,
      "outputs": []
    },
    {
      "cell_type": "code",
      "metadata": {
        "colab": {
          "base_uri": "https://localhost:8080/"
        },
        "id": "YzNoD-G3Kdgy",
        "outputId": "5561cf59-e539-4593-dee2-bca60edfd1d8"
      },
      "source": [
        "embedding_matrix.shape"
      ],
      "execution_count": null,
      "outputs": [
        {
          "output_type": "execute_result",
          "data": {
            "text/plain": [
              "(30885, 100)"
            ]
          },
          "metadata": {
            "tags": []
          },
          "execution_count": 26
        }
      ]
    },
    {
      "cell_type": "markdown",
      "metadata": {
        "id": "jX84F2lD3eg8"
      },
      "source": [
        "#### STEP9. Define and compile a Bidirectional LSTM model"
      ]
    },
    {
      "cell_type": "code",
      "metadata": {
        "colab": {
          "base_uri": "https://localhost:8080/"
        },
        "id": "JpFrdQBXLrnB",
        "outputId": "eaef78fe-d42c-4ec3-9045-358246fadebb"
      },
      "source": [
        "from tensorflow.keras.layers import Embedding, Bidirectional\n",
        "#Defining Neural Network\n",
        "model = Sequential()\n",
        "\n",
        "#Trainable embeddidng layer (We retain the pretrained glove embedding matrix with our data)\n",
        "model.add(Embedding(input_dim=num_words, output_dim=embedding_size, weights=[embedding_matrix], input_length=152, trainable=True))\n",
        "#LSTM \n",
        "model.add(tf.keras.layers.Bidirectional(tf.keras.layers.LSTM(units=128,dropout = 0.5)))\n",
        "\n",
        "# latent space\n",
        "model.add(tf.keras.layers.Dense( units=64, activation='relu'))\n",
        "model.add(Dropout(0.5))\n",
        "model.add(tf.keras.layers.Dense( units=32, activation='relu'))\n",
        "model.add(Dropout(0.5))\n",
        "\n",
        "# In decoder secton, Sigmoid as activation function and binary  cross entropoy as loss function used for binary classification\n",
        "model.add(Dense(1, activation='sigmoid'))\n",
        "model.compile(optimizer=tf.keras.optimizers.Adam(lr = 0.01), loss='binary_crossentropy', metrics=['accuracy'])\n",
        "model.summary()"
      ],
      "execution_count": null,
      "outputs": [
        {
          "output_type": "stream",
          "text": [
            "Model: \"sequential\"\n",
            "_________________________________________________________________\n",
            "Layer (type)                 Output Shape              Param #   \n",
            "=================================================================\n",
            "embedding (Embedding)        (None, 152, 100)          3088500   \n",
            "_________________________________________________________________\n",
            "bidirectional (Bidirectional (None, 256)               234496    \n",
            "_________________________________________________________________\n",
            "dense (Dense)                (None, 64)                16448     \n",
            "_________________________________________________________________\n",
            "dropout (Dropout)            (None, 64)                0         \n",
            "_________________________________________________________________\n",
            "dense_1 (Dense)              (None, 32)                2080      \n",
            "_________________________________________________________________\n",
            "dropout_1 (Dropout)          (None, 32)                0         \n",
            "_________________________________________________________________\n",
            "dense_2 (Dense)              (None, 1)                 33        \n",
            "=================================================================\n",
            "Total params: 3,341,557\n",
            "Trainable params: 3,341,557\n",
            "Non-trainable params: 0\n",
            "_________________________________________________________________\n"
          ],
          "name": "stdout"
        }
      ]
    },
    {
      "cell_type": "markdown",
      "metadata": {
        "id": "iRAQG72E3gpy"
      },
      "source": [
        "#### STEP10. Fit the model and check the validation accuracy"
      ]
    },
    {
      "cell_type": "code",
      "metadata": {
        "id": "qjgz4vVGPba8"
      },
      "source": [
        "# save the best model to the checkpoint\n",
        "checkpoint = tf.keras.callbacks.ModelCheckpoint('lstm.h5', #where to save the model\n",
        "                                                save_best_only=True, \n",
        "                                                monitor='val_accuracy',\n",
        "                                                mode='max',\n",
        "                                                save_weights_only=False,\n",
        "                                                verbose = 1)"
      ],
      "execution_count": null,
      "outputs": []
    },
    {
      "cell_type": "code",
      "metadata": {
        "id": "UnPAnpMhSNIg"
      },
      "source": [
        "def plot_accuracy(history):\n",
        "  plt.plot(history.history['accuracy'], label='training_accuracy')\n",
        "  plt.plot(history.history['val_accuracy'], label='validation_accuracy')\n",
        "  #plt.ylim([0, 10])\n",
        "  plt.xlabel('Epoch')\n",
        "  plt.ylabel('accuracy')\n",
        "  plt.legend(['training', 'validation'], loc='best')\n",
        "  plt.grid(True)\n",
        "\n",
        "def plot_loss(history):\n",
        "  plt.plot(history.history['loss'], label='training_loss')\n",
        "  plt.plot(history.history['val_loss'], label='validation_loss')\n",
        "  #plt.ylim([0, 10])\n",
        "  plt.xlabel('Epoch')\n",
        "  plt.ylabel('loss')\n",
        "  plt.legend(['training', 'validation'], loc='best')\n",
        "  plt.grid(True)\n",
        "\n",
        "def plotting(name):\n",
        "  print('\\n')\n",
        "  print('\\033[1m',name)\n",
        "  plt.figure(figsize=(15,5))\n",
        "  #plt.rcParams.update({'font.size': 10})\n",
        "  plt.subplot(1,2,1)\n",
        "  # Accuracy vs Epochs\n",
        "  plot_accuracy(history)\n",
        "  plt.subplot(1,2,2)\n",
        "  # Loss vs Epochs\n",
        "  plot_loss(history)"
      ],
      "execution_count": null,
      "outputs": []
    },
    {
      "cell_type": "code",
      "metadata": {
        "colab": {
          "base_uri": "https://localhost:8080/",
          "height": 1000
        },
        "id": "CMj_AnQbPlll",
        "outputId": "5ec1b62d-ff6b-422b-a289-e7c609331572"
      },
      "source": [
        "history = model.fit(X_train, y_train, epochs=10,validation_data=(X_test, y_test),callbacks=[checkpoint])\n",
        "# Scores achieved for the model # achieved at epoch\n",
        "best_epoch = pd.DataFrame(history.history['val_accuracy']).idxmax().values\n",
        "validation_accuracy = pd.DataFrame(history.history['val_accuracy']).iloc[best_epoch,0]\n",
        "Train_accuracy = pd.DataFrame(history.history['accuracy']).iloc[best_epoch,0]\n",
        "validation_loss = pd.DataFrame(history.history['val_loss']).iloc[best_epoch,0]\n",
        "Train_loss = pd.DataFrame(history.history['loss']).iloc[best_epoch,0]\n",
        "plotting('BidirectionRNN_Model')\n",
        "print('Training Accuracy: %.2f and loss: %.2f' %(Train_accuracy*100, Train_loss)  )\n",
        "print('Validation Accuracy: %.2f and loss :%.2f' %(validation_accuracy*100, validation_loss))"
      ],
      "execution_count": null,
      "outputs": [
        {
          "output_type": "stream",
          "text": [
            "Epoch 1/10\n",
            "624/624 [==============================] - 32s 44ms/step - loss: 0.5222 - accuracy: 0.7501 - val_loss: 0.3613 - val_accuracy: 0.8563\n",
            "\n",
            "Epoch 00001: val_accuracy improved from -inf to 0.85627, saving model to lstm.h5\n",
            "Epoch 2/10\n",
            "624/624 [==============================] - 26s 41ms/step - loss: 0.3024 - accuracy: 0.8897 - val_loss: 0.3365 - val_accuracy: 0.8627\n",
            "\n",
            "Epoch 00002: val_accuracy improved from 0.85627 to 0.86271, saving model to lstm.h5\n",
            "Epoch 3/10\n",
            "624/624 [==============================] - 25s 41ms/step - loss: 0.2034 - accuracy: 0.9281 - val_loss: 0.4213 - val_accuracy: 0.8598\n",
            "\n",
            "Epoch 00003: val_accuracy did not improve from 0.86271\n",
            "Epoch 4/10\n",
            "624/624 [==============================] - 26s 41ms/step - loss: 0.1509 - accuracy: 0.9493 - val_loss: 0.4997 - val_accuracy: 0.8541\n",
            "\n",
            "Epoch 00004: val_accuracy did not improve from 0.86271\n",
            "Epoch 5/10\n",
            "624/624 [==============================] - 26s 41ms/step - loss: 0.1217 - accuracy: 0.9610 - val_loss: 0.6758 - val_accuracy: 0.8504\n",
            "\n",
            "Epoch 00005: val_accuracy did not improve from 0.86271\n",
            "Epoch 6/10\n",
            "624/624 [==============================] - 25s 41ms/step - loss: 0.1042 - accuracy: 0.9666 - val_loss: 0.6226 - val_accuracy: 0.8431\n",
            "\n",
            "Epoch 00006: val_accuracy did not improve from 0.86271\n",
            "Epoch 7/10\n",
            "624/624 [==============================] - 25s 40ms/step - loss: 0.0949 - accuracy: 0.9713 - val_loss: 0.6492 - val_accuracy: 0.8494\n",
            "\n",
            "Epoch 00007: val_accuracy did not improve from 0.86271\n",
            "Epoch 8/10\n",
            "624/624 [==============================] - 25s 40ms/step - loss: 0.0909 - accuracy: 0.9716 - val_loss: 0.7928 - val_accuracy: 0.8500\n",
            "\n",
            "Epoch 00008: val_accuracy did not improve from 0.86271\n",
            "Epoch 9/10\n",
            "624/624 [==============================] - 25s 40ms/step - loss: 0.0786 - accuracy: 0.9749 - val_loss: 1.3273 - val_accuracy: 0.8461\n",
            "\n",
            "Epoch 00009: val_accuracy did not improve from 0.86271\n",
            "Epoch 10/10\n",
            "624/624 [==============================] - 25s 40ms/step - loss: 0.0818 - accuracy: 0.9732 - val_loss: 1.3213 - val_accuracy: 0.8452\n",
            "\n",
            "Epoch 00010: val_accuracy did not improve from 0.86271\n",
            "\n",
            "\n",
            "\u001b[1m BidirectionRNN_Model\n",
            "Training Accuracy: 88.97 and loss: 0.30\n",
            "Validation Accuracy: 86.27 and loss :0.34\n"
          ],
          "name": "stdout"
        },
        {
          "output_type": "display_data",
          "data": {
            "image/png": "[encoded data removed]",
            "text/plain": [
              "<Figure size 1080x360 with 2 Axes>"
            ]
          },
          "metadata": {
            "tags": [],
            "needs_background": "light"
          }
        }
      ]
    },
    {
      "cell_type": "code",
      "metadata": {
        "colab": {
          "base_uri": "https://localhost:8080/"
        },
        "id": "LhAF4aorUidP",
        "outputId": "3fe37985-1206-4a2c-c7ea-8c9edadf1bb9"
      },
      "source": [
        "predicted = model.predict_classes(X_test)\n",
        "predicted[:5]"
      ],
      "execution_count": null,
      "outputs": [
        {
          "output_type": "execute_result",
          "data": {
            "text/plain": [
              "array([[0],\n",
              "       [0],\n",
              "       [0],\n",
              "       [0],\n",
              "       [1]], dtype=int32)"
            ]
          },
          "metadata": {
            "tags": []
          },
          "execution_count": 31
        }
      ]
    },
    {
      "cell_type": "code",
      "metadata": {
        "colab": {
          "base_uri": "https://localhost:8080/"
        },
        "id": "CwWJqA_7Um8G",
        "outputId": "3ae1273a-95dc-40b7-baec-a798917157d2"
      },
      "source": [
        "from sklearn.metrics import classification_report,confusion_matrix\n",
        "print(classification_report(y_test, predicted, target_names = ['Otherwise','Sarcastic']))"
      ],
      "execution_count": null,
      "outputs": [
        {
          "output_type": "stream",
          "text": [
            "              precision    recall  f1-score   support\n",
            "\n",
            "   Otherwise       0.84      0.87      0.85      4440\n",
            "   Sarcastic       0.85      0.82      0.84      4111\n",
            "\n",
            "    accuracy                           0.85      8551\n",
            "   macro avg       0.85      0.84      0.84      8551\n",
            "weighted avg       0.85      0.85      0.84      8551\n",
            "\n"
          ],
          "name": "stdout"
        }
      ]
    },
    {
      "cell_type": "code",
      "metadata": {
        "colab": {
          "base_uri": "https://localhost:8080/",
          "height": 337
        },
        "id": "JsCDfuLEU1e3",
        "outputId": "6183ec9f-21a9-4289-f956-eab3c29a7305"
      },
      "source": [
        "cm = confusion_matrix(y_test,predicted)\n",
        "df = pd.DataFrame(cm , index = ['Otherwise','Sarcastic'] , columns = ['Otherwise','Sarcastic'])\n",
        "plt.figure(figsize = (5,5))\n",
        "sns.heatmap(df,cmap= \"Blues\", linecolor = 'black' , linewidth = 0.1 , annot = True, fmt='' , \n",
        "            xticklabels = ['Otherwise','Sarcastic'] , yticklabels = ['Otherwise','Sarcastic'])"
      ],
      "execution_count": null,
      "outputs": [
        {
          "output_type": "execute_result",
          "data": {
            "text/plain": [
              "<matplotlib.axes._subplots.AxesSubplot at 0x7fa08ceb3210>"
            ]
          },
          "metadata": {
            "tags": []
          },
          "execution_count": 40
        },
        {
          "output_type": "display_data",
          "data": {
            "image/png": "[encoded data removed]",
            "text/plain": [
              "<Figure size 360x360 with 2 Axes>"
            ]
          },
          "metadata": {
            "tags": [],
            "needs_background": "light"
          }
        }
      ]
    },
    {
      "cell_type": "markdown",
      "metadata": {
        "id": "0YAxt1bCZi0e"
      },
      "source": [
        "* With the above model with 86.27% validation accuracy, we find 82% recall where 3365 sentences were correctly predicted as sarcastic sentences of actual 4111 sarcastic sentences.\n",
        "* The recall for otherwise sentences is higher 87% (3862 correctlt predicted of 4440 otherwise sentences. "
      ]
    },
    {
      "cell_type": "markdown",
      "metadata": {
        "id": "guIuYzV7WcZZ"
      },
      "source": [
        "## THANK YOU"
      ]
    }
  ]
}